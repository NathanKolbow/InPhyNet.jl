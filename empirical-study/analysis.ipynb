{
 "cells": [
  {
   "cell_type": "code",
   "execution_count": 3,
   "metadata": {},
   "outputs": [
    {
     "name": "stderr",
     "output_type": "stream",
     "text": [
      "\u001b[32m\u001b[1m  Activating\u001b[22m\u001b[39m project at `/mnt/dv/wid/projects4/SolisLemus-network-merging`\n",
      "\u001b[91m\u001b[1mERROR: \u001b[22m\u001b[39mLoadError: ArgumentError: Package InPhyNet does not have Clustering in its dependencies:\n",
      "- You may have a partially installed environment. Try `Pkg.instantiate()`\n",
      "  to ensure all packages in the environment are installed.\n",
      "- Or, if you have InPhyNet checked out for development and have\n",
      "  added Clustering as a dependency but haven't updated your primary\n",
      "  environment's manifest file, try `Pkg.resolve()`.\n",
      "- Otherwise you may need to report an issue with InPhyNet\n",
      "Stacktrace:\n",
      " [1] \u001b[0m\u001b[1mmacro expansion\u001b[22m\n",
      "\u001b[90m   @\u001b[39m \u001b[90m./\u001b[39m\u001b[90m\u001b[4mloading.jl:1634\u001b[24m\u001b[39m\u001b[90m [inlined]\u001b[39m\n",
      " [2] \u001b[0m\u001b[1mmacro expansion\u001b[22m\n",
      "\u001b[90m   @\u001b[39m \u001b[90m./\u001b[39m\u001b[90m\u001b[4mlock.jl:267\u001b[24m\u001b[39m\u001b[90m [inlined]\u001b[39m\n",
      " [3] \u001b[0m\u001b[1mrequire\u001b[22m\u001b[0m\u001b[1m(\u001b[22m\u001b[90minto\u001b[39m::\u001b[0mModule, \u001b[90mmod\u001b[39m::\u001b[0mSymbol\u001b[0m\u001b[1m)\u001b[22m\n",
      "\u001b[90m   @\u001b[39m \u001b[90mBase\u001b[39m \u001b[90m./\u001b[39m\u001b[90m\u001b[4mloading.jl:1611\u001b[24m\u001b[39m\n",
      " [4] \u001b[0m\u001b[1minclude\u001b[22m\u001b[0m\u001b[1m(\u001b[22m\u001b[90mmod\u001b[39m::\u001b[0mModule, \u001b[90m_path\u001b[39m::\u001b[0mString\u001b[0m\u001b[1m)\u001b[22m\n",
      "\u001b[90m   @\u001b[39m \u001b[90mBase\u001b[39m \u001b[90m./\u001b[39m\u001b[90m\u001b[4mBase.jl:457\u001b[24m\u001b[39m\n",
      " [5] \u001b[0m\u001b[1minclude\u001b[22m\u001b[0m\u001b[1m(\u001b[22m\u001b[90mx\u001b[39m::\u001b[0mString\u001b[0m\u001b[1m)\u001b[22m\n",
      "\u001b[90m   @\u001b[39m \u001b[35mInPhyNet\u001b[39m \u001b[90m/mnt/dv/wid/projects4/SolisLemus-network-merging/src/\u001b[39m\u001b[90m\u001b[4mInPhyNet.jl:1\u001b[24m\u001b[39m\n",
      " [6] top-level scope\n",
      "\u001b[90m   @\u001b[39m \u001b[90m/mnt/dv/wid/projects4/SolisLemus-network-merging/src/\u001b[39m\u001b[90m\u001b[4mInPhyNet.jl:16\u001b[24m\u001b[39m\n",
      " [7] \u001b[0m\u001b[1minclude\u001b[22m\n",
      "\u001b[90m   @\u001b[39m \u001b[90m./\u001b[39m\u001b[90m\u001b[4mBase.jl:457\u001b[24m\u001b[39m\u001b[90m [inlined]\u001b[39m\n",
      " [8] \u001b[0m\u001b[1minclude_package_for_output\u001b[22m\u001b[0m\u001b[1m(\u001b[22m\u001b[90mpkg\u001b[39m::\u001b[0mBase.PkgId, \u001b[90minput\u001b[39m::\u001b[0mString, \u001b[90mdepot_path\u001b[39m::\u001b[0mVector\u001b[90m{String}\u001b[39m, \u001b[90mdl_load_path\u001b[39m::\u001b[0mVector\u001b[90m{String}\u001b[39m, \u001b[90mload_path\u001b[39m::\u001b[0mVector\u001b[90m{String}\u001b[39m, \u001b[90mconcrete_deps\u001b[39m::\u001b[0mVector\u001b[90m{Pair{Base.PkgId, UInt128}}\u001b[39m, \u001b[90msource\u001b[39m::\u001b[0mString\u001b[0m\u001b[1m)\u001b[22m\n",
      "\u001b[90m   @\u001b[39m \u001b[90mBase\u001b[39m \u001b[90m./\u001b[39m\u001b[90m\u001b[4mloading.jl:2049\u001b[24m\u001b[39m\n",
      " [9] top-level scope\n",
      "\u001b[90m   @\u001b[39m \u001b[90m\u001b[4mstdin:3\u001b[24m\u001b[39m\n",
      "in expression starting at /mnt/dv/wid/projects4/SolisLemus-network-merging/src/inphynet/subsetdecomp/njhierarchdecomp.jl:1\n",
      "in expression starting at /mnt/dv/wid/projects4/SolisLemus-network-merging/src/InPhyNet.jl:1\n",
      "in expression starting at stdin:3\n"
     ]
    },
    {
     "ename": "ErrorException",
     "evalue": "Failed to precompile InPhyNet [7d272db0-e1ce-47ab-9b64-d0002ca9962f] to \"/mnt/ws/home/nkolbow/.julia/compiled/v1.9/InPhyNet/jl_X0dEix\".",
     "output_type": "error",
     "traceback": [
      "Failed to precompile InPhyNet [7d272db0-e1ce-47ab-9b64-d0002ca9962f] to \"/mnt/ws/home/nkolbow/.julia/compiled/v1.9/InPhyNet/jl_X0dEix\".\n",
      "\n",
      "Stacktrace:\n",
      "  [1] error(s::String)\n",
      "    @ Base ./error.jl:35\n",
      "  [2] compilecache(pkg::Base.PkgId, path::String, internal_stderr::IO, internal_stdout::IO, keep_loaded_modules::Bool)\n",
      "    @ Base ./loading.jl:2300\n",
      "  [3] compilecache\n",
      "    @ ./loading.jl:2167 [inlined]\n",
      "  [4] _require(pkg::Base.PkgId, env::String)\n",
      "    @ Base ./loading.jl:1805\n",
      "  [5] _require_prelocked(uuidkey::Base.PkgId, env::String)\n",
      "    @ Base ./loading.jl:1660\n",
      "  [6] macro expansion\n",
      "    @ ./loading.jl:1648 [inlined]\n",
      "  [7] macro expansion\n",
      "    @ ./lock.jl:267 [inlined]\n",
      "  [8] require(into::Module, mod::Symbol)\n",
      "    @ Base ./loading.jl:1611\n",
      "  [9] eval\n",
      "    @ ./boot.jl:370 [inlined]\n",
      " [10] include_string(mapexpr::typeof(REPL.softscope), mod::Module, code::String, filename::String)\n",
      "    @ Base ./loading.jl:1903\n",
      " [11] #invokelatest#2\n",
      "    @ ./essentials.jl:819 [inlined]\n",
      " [12] invokelatest\n",
      "    @ ./essentials.jl:816 [inlined]\n",
      " [13] (::VSCodeServer.var\"#219#220\"{VSCodeServer.NotebookRunCellArguments, String})()\n",
      "    @ VSCodeServer ~/.vscode-server/extensions/julialang.language-julia-1.79.2/scripts/packages/VSCodeServer/src/serve_notebook.jl:19\n",
      " [14] withpath(f::VSCodeServer.var\"#219#220\"{VSCodeServer.NotebookRunCellArguments, String}, path::String)\n",
      "    @ VSCodeServer ~/.vscode-server/extensions/julialang.language-julia-1.79.2/scripts/packages/VSCodeServer/src/repl.jl:276\n",
      " [15] notebook_runcell_request(conn::VSCodeServer.JSONRPC.JSONRPCEndpoint{Base.PipeEndpoint, Base.PipeEndpoint}, params::VSCodeServer.NotebookRunCellArguments)\n",
      "    @ VSCodeServer ~/.vscode-server/extensions/julialang.language-julia-1.79.2/scripts/packages/VSCodeServer/src/serve_notebook.jl:13\n",
      " [16] dispatch_msg(x::VSCodeServer.JSONRPC.JSONRPCEndpoint{Base.PipeEndpoint, Base.PipeEndpoint}, dispatcher::VSCodeServer.JSONRPC.MsgDispatcher, msg::Dict{String, Any})\n",
      "    @ VSCodeServer.JSONRPC ~/.vscode-server/extensions/julialang.language-julia-1.79.2/scripts/packages/JSONRPC/src/typed.jl:67\n",
      " [17] serve_notebook(pipename::String, outputchannel_logger::Base.CoreLogging.SimpleLogger; crashreporting_pipename::String)\n",
      "    @ VSCodeServer ~/.vscode-server/extensions/julialang.language-julia-1.79.2/scripts/packages/VSCodeServer/src/serve_notebook.jl:139\n",
      " [18] top-level scope\n",
      "    @ ~/.vscode-server/extensions/julialang.language-julia-1.79.2/scripts/notebook/notebook.jl:35"
     ]
    }
   ],
   "source": [
    "using Pkg\n",
    "Pkg.activate(\"/mnt/dv/wid/projects4/SolisLemus-network-merging/\")\n",
    "\n",
    "using InPhyNet, PhyloNetworks\n",
    "base_dir = \"/mnt/dv/wid/projects4/SolisLemus-network-merging/empirical-study/\"\n",
    "include(\"/mnt/dv/wid/projects4/SolisLemus-network-merging/simulation-study/simulation-scripts/helpers/helpers.jl\")\n",
    "include(\"/mnt/dv/wid/projects4/SolisLemus-network-merging/simulation-study/simulation-scripts/helpers/est_constraints-helpers.jl\")"
   ]
  },
  {
   "cell_type": "markdown",
   "metadata": {},
   "source": [
    "#### Load and Examine Data"
   ]
  },
  {
   "cell_type": "code",
   "execution_count": 2,
   "metadata": {},
   "outputs": [
    {
     "data": {
      "text/plain": [
       "410"
      ]
     },
     "metadata": {},
     "output_type": "display_data"
    }
   ],
   "source": [
    "est_gts = readMultiTopology(joinpath(base_dir, \"data\", \"Best.FAA.tre\"))\n",
    "length(est_gts)"
   ]
  },
  {
   "cell_type": "markdown",
   "metadata": {},
   "source": [
    "*Lots* of spread in the estimated gene trees on who is included"
   ]
  },
  {
   "cell_type": "code",
   "execution_count": 3,
   "metadata": {},
   "outputs": [
    {
     "name": "stderr",
     "output_type": "stream",
     "text": [
      "\u001b[33m\u001b[1m┌ \u001b[22m\u001b[39m\u001b[33m\u001b[1mWarning: \u001b[22m\u001b[39mbackend `GR` is not installed.\n",
      "\u001b[33m\u001b[1m└ \u001b[22m\u001b[39m\u001b[90m@ Plots ~/.julia/packages/Plots/sxUvK/src/backends.jl:43\u001b[39m\n"
     ]
    },
    {
     "name": "stdout",
     "output_type": "stream",
     "text": [
      "min: 38, max: 1131\n",
      "total unique names: 1178\n"
     ]
    },
    {
     "data": {
      "image/png": "[encoded data removed]",
      "image/svg+xml": [
       "<?xml version=\"1.0\" encoding=\"utf-8\"?>\n",
       "<svg xmlns=\"http://www.w3.org/2000/svg\" xmlns:xlink=\"http://www.w3.org/1999/xlink\" width=\"600\" height=\"400\" viewBox=\"0 0 2400 1600\">\n",
       "<defs>\n",
       "  <clipPath id=\"clip400\">\n",
       "    <rect x=\"0\" y=\"0\" width=\"2400\" height=\"1600\"/>\n",
       "  </clipPath>\n",
       "</defs>\n",
       "<path clip-path=\"url(#clip400)\" d=\"M0 1600 L2400 1600 L2400 0 L0 0  Z\" fill=\"#ffffff\" fill-rule=\"evenodd\" fill-opacity=\"1\"/>\n",
       "<defs>\n",
       "  <clipPath id=\"clip401\">\n",
       "    <rect x=\"480\" y=\"0\" width=\"1681\" height=\"1600\"/>\n",
       "  </clipPath>\n",
       "</defs>\n",
       "<path clip-path=\"url(#clip400)\" d=\"M199.283 1486.45 L2352.76 1486.45 L2352.76 47.2441 L199.283 47.2441  Z\" fill=\"#ffffff\" fill-rule=\"evenodd\" fill-opacity=\"1\"/>\n",
       "<defs>\n",
       "  <clipPath id=\"clip402\">\n",
       "    <rect x=\"199\" y=\"47\" width=\"2154\" height=\"1440\"/>\n",
       "  </clipPath>\n",
       "</defs>\n",
       "<polyline clip-path=\"url(#clip402)\" style=\"stroke:#000000; stroke-linecap:round; stroke-linejoin:round; stroke-width:2; stroke-opacity:0.1; fill:none\" points=\"260.231,1486.45 260.231,47.2441 \"/>\n",
       "<polyline clip-path=\"url(#clip402)\" style=\"stroke:#000000; stroke-linecap:round; stroke-linejoin:round; stroke-width:2; stroke-opacity:0.1; fill:none\" points=\"768.125,1486.45 768.125,47.2441 \"/>\n",
       "<polyline clip-path=\"url(#clip402)\" style=\"stroke:#000000; stroke-linecap:round; stroke-linejoin:round; stroke-width:2; stroke-opacity:0.1; fill:none\" points=\"1276.02,1486.45 1276.02,47.2441 \"/>\n",
       "<polyline clip-path=\"url(#clip402)\" style=\"stroke:#000000; stroke-linecap:round; stroke-linejoin:round; stroke-width:2; stroke-opacity:0.1; fill:none\" points=\"1783.91,1486.45 1783.91,47.2441 \"/>\n",
       "<polyline clip-path=\"url(#clip402)\" style=\"stroke:#000000; stroke-linecap:round; stroke-linejoin:round; stroke-width:2; stroke-opacity:0.1; fill:none\" points=\"2291.81,1486.45 2291.81,47.2441 \"/>\n",
       "<polyline clip-path=\"url(#clip400)\" style=\"stroke:#000000; stroke-linecap:round; stroke-linejoin:round; stroke-width:4; stroke-opacity:1; fill:none\" points=\"199.283,1486.45 2352.76,1486.45 \"/>\n",
       "<polyline clip-path=\"url(#clip400)\" style=\"stroke:#000000; stroke-linecap:round; stroke-linejoin:round; stroke-width:4; stroke-opacity:1; fill:none\" points=\"260.231,1486.45 260.231,1467.55 \"/>\n",
       "<polyline clip-path=\"url(#clip400)\" style=\"stroke:#000000; stroke-linecap:round; stroke-linejoin:round; stroke-width:4; stroke-opacity:1; fill:none\" points=\"768.125,1486.45 768.125,1467.55 \"/>\n",
       "<polyline clip-path=\"url(#clip400)\" style=\"stroke:#000000; stroke-linecap:round; stroke-linejoin:round; stroke-width:4; stroke-opacity:1; fill:none\" points=\"1276.02,1486.45 1276.02,1467.55 \"/>\n",
       "<polyline clip-path=\"url(#clip400)\" style=\"stroke:#000000; stroke-linecap:round; stroke-linejoin:round; stroke-width:4; stroke-opacity:1; fill:none\" points=\"1783.91,1486.45 1783.91,1467.55 \"/>\n",
       "<polyline clip-path=\"url(#clip400)\" style=\"stroke:#000000; stroke-linecap:round; stroke-linejoin:round; stroke-width:4; stroke-opacity:1; fill:none\" points=\"2291.81,1486.45 2291.81,1467.55 \"/>\n",
       "<path clip-path=\"url(#clip400)\" d=\"M237.534 1517.37 Q233.923 1517.37 232.094 1520.93 Q230.289 1524.47 230.289 1531.6 Q230.289 1538.71 232.094 1542.27 Q233.923 1545.82 237.534 1545.82 Q241.168 1545.82 242.974 1542.27 Q244.802 1538.71 244.802 1531.6 Q244.802 1524.47 242.974 1520.93 Q241.168 1517.37 237.534 1517.37 M237.534 1513.66 Q243.344 1513.66 246.4 1518.27 Q249.478 1522.85 249.478 1531.6 Q249.478 1540.33 246.4 1544.94 Q243.344 1549.52 237.534 1549.52 Q231.724 1549.52 228.645 1544.94 Q225.59 1540.33 225.59 1531.6 Q225.59 1522.85 228.645 1518.27 Q231.724 1513.66 237.534 1513.66 Z\" fill=\"#000000\" fill-rule=\"nonzero\" fill-opacity=\"1\" /><path clip-path=\"url(#clip400)\" d=\"M257.696 1542.97 L262.58 1542.97 L262.58 1548.85 L257.696 1548.85 L257.696 1542.97 Z\" fill=\"#000000\" fill-rule=\"nonzero\" fill-opacity=\"1\" /><path clip-path=\"url(#clip400)\" d=\"M283.344 1529.7 Q280.196 1529.7 278.344 1531.86 Q276.515 1534.01 276.515 1537.76 Q276.515 1541.49 278.344 1543.66 Q280.196 1545.82 283.344 1545.82 Q286.492 1545.82 288.321 1543.66 Q290.173 1541.49 290.173 1537.76 Q290.173 1534.01 288.321 1531.86 Q286.492 1529.7 283.344 1529.7 M292.626 1515.05 L292.626 1519.31 Q290.867 1518.48 289.061 1518.04 Q287.279 1517.6 285.52 1517.6 Q280.89 1517.6 278.436 1520.72 Q276.006 1523.85 275.659 1530.17 Q277.024 1528.15 279.085 1527.09 Q281.145 1526 283.622 1526 Q288.83 1526 291.839 1529.17 Q294.872 1532.32 294.872 1537.76 Q294.872 1543.08 291.723 1546.3 Q288.575 1549.52 283.344 1549.52 Q277.348 1549.52 274.177 1544.94 Q271.006 1540.33 271.006 1531.6 Q271.006 1523.41 274.895 1518.55 Q278.784 1513.66 285.335 1513.66 Q287.094 1513.66 288.876 1514.01 Q290.682 1514.36 292.626 1515.05 Z\" fill=\"#000000\" fill-rule=\"nonzero\" fill-opacity=\"1\" /><path clip-path=\"url(#clip400)\" d=\"M745.556 1517.37 Q741.945 1517.37 740.116 1520.93 Q738.31 1524.47 738.31 1531.6 Q738.31 1538.71 740.116 1542.27 Q741.945 1545.82 745.556 1545.82 Q749.19 1545.82 750.996 1542.27 Q752.824 1538.71 752.824 1531.6 Q752.824 1524.47 750.996 1520.93 Q749.19 1517.37 745.556 1517.37 M745.556 1513.66 Q751.366 1513.66 754.421 1518.27 Q757.5 1522.85 757.5 1531.6 Q757.5 1540.33 754.421 1544.94 Q751.366 1549.52 745.556 1549.52 Q739.746 1549.52 736.667 1544.94 Q733.611 1540.33 733.611 1531.6 Q733.611 1522.85 736.667 1518.27 Q739.746 1513.66 745.556 1513.66 Z\" fill=\"#000000\" fill-rule=\"nonzero\" fill-opacity=\"1\" /><path clip-path=\"url(#clip400)\" d=\"M765.718 1542.97 L770.602 1542.97 L770.602 1548.85 L765.718 1548.85 L765.718 1542.97 Z\" fill=\"#000000\" fill-rule=\"nonzero\" fill-opacity=\"1\" /><path clip-path=\"url(#clip400)\" d=\"M790.787 1532.44 Q787.454 1532.44 785.532 1534.22 Q783.634 1536 783.634 1539.13 Q783.634 1542.25 785.532 1544.03 Q787.454 1545.82 790.787 1545.82 Q794.12 1545.82 796.042 1544.03 Q797.963 1542.23 797.963 1539.13 Q797.963 1536 796.042 1534.22 Q794.143 1532.44 790.787 1532.44 M786.111 1530.45 Q783.102 1529.7 781.412 1527.64 Q779.745 1525.58 779.745 1522.62 Q779.745 1518.48 782.685 1516.07 Q785.648 1513.66 790.787 1513.66 Q795.949 1513.66 798.889 1516.07 Q801.829 1518.48 801.829 1522.62 Q801.829 1525.58 800.139 1527.64 Q798.472 1529.7 795.486 1530.45 Q798.866 1531.23 800.741 1533.52 Q802.639 1535.82 802.639 1539.13 Q802.639 1544.15 799.56 1546.83 Q796.505 1549.52 790.787 1549.52 Q785.069 1549.52 781.991 1546.83 Q778.935 1544.15 778.935 1539.13 Q778.935 1535.82 780.833 1533.52 Q782.731 1531.23 786.111 1530.45 M784.398 1523.06 Q784.398 1525.75 786.065 1527.25 Q787.755 1528.76 790.787 1528.76 Q793.796 1528.76 795.486 1527.25 Q797.199 1525.75 797.199 1523.06 Q797.199 1520.38 795.486 1518.87 Q793.796 1517.37 790.787 1517.37 Q787.755 1517.37 786.065 1518.87 Q784.398 1520.38 784.398 1523.06 Z\" fill=\"#000000\" fill-rule=\"nonzero\" fill-opacity=\"1\" /><path clip-path=\"url(#clip400)\" d=\"M1243.17 1544.91 L1250.81 1544.91 L1250.81 1518.55 L1242.5 1520.21 L1242.5 1515.95 L1250.77 1514.29 L1255.44 1514.29 L1255.44 1544.91 L1263.08 1544.91 L1263.08 1548.85 L1243.17 1548.85 L1243.17 1544.91 Z\" fill=\"#000000\" fill-rule=\"nonzero\" fill-opacity=\"1\" /><path clip-path=\"url(#clip400)\" d=\"M1272.52 1542.97 L1277.41 1542.97 L1277.41 1548.85 L1272.52 1548.85 L1272.52 1542.97 Z\" fill=\"#000000\" fill-rule=\"nonzero\" fill-opacity=\"1\" /><path clip-path=\"url(#clip400)\" d=\"M1297.59 1517.37 Q1293.98 1517.37 1292.15 1520.93 Q1290.35 1524.47 1290.35 1531.6 Q1290.35 1538.71 1292.15 1542.27 Q1293.98 1545.82 1297.59 1545.82 Q1301.23 1545.82 1303.03 1542.27 Q1304.86 1538.71 1304.86 1531.6 Q1304.86 1524.47 1303.03 1520.93 Q1301.23 1517.37 1297.59 1517.37 M1297.59 1513.66 Q1303.4 1513.66 1306.46 1518.27 Q1309.54 1522.85 1309.54 1531.6 Q1309.54 1540.33 1306.46 1544.94 Q1303.4 1549.52 1297.59 1549.52 Q1291.78 1549.52 1288.7 1544.94 Q1285.65 1540.33 1285.65 1531.6 Q1285.65 1522.85 1288.7 1518.27 Q1291.78 1513.66 1297.59 1513.66 Z\" fill=\"#000000\" fill-rule=\"nonzero\" fill-opacity=\"1\" /><path clip-path=\"url(#clip400)\" d=\"M1751.87 1544.91 L1759.5 1544.91 L1759.5 1518.55 L1751.19 1520.21 L1751.19 1515.95 L1759.46 1514.29 L1764.13 1514.29 L1764.13 1544.91 L1771.77 1544.91 L1771.77 1548.85 L1751.87 1548.85 L1751.87 1544.91 Z\" fill=\"#000000\" fill-rule=\"nonzero\" fill-opacity=\"1\" /><path clip-path=\"url(#clip400)\" d=\"M1781.22 1542.97 L1786.1 1542.97 L1786.1 1548.85 L1781.22 1548.85 L1781.22 1542.97 Z\" fill=\"#000000\" fill-rule=\"nonzero\" fill-opacity=\"1\" /><path clip-path=\"url(#clip400)\" d=\"M1800.31 1544.91 L1816.63 1544.91 L1816.63 1548.85 L1794.69 1548.85 L1794.69 1544.91 Q1797.35 1542.16 1801.93 1537.53 Q1806.54 1532.88 1807.72 1531.53 Q1809.97 1529.01 1810.85 1527.27 Q1811.75 1525.51 1811.75 1523.82 Q1811.75 1521.07 1809.81 1519.33 Q1807.88 1517.6 1804.78 1517.6 Q1802.58 1517.6 1800.13 1518.36 Q1797.7 1519.13 1794.92 1520.68 L1794.92 1515.95 Q1797.75 1514.82 1800.2 1514.24 Q1802.65 1513.66 1804.69 1513.66 Q1810.06 1513.66 1813.25 1516.35 Q1816.45 1519.03 1816.45 1523.52 Q1816.45 1525.65 1815.64 1527.57 Q1814.85 1529.47 1812.74 1532.07 Q1812.17 1532.74 1809.06 1535.95 Q1805.96 1539.15 1800.31 1544.91 Z\" fill=\"#000000\" fill-rule=\"nonzero\" fill-opacity=\"1\" /><path clip-path=\"url(#clip400)\" d=\"M2258.72 1544.91 L2266.36 1544.91 L2266.36 1518.55 L2258.05 1520.21 L2258.05 1515.95 L2266.31 1514.29 L2270.99 1514.29 L2270.99 1544.91 L2278.63 1544.91 L2278.63 1548.85 L2258.72 1548.85 L2258.72 1544.91 Z\" fill=\"#000000\" fill-rule=\"nonzero\" fill-opacity=\"1\" /><path clip-path=\"url(#clip400)\" d=\"M2288.07 1542.97 L2292.95 1542.97 L2292.95 1548.85 L2288.07 1548.85 L2288.07 1542.97 Z\" fill=\"#000000\" fill-rule=\"nonzero\" fill-opacity=\"1\" /><path clip-path=\"url(#clip400)\" d=\"M2315.99 1518.36 L2304.18 1536.81 L2315.99 1536.81 L2315.99 1518.36 M2314.76 1514.29 L2320.64 1514.29 L2320.64 1536.81 L2325.57 1536.81 L2325.57 1540.7 L2320.64 1540.7 L2320.64 1548.85 L2315.99 1548.85 L2315.99 1540.7 L2300.38 1540.7 L2300.38 1536.19 L2314.76 1514.29 Z\" fill=\"#000000\" fill-rule=\"nonzero\" fill-opacity=\"1\" /><polyline clip-path=\"url(#clip402)\" style=\"stroke:#000000; stroke-linecap:round; stroke-linejoin:round; stroke-width:2; stroke-opacity:0.1; fill:none\" points=\"199.283,1244.48 2352.76,1244.48 \"/>\n",
       "<polyline clip-path=\"url(#clip402)\" style=\"stroke:#000000; stroke-linecap:round; stroke-linejoin:round; stroke-width:2; stroke-opacity:0.1; fill:none\" points=\"199.283,996.034 2352.76,996.034 \"/>\n",
       "<polyline clip-path=\"url(#clip402)\" style=\"stroke:#000000; stroke-linecap:round; stroke-linejoin:round; stroke-width:2; stroke-opacity:0.1; fill:none\" points=\"199.283,747.592 2352.76,747.592 \"/>\n",
       "<polyline clip-path=\"url(#clip402)\" style=\"stroke:#000000; stroke-linecap:round; stroke-linejoin:round; stroke-width:2; stroke-opacity:0.1; fill:none\" points=\"199.283,499.149 2352.76,499.149 \"/>\n",
       "<polyline clip-path=\"url(#clip402)\" style=\"stroke:#000000; stroke-linecap:round; stroke-linejoin:round; stroke-width:2; stroke-opacity:0.1; fill:none\" points=\"199.283,250.706 2352.76,250.706 \"/>\n",
       "<polyline clip-path=\"url(#clip400)\" style=\"stroke:#000000; stroke-linecap:round; stroke-linejoin:round; stroke-width:4; stroke-opacity:1; fill:none\" points=\"199.283,1486.45 199.283,47.2441 \"/>\n",
       "<polyline clip-path=\"url(#clip400)\" style=\"stroke:#000000; stroke-linecap:round; stroke-linejoin:round; stroke-width:4; stroke-opacity:1; fill:none\" points=\"199.283,1244.48 218.181,1244.48 \"/>\n",
       "<polyline clip-path=\"url(#clip400)\" style=\"stroke:#000000; stroke-linecap:round; stroke-linejoin:round; stroke-width:4; stroke-opacity:1; fill:none\" points=\"199.283,996.034 218.181,996.034 \"/>\n",
       "<polyline clip-path=\"url(#clip400)\" style=\"stroke:#000000; stroke-linecap:round; stroke-linejoin:round; stroke-width:4; stroke-opacity:1; fill:none\" points=\"199.283,747.592 218.181,747.592 \"/>\n",
       "<polyline clip-path=\"url(#clip400)\" style=\"stroke:#000000; stroke-linecap:round; stroke-linejoin:round; stroke-width:4; stroke-opacity:1; fill:none\" points=\"199.283,499.149 218.181,499.149 \"/>\n",
       "<polyline clip-path=\"url(#clip400)\" style=\"stroke:#000000; stroke-linecap:round; stroke-linejoin:round; stroke-width:4; stroke-opacity:1; fill:none\" points=\"199.283,250.706 218.181,250.706 \"/>\n",
       "<path clip-path=\"url(#clip400)\" d=\"M85.0429 1257.82 L101.362 1257.82 L101.362 1261.76 L79.4179 1261.76 L79.4179 1257.82 Q82.0799 1255.07 86.6632 1250.44 Q91.2697 1245.78 92.4502 1244.44 Q94.6956 1241.92 95.5752 1240.18 Q96.478 1238.42 96.478 1236.73 Q96.478 1233.98 94.5336 1232.24 Q92.6123 1230.51 89.5104 1230.51 Q87.3114 1230.51 84.8577 1231.27 Q82.4271 1232.04 79.6494 1233.59 L79.6494 1228.86 Q82.4734 1227.73 84.9271 1227.15 Q87.3808 1226.57 89.4178 1226.57 Q94.7882 1226.57 97.9826 1229.26 Q101.177 1231.94 101.177 1236.43 Q101.177 1238.56 100.367 1240.48 Q99.5798 1242.38 97.4734 1244.97 Q96.8947 1245.65 93.7928 1248.86 Q90.691 1252.06 85.0429 1257.82 Z\" fill=\"#000000\" fill-rule=\"nonzero\" fill-opacity=\"1\" /><path clip-path=\"url(#clip400)\" d=\"M121.177 1230.28 Q117.566 1230.28 115.737 1233.84 Q113.932 1237.38 113.932 1244.51 Q113.932 1251.62 115.737 1255.18 Q117.566 1258.72 121.177 1258.72 Q124.811 1258.72 126.617 1255.18 Q128.445 1251.62 128.445 1244.51 Q128.445 1237.38 126.617 1233.84 Q124.811 1230.28 121.177 1230.28 M121.177 1226.57 Q126.987 1226.57 130.043 1231.18 Q133.121 1235.76 133.121 1244.51 Q133.121 1253.24 130.043 1257.85 Q126.987 1262.43 121.177 1262.43 Q115.367 1262.43 112.288 1257.85 Q109.233 1253.24 109.233 1244.51 Q109.233 1235.76 112.288 1231.18 Q115.367 1226.57 121.177 1226.57 Z\" fill=\"#000000\" fill-rule=\"nonzero\" fill-opacity=\"1\" /><path clip-path=\"url(#clip400)\" d=\"M151.339 1230.28 Q147.728 1230.28 145.899 1233.84 Q144.093 1237.38 144.093 1244.51 Q144.093 1251.62 145.899 1255.18 Q147.728 1258.72 151.339 1258.72 Q154.973 1258.72 156.779 1255.18 Q158.607 1251.62 158.607 1244.51 Q158.607 1237.38 156.779 1233.84 Q154.973 1230.28 151.339 1230.28 M151.339 1226.57 Q157.149 1226.57 160.205 1231.18 Q163.283 1235.76 163.283 1244.51 Q163.283 1253.24 160.205 1257.85 Q157.149 1262.43 151.339 1262.43 Q145.529 1262.43 142.45 1257.85 Q139.394 1253.24 139.394 1244.51 Q139.394 1235.76 142.45 1231.18 Q145.529 1226.57 151.339 1226.57 Z\" fill=\"#000000\" fill-rule=\"nonzero\" fill-opacity=\"1\" /><path clip-path=\"url(#clip400)\" d=\"M93.8623 982.828 L82.0568 1001.28 L93.8623 1001.28 L93.8623 982.828 M92.6354 978.754 L98.515 978.754 L98.515 1001.28 L103.446 1001.28 L103.446 1005.17 L98.515 1005.17 L98.515 1013.31 L93.8623 1013.31 L93.8623 1005.17 L78.2605 1005.17 L78.2605 1000.65 L92.6354 978.754 Z\" fill=\"#000000\" fill-rule=\"nonzero\" fill-opacity=\"1\" /><path clip-path=\"url(#clip400)\" d=\"M121.177 981.833 Q117.566 981.833 115.737 985.398 Q113.932 988.94 113.932 996.069 Q113.932 1003.18 115.737 1006.74 Q117.566 1010.28 121.177 1010.28 Q124.811 1010.28 126.617 1006.74 Q128.445 1003.18 128.445 996.069 Q128.445 988.94 126.617 985.398 Q124.811 981.833 121.177 981.833 M121.177 978.129 Q126.987 978.129 130.043 982.736 Q133.121 987.319 133.121 996.069 Q133.121 1004.8 130.043 1009.4 Q126.987 1013.99 121.177 1013.99 Q115.367 1013.99 112.288 1009.4 Q109.233 1004.8 109.233 996.069 Q109.233 987.319 112.288 982.736 Q115.367 978.129 121.177 978.129 Z\" fill=\"#000000\" fill-rule=\"nonzero\" fill-opacity=\"1\" /><path clip-path=\"url(#clip400)\" d=\"M151.339 981.833 Q147.728 981.833 145.899 985.398 Q144.093 988.94 144.093 996.069 Q144.093 1003.18 145.899 1006.74 Q147.728 1010.28 151.339 1010.28 Q154.973 1010.28 156.779 1006.74 Q158.607 1003.18 158.607 996.069 Q158.607 988.94 156.779 985.398 Q154.973 981.833 151.339 981.833 M151.339 978.129 Q157.149 978.129 160.205 982.736 Q163.283 987.319 163.283 996.069 Q163.283 1004.8 160.205 1009.4 Q157.149 1013.99 151.339 1013.99 Q145.529 1013.99 142.45 1009.4 Q139.394 1004.8 139.394 996.069 Q139.394 987.319 142.45 982.736 Q145.529 978.129 151.339 978.129 Z\" fill=\"#000000\" fill-rule=\"nonzero\" fill-opacity=\"1\" /><path clip-path=\"url(#clip400)\" d=\"M91.5938 745.728 Q88.4456 745.728 86.5938 747.881 Q84.7651 750.034 84.7651 753.784 Q84.7651 757.511 86.5938 759.687 Q88.4456 761.839 91.5938 761.839 Q94.7419 761.839 96.5706 759.687 Q98.4224 757.511 98.4224 753.784 Q98.4224 750.034 96.5706 747.881 Q94.7419 745.728 91.5938 745.728 M100.876 731.076 L100.876 735.335 Q99.1169 734.501 97.3113 734.062 Q95.5289 733.622 93.7697 733.622 Q89.1401 733.622 86.6864 736.747 Q84.2558 739.872 83.9086 746.191 Q85.2743 744.177 87.3345 743.113 Q89.3947 742.025 91.8715 742.025 Q97.0798 742.025 100.089 745.196 Q103.121 748.344 103.121 753.784 Q103.121 759.108 99.9733 762.325 Q96.8252 765.543 91.5938 765.543 Q85.5984 765.543 82.4271 760.96 Q79.2559 756.353 79.2559 747.626 Q79.2559 739.432 83.1447 734.571 Q87.0336 729.687 93.5845 729.687 Q95.3437 729.687 97.1261 730.034 Q98.9317 730.381 100.876 731.076 Z\" fill=\"#000000\" fill-rule=\"nonzero\" fill-opacity=\"1\" /><path clip-path=\"url(#clip400)\" d=\"M121.177 733.39 Q117.566 733.39 115.737 736.955 Q113.932 740.497 113.932 747.626 Q113.932 754.733 115.737 758.298 Q117.566 761.839 121.177 761.839 Q124.811 761.839 126.617 758.298 Q128.445 754.733 128.445 747.626 Q128.445 740.497 126.617 736.955 Q124.811 733.39 121.177 733.39 M121.177 729.687 Q126.987 729.687 130.043 734.293 Q133.121 738.876 133.121 747.626 Q133.121 756.353 130.043 760.96 Q126.987 765.543 121.177 765.543 Q115.367 765.543 112.288 760.96 Q109.233 756.353 109.233 747.626 Q109.233 738.876 112.288 734.293 Q115.367 729.687 121.177 729.687 Z\" fill=\"#000000\" fill-rule=\"nonzero\" fill-opacity=\"1\" /><path clip-path=\"url(#clip400)\" d=\"M151.339 733.39 Q147.728 733.39 145.899 736.955 Q144.093 740.497 144.093 747.626 Q144.093 754.733 145.899 758.298 Q147.728 761.839 151.339 761.839 Q154.973 761.839 156.779 758.298 Q158.607 754.733 158.607 747.626 Q158.607 740.497 156.779 736.955 Q154.973 733.39 151.339 733.39 M151.339 729.687 Q157.149 729.687 160.205 734.293 Q163.283 738.876 163.283 747.626 Q163.283 756.353 160.205 760.96 Q157.149 765.543 151.339 765.543 Q145.529 765.543 142.45 760.96 Q139.394 756.353 139.394 747.626 Q139.394 738.876 142.45 734.293 Q145.529 729.687 151.339 729.687 Z\" fill=\"#000000\" fill-rule=\"nonzero\" fill-opacity=\"1\" /><path clip-path=\"url(#clip400)\" d=\"M91.0151 500.017 Q87.6817 500.017 85.7605 501.799 Q83.8623 503.582 83.8623 506.707 Q83.8623 509.832 85.7605 511.614 Q87.6817 513.397 91.0151 513.397 Q94.3484 513.397 96.2697 511.614 Q98.1909 509.809 98.1909 506.707 Q98.1909 503.582 96.2697 501.799 Q94.3715 500.017 91.0151 500.017 M86.3392 498.026 Q83.3299 497.286 81.6401 495.225 Q79.9735 493.165 79.9735 490.202 Q79.9735 486.059 82.9133 483.651 Q85.8762 481.244 91.0151 481.244 Q96.1771 481.244 99.1169 483.651 Q102.057 486.059 102.057 490.202 Q102.057 493.165 100.367 495.225 Q98.7002 497.286 95.7141 498.026 Q99.0937 498.813 100.969 501.105 Q102.867 503.397 102.867 506.707 Q102.867 511.73 99.7882 514.415 Q96.7326 517.1 91.0151 517.1 Q85.2975 517.1 82.2188 514.415 Q79.1633 511.73 79.1633 506.707 Q79.1633 503.397 81.0614 501.105 Q82.9595 498.813 86.3392 498.026 M84.6262 490.642 Q84.6262 493.327 86.2929 494.832 Q87.9827 496.336 91.0151 496.336 Q94.0243 496.336 95.7141 494.832 Q97.4271 493.327 97.4271 490.642 Q97.4271 487.957 95.7141 486.452 Q94.0243 484.948 91.0151 484.948 Q87.9827 484.948 86.2929 486.452 Q84.6262 487.957 84.6262 490.642 Z\" fill=\"#000000\" fill-rule=\"nonzero\" fill-opacity=\"1\" /><path clip-path=\"url(#clip400)\" d=\"M121.177 484.948 Q117.566 484.948 115.737 488.512 Q113.932 492.054 113.932 499.184 Q113.932 506.29 115.737 509.855 Q117.566 513.397 121.177 513.397 Q124.811 513.397 126.617 509.855 Q128.445 506.29 128.445 499.184 Q128.445 492.054 126.617 488.512 Q124.811 484.948 121.177 484.948 M121.177 481.244 Q126.987 481.244 130.043 485.85 Q133.121 490.434 133.121 499.184 Q133.121 507.91 130.043 512.517 Q126.987 517.1 121.177 517.1 Q115.367 517.1 112.288 512.517 Q109.233 507.91 109.233 499.184 Q109.233 490.434 112.288 485.85 Q115.367 481.244 121.177 481.244 Z\" fill=\"#000000\" fill-rule=\"nonzero\" fill-opacity=\"1\" /><path clip-path=\"url(#clip400)\" d=\"M151.339 484.948 Q147.728 484.948 145.899 488.512 Q144.093 492.054 144.093 499.184 Q144.093 506.29 145.899 509.855 Q147.728 513.397 151.339 513.397 Q154.973 513.397 156.779 509.855 Q158.607 506.29 158.607 499.184 Q158.607 492.054 156.779 488.512 Q154.973 484.948 151.339 484.948 M151.339 481.244 Q157.149 481.244 160.205 485.85 Q163.283 490.434 163.283 499.184 Q163.283 507.91 160.205 512.517 Q157.149 517.1 151.339 517.1 Q145.529 517.1 142.45 512.517 Q139.394 507.91 139.394 499.184 Q139.394 490.434 142.45 485.85 Q145.529 481.244 151.339 481.244 Z\" fill=\"#000000\" fill-rule=\"nonzero\" fill-opacity=\"1\" /><path clip-path=\"url(#clip400)\" d=\"M51.6634 264.051 L59.3023 264.051 L59.3023 237.685 L50.9921 239.352 L50.9921 235.093 L59.256 233.426 L63.9319 233.426 L63.9319 264.051 L71.5707 264.051 L71.5707 267.986 L51.6634 267.986 L51.6634 264.051 Z\" fill=\"#000000\" fill-rule=\"nonzero\" fill-opacity=\"1\" /><path clip-path=\"url(#clip400)\" d=\"M91.0151 236.505 Q87.404 236.505 85.5753 240.07 Q83.7697 243.611 83.7697 250.741 Q83.7697 257.847 85.5753 261.412 Q87.404 264.954 91.0151 264.954 Q94.6493 264.954 96.4548 261.412 Q98.2835 257.847 98.2835 250.741 Q98.2835 243.611 96.4548 240.07 Q94.6493 236.505 91.0151 236.505 M91.0151 232.801 Q96.8252 232.801 99.8808 237.408 Q102.959 241.991 102.959 250.741 Q102.959 259.468 99.8808 264.074 Q96.8252 268.658 91.0151 268.658 Q85.2049 268.658 82.1262 264.074 Q79.0707 259.468 79.0707 250.741 Q79.0707 241.991 82.1262 237.408 Q85.2049 232.801 91.0151 232.801 Z\" fill=\"#000000\" fill-rule=\"nonzero\" fill-opacity=\"1\" /><path clip-path=\"url(#clip400)\" d=\"M121.177 236.505 Q117.566 236.505 115.737 240.07 Q113.932 243.611 113.932 250.741 Q113.932 257.847 115.737 261.412 Q117.566 264.954 121.177 264.954 Q124.811 264.954 126.617 261.412 Q128.445 257.847 128.445 250.741 Q128.445 243.611 126.617 240.07 Q124.811 236.505 121.177 236.505 M121.177 232.801 Q126.987 232.801 130.043 237.408 Q133.121 241.991 133.121 250.741 Q133.121 259.468 130.043 264.074 Q126.987 268.658 121.177 268.658 Q115.367 268.658 112.288 264.074 Q109.233 259.468 109.233 250.741 Q109.233 241.991 112.288 237.408 Q115.367 232.801 121.177 232.801 Z\" fill=\"#000000\" fill-rule=\"nonzero\" fill-opacity=\"1\" /><path clip-path=\"url(#clip400)\" d=\"M151.339 236.505 Q147.728 236.505 145.899 240.07 Q144.093 243.611 144.093 250.741 Q144.093 257.847 145.899 261.412 Q147.728 264.954 151.339 264.954 Q154.973 264.954 156.779 261.412 Q158.607 257.847 158.607 250.741 Q158.607 243.611 156.779 240.07 Q154.973 236.505 151.339 236.505 M151.339 232.801 Q157.149 232.801 160.205 237.408 Q163.283 241.991 163.283 250.741 Q163.283 259.468 160.205 264.074 Q157.149 268.658 151.339 268.658 Q145.529 268.658 142.45 264.074 Q139.394 259.468 139.394 250.741 Q139.394 241.991 142.45 237.408 Q145.529 232.801 151.339 232.801 Z\" fill=\"#000000\" fill-rule=\"nonzero\" fill-opacity=\"1\" /><path clip-path=\"url(#clip402)\" d=\"M1276.02 848.211 L768.125 848.211 L1783.91 848.211 L1276.02 848.211 L1276.02 476.479 L1276.02 848.211  Z\" fill=\"#009af9\" fill-rule=\"evenodd\" fill-opacity=\"1\"/>\n",
       "<polyline clip-path=\"url(#clip402)\" style=\"stroke:#000000; stroke-linecap:round; stroke-linejoin:round; stroke-width:4; stroke-opacity:1; fill:none\" points=\"1276.02,848.211 768.125,848.211 1783.91,848.211 1276.02,848.211 1276.02,476.479 1276.02,848.211 \"/>\n",
       "<path clip-path=\"url(#clip402)\" d=\"M2291.81 476.479 L2291.81 328.345 L260.231 328.345 L260.231 476.479 L2291.81 476.479 L2291.81 328.345 L2291.81 476.479  Z\" fill=\"#009af9\" fill-rule=\"evenodd\" fill-opacity=\"1\"/>\n",
       "<polyline clip-path=\"url(#clip402)\" style=\"stroke:#000000; stroke-linecap:round; stroke-linejoin:round; stroke-width:4; stroke-opacity:1; fill:none\" points=\"2291.81,476.479 2291.81,328.345 260.231,328.345 260.231,476.479 2291.81,476.479 2291.81,328.345 2291.81,476.479 \"/>\n",
       "<path clip-path=\"url(#clip402)\" d=\"M2291.81 223.688 L260.231 223.688 L260.231 328.345 L2291.81 328.345 L2291.81 223.688 L1276.02 223.688 L2291.81 223.688  Z\" fill=\"#009af9\" fill-rule=\"evenodd\" fill-opacity=\"1\"/>\n",
       "<polyline clip-path=\"url(#clip402)\" style=\"stroke:#000000; stroke-linecap:round; stroke-linejoin:round; stroke-width:4; stroke-opacity:1; fill:none\" points=\"2291.81,223.688 260.231,223.688 260.231,328.345 2291.81,328.345 2291.81,223.688 1276.02,223.688 2291.81,223.688 \"/>\n",
       "<path clip-path=\"url(#clip402)\" d=\"M1276.02 87.9763 L768.125 87.9763 L1783.91 87.9763 L1276.02 87.9763 L1276.02 223.688 L1276.02 87.9763  Z\" fill=\"#009af9\" fill-rule=\"evenodd\" fill-opacity=\"1\"/>\n",
       "<polyline clip-path=\"url(#clip402)\" style=\"stroke:#000000; stroke-linecap:round; stroke-linejoin:round; stroke-width:4; stroke-opacity:1; fill:none\" points=\"1276.02,87.9763 768.125,87.9763 1783.91,87.9763 1276.02,87.9763 1276.02,223.688 1276.02,87.9763 \"/>\n",
       "<circle clip-path=\"url(#clip402)\" cx=\"1276.02\" cy=\"1213.42\" r=\"14.4\" fill=\"#009af9\" fill-rule=\"evenodd\" fill-opacity=\"1\" stroke=\"#000000\" stroke-opacity=\"1\" stroke-width=\"3.2\"/>\n",
       "<circle clip-path=\"url(#clip402)\" cx=\"1276.02\" cy=\"1132.68\" r=\"14.4\" fill=\"#009af9\" fill-rule=\"evenodd\" fill-opacity=\"1\" stroke=\"#000000\" stroke-opacity=\"1\" stroke-width=\"3.2\"/>\n",
       "<circle clip-path=\"url(#clip402)\" cx=\"1276.02\" cy=\"1287.95\" r=\"14.4\" fill=\"#009af9\" fill-rule=\"evenodd\" fill-opacity=\"1\" stroke=\"#000000\" stroke-opacity=\"1\" stroke-width=\"3.2\"/>\n",
       "<circle clip-path=\"url(#clip402)\" cx=\"1276.02\" cy=\"1122.74\" r=\"14.4\" fill=\"#009af9\" fill-rule=\"evenodd\" fill-opacity=\"1\" stroke=\"#000000\" stroke-opacity=\"1\" stroke-width=\"3.2\"/>\n",
       "<circle clip-path=\"url(#clip402)\" cx=\"1276.02\" cy=\"1445.72\" r=\"14.4\" fill=\"#009af9\" fill-rule=\"evenodd\" fill-opacity=\"1\" stroke=\"#000000\" stroke-opacity=\"1\" stroke-width=\"3.2\"/>\n",
       "<circle clip-path=\"url(#clip402)\" cx=\"1276.02\" cy=\"1138.89\" r=\"14.4\" fill=\"#009af9\" fill-rule=\"evenodd\" fill-opacity=\"1\" stroke=\"#000000\" stroke-opacity=\"1\" stroke-width=\"3.2\"/>\n",
       "<circle clip-path=\"url(#clip402)\" cx=\"1276.02\" cy=\"1271.81\" r=\"14.4\" fill=\"#009af9\" fill-rule=\"evenodd\" fill-opacity=\"1\" stroke=\"#000000\" stroke-opacity=\"1\" stroke-width=\"3.2\"/>\n",
       "<circle clip-path=\"url(#clip402)\" cx=\"1276.02\" cy=\"942.619\" r=\"14.4\" fill=\"#009af9\" fill-rule=\"evenodd\" fill-opacity=\"1\" stroke=\"#000000\" stroke-opacity=\"1\" stroke-width=\"3.2\"/>\n",
       "<circle clip-path=\"url(#clip402)\" cx=\"1276.02\" cy=\"892.931\" r=\"14.4\" fill=\"#009af9\" fill-rule=\"evenodd\" fill-opacity=\"1\" stroke=\"#000000\" stroke-opacity=\"1\" stroke-width=\"3.2\"/>\n",
       "<circle clip-path=\"url(#clip402)\" cx=\"1276.02\" cy=\"1248.2\" r=\"14.4\" fill=\"#009af9\" fill-rule=\"evenodd\" fill-opacity=\"1\" stroke=\"#000000\" stroke-opacity=\"1\" stroke-width=\"3.2\"/>\n",
       "<circle clip-path=\"url(#clip402)\" cx=\"1276.02\" cy=\"1381.12\" r=\"14.4\" fill=\"#009af9\" fill-rule=\"evenodd\" fill-opacity=\"1\" stroke=\"#000000\" stroke-opacity=\"1\" stroke-width=\"3.2\"/>\n",
       "<circle clip-path=\"url(#clip402)\" cx=\"1276.02\" cy=\"933.924\" r=\"14.4\" fill=\"#009af9\" fill-rule=\"evenodd\" fill-opacity=\"1\" stroke=\"#000000\" stroke-opacity=\"1\" stroke-width=\"3.2\"/>\n",
       "<circle clip-path=\"url(#clip402)\" cx=\"1276.02\" cy=\"856.906\" r=\"14.4\" fill=\"#009af9\" fill-rule=\"evenodd\" fill-opacity=\"1\" stroke=\"#000000\" stroke-opacity=\"1\" stroke-width=\"3.2\"/>\n",
       "<circle clip-path=\"url(#clip402)\" cx=\"1276.02\" cy=\"1065.6\" r=\"14.4\" fill=\"#009af9\" fill-rule=\"evenodd\" fill-opacity=\"1\" stroke=\"#000000\" stroke-opacity=\"1\" stroke-width=\"3.2\"/>\n",
       "<polyline clip-path=\"url(#clip402)\" style=\"stroke:#009af9; stroke-linecap:round; stroke-linejoin:round; stroke-width:0; stroke-opacity:1; fill:none\" points=\"1276.02,848.211 768.125,848.211 1783.91,848.211 1276.02,848.211 1276.02,476.479 \"/>\n",
       "<polyline clip-path=\"url(#clip402)\" style=\"stroke:#009af9; stroke-linecap:round; stroke-linejoin:round; stroke-width:0; stroke-opacity:1; fill:none\" points=\"2291.81,476.479 2291.81,328.345 260.231,328.345 260.231,476.479 2291.81,476.479 2291.81,328.345 \"/>\n",
       "<polyline clip-path=\"url(#clip402)\" style=\"stroke:#009af9; stroke-linecap:round; stroke-linejoin:round; stroke-width:0; stroke-opacity:1; fill:none\" points=\"2291.81,223.688 260.231,223.688 260.231,328.345 2291.81,328.345 2291.81,223.688 1276.02,223.688 \"/>\n",
       "<polyline clip-path=\"url(#clip402)\" style=\"stroke:#009af9; stroke-linecap:round; stroke-linejoin:round; stroke-width:0; stroke-opacity:1; fill:none\" points=\"1276.02,87.9763 768.125,87.9763 1783.91,87.9763 1276.02,87.9763 1276.02,223.688 \"/>\n",
       "<path clip-path=\"url(#clip400)\" d=\"M2013.2 1438.47 L2280.97 1438.47 L2280.97 1334.79 L2013.2 1334.79  Z\" fill=\"#ffffff\" fill-rule=\"evenodd\" fill-opacity=\"1\"/>\n",
       "<polyline clip-path=\"url(#clip400)\" style=\"stroke:#000000; stroke-linecap:round; stroke-linejoin:round; stroke-width:4; stroke-opacity:1; fill:none\" points=\"2013.2,1438.47 2280.97,1438.47 2280.97,1334.79 2013.2,1334.79 2013.2,1438.47 \"/>\n",
       "<path clip-path=\"url(#clip400)\" d=\"M2037.12 1407.37 L2180.69 1407.37 L2180.69 1365.9 L2037.12 1365.9 L2037.12 1407.37  Z\" fill=\"#009af9\" fill-rule=\"evenodd\" fill-opacity=\"1\"/>\n",
       "<polyline clip-path=\"url(#clip400)\" style=\"stroke:#000000; stroke-linecap:round; stroke-linejoin:round; stroke-width:4; stroke-opacity:1; fill:none\" points=\"2037.12,1407.37 2180.69,1407.37 2180.69,1365.9 2037.12,1365.9 2037.12,1407.37 \"/>\n",
       "<path clip-path=\"url(#clip400)\" d=\"M2218.46 1406.32 Q2216.65 1410.95 2214.94 1412.36 Q2213.23 1413.78 2210.36 1413.78 L2206.95 1413.78 L2206.95 1410.21 L2209.45 1410.21 Q2211.21 1410.21 2212.19 1409.38 Q2213.16 1408.54 2214.34 1405.44 L2215.1 1403.5 L2204.62 1377.99 L2209.13 1377.99 L2217.23 1398.27 L2225.33 1377.99 L2229.85 1377.99 L2218.46 1406.32 Z\" fill=\"#000000\" fill-rule=\"nonzero\" fill-opacity=\"1\" /><path clip-path=\"url(#clip400)\" d=\"M2237.14 1399.98 L2244.78 1399.98 L2244.78 1373.61 L2236.47 1375.28 L2236.47 1371.02 L2244.73 1369.35 L2249.41 1369.35 L2249.41 1399.98 L2257.05 1399.98 L2257.05 1403.91 L2237.14 1403.91 L2237.14 1399.98 Z\" fill=\"#000000\" fill-rule=\"nonzero\" fill-opacity=\"1\" /></svg>\n"
      ],
      "text/html": [
       "<?xml version=\"1.0\" encoding=\"utf-8\"?>\n",
       "<svg xmlns=\"http://www.w3.org/2000/svg\" xmlns:xlink=\"http://www.w3.org/1999/xlink\" width=\"600\" height=\"400\" viewBox=\"0 0 2400 1600\">\n",
       "<defs>\n",
       "  <clipPath id=\"clip450\">\n",
       "    <rect x=\"0\" y=\"0\" width=\"2400\" height=\"1600\"/>\n",
       "  </clipPath>\n",
       "</defs>\n",
       "<path clip-path=\"url(#clip450)\" d=\"M0 1600 L2400 1600 L2400 0 L0 0  Z\" fill=\"#ffffff\" fill-rule=\"evenodd\" fill-opacity=\"1\"/>\n",
       "<defs>\n",
       "  <clipPath id=\"clip451\">\n",
       "    <rect x=\"480\" y=\"0\" width=\"1681\" height=\"1600\"/>\n",
       "  </clipPath>\n",
       "</defs>\n",
       "<path clip-path=\"url(#clip450)\" d=\"M199.283 1486.45 L2352.76 1486.45 L2352.76 47.2441 L199.283 47.2441  Z\" fill=\"#ffffff\" fill-rule=\"evenodd\" fill-opacity=\"1\"/>\n",
       "<defs>\n",
       "  <clipPath id=\"clip452\">\n",
       "    <rect x=\"199\" y=\"47\" width=\"2154\" height=\"1440\"/>\n",
       "  </clipPath>\n",
       "</defs>\n",
       "<polyline clip-path=\"url(#clip452)\" style=\"stroke:#000000; stroke-linecap:round; stroke-linejoin:round; stroke-width:2; stroke-opacity:0.1; fill:none\" points=\"260.231,1486.45 260.231,47.2441 \"/>\n",
       "<polyline clip-path=\"url(#clip452)\" style=\"stroke:#000000; stroke-linecap:round; stroke-linejoin:round; stroke-width:2; stroke-opacity:0.1; fill:none\" points=\"768.125,1486.45 768.125,47.2441 \"/>\n",
       "<polyline clip-path=\"url(#clip452)\" style=\"stroke:#000000; stroke-linecap:round; stroke-linejoin:round; stroke-width:2; stroke-opacity:0.1; fill:none\" points=\"1276.02,1486.45 1276.02,47.2441 \"/>\n",
       "<polyline clip-path=\"url(#clip452)\" style=\"stroke:#000000; stroke-linecap:round; stroke-linejoin:round; stroke-width:2; stroke-opacity:0.1; fill:none\" points=\"1783.91,1486.45 1783.91,47.2441 \"/>\n",
       "<polyline clip-path=\"url(#clip452)\" style=\"stroke:#000000; stroke-linecap:round; stroke-linejoin:round; stroke-width:2; stroke-opacity:0.1; fill:none\" points=\"2291.81,1486.45 2291.81,47.2441 \"/>\n",
       "<polyline clip-path=\"url(#clip450)\" style=\"stroke:#000000; stroke-linecap:round; stroke-linejoin:round; stroke-width:4; stroke-opacity:1; fill:none\" points=\"199.283,1486.45 2352.76,1486.45 \"/>\n",
       "<polyline clip-path=\"url(#clip450)\" style=\"stroke:#000000; stroke-linecap:round; stroke-linejoin:round; stroke-width:4; stroke-opacity:1; fill:none\" points=\"260.231,1486.45 260.231,1467.55 \"/>\n",
       "<polyline clip-path=\"url(#clip450)\" style=\"stroke:#000000; stroke-linecap:round; stroke-linejoin:round; stroke-width:4; stroke-opacity:1; fill:none\" points=\"768.125,1486.45 768.125,1467.55 \"/>\n",
       "<polyline clip-path=\"url(#clip450)\" style=\"stroke:#000000; stroke-linecap:round; stroke-linejoin:round; stroke-width:4; stroke-opacity:1; fill:none\" points=\"1276.02,1486.45 1276.02,1467.55 \"/>\n",
       "<polyline clip-path=\"url(#clip450)\" style=\"stroke:#000000; stroke-linecap:round; stroke-linejoin:round; stroke-width:4; stroke-opacity:1; fill:none\" points=\"1783.91,1486.45 1783.91,1467.55 \"/>\n",
       "<polyline clip-path=\"url(#clip450)\" style=\"stroke:#000000; stroke-linecap:round; stroke-linejoin:round; stroke-width:4; stroke-opacity:1; fill:none\" points=\"2291.81,1486.45 2291.81,1467.55 \"/>\n",
       "<path clip-path=\"url(#clip450)\" d=\"M237.534 1517.37 Q233.923 1517.37 232.094 1520.93 Q230.289 1524.47 230.289 1531.6 Q230.289 1538.71 232.094 1542.27 Q233.923 1545.82 237.534 1545.82 Q241.168 1545.82 242.974 1542.27 Q244.802 1538.71 244.802 1531.6 Q244.802 1524.47 242.974 1520.93 Q241.168 1517.37 237.534 1517.37 M237.534 1513.66 Q243.344 1513.66 246.4 1518.27 Q249.478 1522.85 249.478 1531.6 Q249.478 1540.33 246.4 1544.94 Q243.344 1549.52 237.534 1549.52 Q231.724 1549.52 228.645 1544.94 Q225.59 1540.33 225.59 1531.6 Q225.59 1522.85 228.645 1518.27 Q231.724 1513.66 237.534 1513.66 Z\" fill=\"#000000\" fill-rule=\"nonzero\" fill-opacity=\"1\" /><path clip-path=\"url(#clip450)\" d=\"M257.696 1542.97 L262.58 1542.97 L262.58 1548.85 L257.696 1548.85 L257.696 1542.97 Z\" fill=\"#000000\" fill-rule=\"nonzero\" fill-opacity=\"1\" /><path clip-path=\"url(#clip450)\" d=\"M283.344 1529.7 Q280.196 1529.7 278.344 1531.86 Q276.515 1534.01 276.515 1537.76 Q276.515 1541.49 278.344 1543.66 Q280.196 1545.82 283.344 1545.82 Q286.492 1545.82 288.321 1543.66 Q290.173 1541.49 290.173 1537.76 Q290.173 1534.01 288.321 1531.86 Q286.492 1529.7 283.344 1529.7 M292.626 1515.05 L292.626 1519.31 Q290.867 1518.48 289.061 1518.04 Q287.279 1517.6 285.52 1517.6 Q280.89 1517.6 278.436 1520.72 Q276.006 1523.85 275.659 1530.17 Q277.024 1528.15 279.085 1527.09 Q281.145 1526 283.622 1526 Q288.83 1526 291.839 1529.17 Q294.872 1532.32 294.872 1537.76 Q294.872 1543.08 291.723 1546.3 Q288.575 1549.52 283.344 1549.52 Q277.348 1549.52 274.177 1544.94 Q271.006 1540.33 271.006 1531.6 Q271.006 1523.41 274.895 1518.55 Q278.784 1513.66 285.335 1513.66 Q287.094 1513.66 288.876 1514.01 Q290.682 1514.36 292.626 1515.05 Z\" fill=\"#000000\" fill-rule=\"nonzero\" fill-opacity=\"1\" /><path clip-path=\"url(#clip450)\" d=\"M745.556 1517.37 Q741.945 1517.37 740.116 1520.93 Q738.31 1524.47 738.31 1531.6 Q738.31 1538.71 740.116 1542.27 Q741.945 1545.82 745.556 1545.82 Q749.19 1545.82 750.996 1542.27 Q752.824 1538.71 752.824 1531.6 Q752.824 1524.47 750.996 1520.93 Q749.19 1517.37 745.556 1517.37 M745.556 1513.66 Q751.366 1513.66 754.421 1518.27 Q757.5 1522.85 757.5 1531.6 Q757.5 1540.33 754.421 1544.94 Q751.366 1549.52 745.556 1549.52 Q739.746 1549.52 736.667 1544.94 Q733.611 1540.33 733.611 1531.6 Q733.611 1522.85 736.667 1518.27 Q739.746 1513.66 745.556 1513.66 Z\" fill=\"#000000\" fill-rule=\"nonzero\" fill-opacity=\"1\" /><path clip-path=\"url(#clip450)\" d=\"M765.718 1542.97 L770.602 1542.97 L770.602 1548.85 L765.718 1548.85 L765.718 1542.97 Z\" fill=\"#000000\" fill-rule=\"nonzero\" fill-opacity=\"1\" /><path clip-path=\"url(#clip450)\" d=\"M790.787 1532.44 Q787.454 1532.44 785.532 1534.22 Q783.634 1536 783.634 1539.13 Q783.634 1542.25 785.532 1544.03 Q787.454 1545.82 790.787 1545.82 Q794.12 1545.82 796.042 1544.03 Q797.963 1542.23 797.963 1539.13 Q797.963 1536 796.042 1534.22 Q794.143 1532.44 790.787 1532.44 M786.111 1530.45 Q783.102 1529.7 781.412 1527.64 Q779.745 1525.58 779.745 1522.62 Q779.745 1518.48 782.685 1516.07 Q785.648 1513.66 790.787 1513.66 Q795.949 1513.66 798.889 1516.07 Q801.829 1518.48 801.829 1522.62 Q801.829 1525.58 800.139 1527.64 Q798.472 1529.7 795.486 1530.45 Q798.866 1531.23 800.741 1533.52 Q802.639 1535.82 802.639 1539.13 Q802.639 1544.15 799.56 1546.83 Q796.505 1549.52 790.787 1549.52 Q785.069 1549.52 781.991 1546.83 Q778.935 1544.15 778.935 1539.13 Q778.935 1535.82 780.833 1533.52 Q782.731 1531.23 786.111 1530.45 M784.398 1523.06 Q784.398 1525.75 786.065 1527.25 Q787.755 1528.76 790.787 1528.76 Q793.796 1528.76 795.486 1527.25 Q797.199 1525.75 797.199 1523.06 Q797.199 1520.38 795.486 1518.87 Q793.796 1517.37 790.787 1517.37 Q787.755 1517.37 786.065 1518.87 Q784.398 1520.38 784.398 1523.06 Z\" fill=\"#000000\" fill-rule=\"nonzero\" fill-opacity=\"1\" /><path clip-path=\"url(#clip450)\" d=\"M1243.17 1544.91 L1250.81 1544.91 L1250.81 1518.55 L1242.5 1520.21 L1242.5 1515.95 L1250.77 1514.29 L1255.44 1514.29 L1255.44 1544.91 L1263.08 1544.91 L1263.08 1548.85 L1243.17 1548.85 L1243.17 1544.91 Z\" fill=\"#000000\" fill-rule=\"nonzero\" fill-opacity=\"1\" /><path clip-path=\"url(#clip450)\" d=\"M1272.52 1542.97 L1277.41 1542.97 L1277.41 1548.85 L1272.52 1548.85 L1272.52 1542.97 Z\" fill=\"#000000\" fill-rule=\"nonzero\" fill-opacity=\"1\" /><path clip-path=\"url(#clip450)\" d=\"M1297.59 1517.37 Q1293.98 1517.37 1292.15 1520.93 Q1290.35 1524.47 1290.35 1531.6 Q1290.35 1538.71 1292.15 1542.27 Q1293.98 1545.82 1297.59 1545.82 Q1301.23 1545.82 1303.03 1542.27 Q1304.86 1538.71 1304.86 1531.6 Q1304.86 1524.47 1303.03 1520.93 Q1301.23 1517.37 1297.59 1517.37 M1297.59 1513.66 Q1303.4 1513.66 1306.46 1518.27 Q1309.54 1522.85 1309.54 1531.6 Q1309.54 1540.33 1306.46 1544.94 Q1303.4 1549.52 1297.59 1549.52 Q1291.78 1549.52 1288.7 1544.94 Q1285.65 1540.33 1285.65 1531.6 Q1285.65 1522.85 1288.7 1518.27 Q1291.78 1513.66 1297.59 1513.66 Z\" fill=\"#000000\" fill-rule=\"nonzero\" fill-opacity=\"1\" /><path clip-path=\"url(#clip450)\" d=\"M1751.87 1544.91 L1759.5 1544.91 L1759.5 1518.55 L1751.19 1520.21 L1751.19 1515.95 L1759.46 1514.29 L1764.13 1514.29 L1764.13 1544.91 L1771.77 1544.91 L1771.77 1548.85 L1751.87 1548.85 L1751.87 1544.91 Z\" fill=\"#000000\" fill-rule=\"nonzero\" fill-opacity=\"1\" /><path clip-path=\"url(#clip450)\" d=\"M1781.22 1542.97 L1786.1 1542.97 L1786.1 1548.85 L1781.22 1548.85 L1781.22 1542.97 Z\" fill=\"#000000\" fill-rule=\"nonzero\" fill-opacity=\"1\" /><path clip-path=\"url(#clip450)\" d=\"M1800.31 1544.91 L1816.63 1544.91 L1816.63 1548.85 L1794.69 1548.85 L1794.69 1544.91 Q1797.35 1542.16 1801.93 1537.53 Q1806.54 1532.88 1807.72 1531.53 Q1809.97 1529.01 1810.85 1527.27 Q1811.75 1525.51 1811.75 1523.82 Q1811.75 1521.07 1809.81 1519.33 Q1807.88 1517.6 1804.78 1517.6 Q1802.58 1517.6 1800.13 1518.36 Q1797.7 1519.13 1794.92 1520.68 L1794.92 1515.95 Q1797.75 1514.82 1800.2 1514.24 Q1802.65 1513.66 1804.69 1513.66 Q1810.06 1513.66 1813.25 1516.35 Q1816.45 1519.03 1816.45 1523.52 Q1816.45 1525.65 1815.64 1527.57 Q1814.85 1529.47 1812.74 1532.07 Q1812.17 1532.74 1809.06 1535.95 Q1805.96 1539.15 1800.31 1544.91 Z\" fill=\"#000000\" fill-rule=\"nonzero\" fill-opacity=\"1\" /><path clip-path=\"url(#clip450)\" d=\"M2258.72 1544.91 L2266.36 1544.91 L2266.36 1518.55 L2258.05 1520.21 L2258.05 1515.95 L2266.31 1514.29 L2270.99 1514.29 L2270.99 1544.91 L2278.63 1544.91 L2278.63 1548.85 L2258.72 1548.85 L2258.72 1544.91 Z\" fill=\"#000000\" fill-rule=\"nonzero\" fill-opacity=\"1\" /><path clip-path=\"url(#clip450)\" d=\"M2288.07 1542.97 L2292.95 1542.97 L2292.95 1548.85 L2288.07 1548.85 L2288.07 1542.97 Z\" fill=\"#000000\" fill-rule=\"nonzero\" fill-opacity=\"1\" /><path clip-path=\"url(#clip450)\" d=\"M2315.99 1518.36 L2304.18 1536.81 L2315.99 1536.81 L2315.99 1518.36 M2314.76 1514.29 L2320.64 1514.29 L2320.64 1536.81 L2325.57 1536.81 L2325.57 1540.7 L2320.64 1540.7 L2320.64 1548.85 L2315.99 1548.85 L2315.99 1540.7 L2300.38 1540.7 L2300.38 1536.19 L2314.76 1514.29 Z\" fill=\"#000000\" fill-rule=\"nonzero\" fill-opacity=\"1\" /><polyline clip-path=\"url(#clip452)\" style=\"stroke:#000000; stroke-linecap:round; stroke-linejoin:round; stroke-width:2; stroke-opacity:0.1; fill:none\" points=\"199.283,1244.48 2352.76,1244.48 \"/>\n",
       "<polyline clip-path=\"url(#clip452)\" style=\"stroke:#000000; stroke-linecap:round; stroke-linejoin:round; stroke-width:2; stroke-opacity:0.1; fill:none\" points=\"199.283,996.034 2352.76,996.034 \"/>\n",
       "<polyline clip-path=\"url(#clip452)\" style=\"stroke:#000000; stroke-linecap:round; stroke-linejoin:round; stroke-width:2; stroke-opacity:0.1; fill:none\" points=\"199.283,747.592 2352.76,747.592 \"/>\n",
       "<polyline clip-path=\"url(#clip452)\" style=\"stroke:#000000; stroke-linecap:round; stroke-linejoin:round; stroke-width:2; stroke-opacity:0.1; fill:none\" points=\"199.283,499.149 2352.76,499.149 \"/>\n",
       "<polyline clip-path=\"url(#clip452)\" style=\"stroke:#000000; stroke-linecap:round; stroke-linejoin:round; stroke-width:2; stroke-opacity:0.1; fill:none\" points=\"199.283,250.706 2352.76,250.706 \"/>\n",
       "<polyline clip-path=\"url(#clip450)\" style=\"stroke:#000000; stroke-linecap:round; stroke-linejoin:round; stroke-width:4; stroke-opacity:1; fill:none\" points=\"199.283,1486.45 199.283,47.2441 \"/>\n",
       "<polyline clip-path=\"url(#clip450)\" style=\"stroke:#000000; stroke-linecap:round; stroke-linejoin:round; stroke-width:4; stroke-opacity:1; fill:none\" points=\"199.283,1244.48 218.181,1244.48 \"/>\n",
       "<polyline clip-path=\"url(#clip450)\" style=\"stroke:#000000; stroke-linecap:round; stroke-linejoin:round; stroke-width:4; stroke-opacity:1; fill:none\" points=\"199.283,996.034 218.181,996.034 \"/>\n",
       "<polyline clip-path=\"url(#clip450)\" style=\"stroke:#000000; stroke-linecap:round; stroke-linejoin:round; stroke-width:4; stroke-opacity:1; fill:none\" points=\"199.283,747.592 218.181,747.592 \"/>\n",
       "<polyline clip-path=\"url(#clip450)\" style=\"stroke:#000000; stroke-linecap:round; stroke-linejoin:round; stroke-width:4; stroke-opacity:1; fill:none\" points=\"199.283,499.149 218.181,499.149 \"/>\n",
       "<polyline clip-path=\"url(#clip450)\" style=\"stroke:#000000; stroke-linecap:round; stroke-linejoin:round; stroke-width:4; stroke-opacity:1; fill:none\" points=\"199.283,250.706 218.181,250.706 \"/>\n",
       "<path clip-path=\"url(#clip450)\" d=\"M85.0429 1257.82 L101.362 1257.82 L101.362 1261.76 L79.4179 1261.76 L79.4179 1257.82 Q82.0799 1255.07 86.6632 1250.44 Q91.2697 1245.78 92.4502 1244.44 Q94.6956 1241.92 95.5752 1240.18 Q96.478 1238.42 96.478 1236.73 Q96.478 1233.98 94.5336 1232.24 Q92.6123 1230.51 89.5104 1230.51 Q87.3114 1230.51 84.8577 1231.27 Q82.4271 1232.04 79.6494 1233.59 L79.6494 1228.86 Q82.4734 1227.73 84.9271 1227.15 Q87.3808 1226.57 89.4178 1226.57 Q94.7882 1226.57 97.9826 1229.26 Q101.177 1231.94 101.177 1236.43 Q101.177 1238.56 100.367 1240.48 Q99.5798 1242.38 97.4734 1244.97 Q96.8947 1245.65 93.7928 1248.86 Q90.691 1252.06 85.0429 1257.82 Z\" fill=\"#000000\" fill-rule=\"nonzero\" fill-opacity=\"1\" /><path clip-path=\"url(#clip450)\" d=\"M121.177 1230.28 Q117.566 1230.28 115.737 1233.84 Q113.932 1237.38 113.932 1244.51 Q113.932 1251.62 115.737 1255.18 Q117.566 1258.72 121.177 1258.72 Q124.811 1258.72 126.617 1255.18 Q128.445 1251.62 128.445 1244.51 Q128.445 1237.38 126.617 1233.84 Q124.811 1230.28 121.177 1230.28 M121.177 1226.57 Q126.987 1226.57 130.043 1231.18 Q133.121 1235.76 133.121 1244.51 Q133.121 1253.24 130.043 1257.85 Q126.987 1262.43 121.177 1262.43 Q115.367 1262.43 112.288 1257.85 Q109.233 1253.24 109.233 1244.51 Q109.233 1235.76 112.288 1231.18 Q115.367 1226.57 121.177 1226.57 Z\" fill=\"#000000\" fill-rule=\"nonzero\" fill-opacity=\"1\" /><path clip-path=\"url(#clip450)\" d=\"M151.339 1230.28 Q147.728 1230.28 145.899 1233.84 Q144.093 1237.38 144.093 1244.51 Q144.093 1251.62 145.899 1255.18 Q147.728 1258.72 151.339 1258.72 Q154.973 1258.72 156.779 1255.18 Q158.607 1251.62 158.607 1244.51 Q158.607 1237.38 156.779 1233.84 Q154.973 1230.28 151.339 1230.28 M151.339 1226.57 Q157.149 1226.57 160.205 1231.18 Q163.283 1235.76 163.283 1244.51 Q163.283 1253.24 160.205 1257.85 Q157.149 1262.43 151.339 1262.43 Q145.529 1262.43 142.45 1257.85 Q139.394 1253.24 139.394 1244.51 Q139.394 1235.76 142.45 1231.18 Q145.529 1226.57 151.339 1226.57 Z\" fill=\"#000000\" fill-rule=\"nonzero\" fill-opacity=\"1\" /><path clip-path=\"url(#clip450)\" d=\"M93.8623 982.828 L82.0568 1001.28 L93.8623 1001.28 L93.8623 982.828 M92.6354 978.754 L98.515 978.754 L98.515 1001.28 L103.446 1001.28 L103.446 1005.17 L98.515 1005.17 L98.515 1013.31 L93.8623 1013.31 L93.8623 1005.17 L78.2605 1005.17 L78.2605 1000.65 L92.6354 978.754 Z\" fill=\"#000000\" fill-rule=\"nonzero\" fill-opacity=\"1\" /><path clip-path=\"url(#clip450)\" d=\"M121.177 981.833 Q117.566 981.833 115.737 985.398 Q113.932 988.94 113.932 996.069 Q113.932 1003.18 115.737 1006.74 Q117.566 1010.28 121.177 1010.28 Q124.811 1010.28 126.617 1006.74 Q128.445 1003.18 128.445 996.069 Q128.445 988.94 126.617 985.398 Q124.811 981.833 121.177 981.833 M121.177 978.129 Q126.987 978.129 130.043 982.736 Q133.121 987.319 133.121 996.069 Q133.121 1004.8 130.043 1009.4 Q126.987 1013.99 121.177 1013.99 Q115.367 1013.99 112.288 1009.4 Q109.233 1004.8 109.233 996.069 Q109.233 987.319 112.288 982.736 Q115.367 978.129 121.177 978.129 Z\" fill=\"#000000\" fill-rule=\"nonzero\" fill-opacity=\"1\" /><path clip-path=\"url(#clip450)\" d=\"M151.339 981.833 Q147.728 981.833 145.899 985.398 Q144.093 988.94 144.093 996.069 Q144.093 1003.18 145.899 1006.74 Q147.728 1010.28 151.339 1010.28 Q154.973 1010.28 156.779 1006.74 Q158.607 1003.18 158.607 996.069 Q158.607 988.94 156.779 985.398 Q154.973 981.833 151.339 981.833 M151.339 978.129 Q157.149 978.129 160.205 982.736 Q163.283 987.319 163.283 996.069 Q163.283 1004.8 160.205 1009.4 Q157.149 1013.99 151.339 1013.99 Q145.529 1013.99 142.45 1009.4 Q139.394 1004.8 139.394 996.069 Q139.394 987.319 142.45 982.736 Q145.529 978.129 151.339 978.129 Z\" fill=\"#000000\" fill-rule=\"nonzero\" fill-opacity=\"1\" /><path clip-path=\"url(#clip450)\" d=\"M91.5938 745.728 Q88.4456 745.728 86.5938 747.881 Q84.7651 750.034 84.7651 753.784 Q84.7651 757.511 86.5938 759.687 Q88.4456 761.839 91.5938 761.839 Q94.7419 761.839 96.5706 759.687 Q98.4224 757.511 98.4224 753.784 Q98.4224 750.034 96.5706 747.881 Q94.7419 745.728 91.5938 745.728 M100.876 731.076 L100.876 735.335 Q99.1169 734.501 97.3113 734.062 Q95.5289 733.622 93.7697 733.622 Q89.1401 733.622 86.6864 736.747 Q84.2558 739.872 83.9086 746.191 Q85.2743 744.177 87.3345 743.113 Q89.3947 742.025 91.8715 742.025 Q97.0798 742.025 100.089 745.196 Q103.121 748.344 103.121 753.784 Q103.121 759.108 99.9733 762.325 Q96.8252 765.543 91.5938 765.543 Q85.5984 765.543 82.4271 760.96 Q79.2559 756.353 79.2559 747.626 Q79.2559 739.432 83.1447 734.571 Q87.0336 729.687 93.5845 729.687 Q95.3437 729.687 97.1261 730.034 Q98.9317 730.381 100.876 731.076 Z\" fill=\"#000000\" fill-rule=\"nonzero\" fill-opacity=\"1\" /><path clip-path=\"url(#clip450)\" d=\"M121.177 733.39 Q117.566 733.39 115.737 736.955 Q113.932 740.497 113.932 747.626 Q113.932 754.733 115.737 758.298 Q117.566 761.839 121.177 761.839 Q124.811 761.839 126.617 758.298 Q128.445 754.733 128.445 747.626 Q128.445 740.497 126.617 736.955 Q124.811 733.39 121.177 733.39 M121.177 729.687 Q126.987 729.687 130.043 734.293 Q133.121 738.876 133.121 747.626 Q133.121 756.353 130.043 760.96 Q126.987 765.543 121.177 765.543 Q115.367 765.543 112.288 760.96 Q109.233 756.353 109.233 747.626 Q109.233 738.876 112.288 734.293 Q115.367 729.687 121.177 729.687 Z\" fill=\"#000000\" fill-rule=\"nonzero\" fill-opacity=\"1\" /><path clip-path=\"url(#clip450)\" d=\"M151.339 733.39 Q147.728 733.39 145.899 736.955 Q144.093 740.497 144.093 747.626 Q144.093 754.733 145.899 758.298 Q147.728 761.839 151.339 761.839 Q154.973 761.839 156.779 758.298 Q158.607 754.733 158.607 747.626 Q158.607 740.497 156.779 736.955 Q154.973 733.39 151.339 733.39 M151.339 729.687 Q157.149 729.687 160.205 734.293 Q163.283 738.876 163.283 747.626 Q163.283 756.353 160.205 760.96 Q157.149 765.543 151.339 765.543 Q145.529 765.543 142.45 760.96 Q139.394 756.353 139.394 747.626 Q139.394 738.876 142.45 734.293 Q145.529 729.687 151.339 729.687 Z\" fill=\"#000000\" fill-rule=\"nonzero\" fill-opacity=\"1\" /><path clip-path=\"url(#clip450)\" d=\"M91.0151 500.017 Q87.6817 500.017 85.7605 501.799 Q83.8623 503.582 83.8623 506.707 Q83.8623 509.832 85.7605 511.614 Q87.6817 513.397 91.0151 513.397 Q94.3484 513.397 96.2697 511.614 Q98.1909 509.809 98.1909 506.707 Q98.1909 503.582 96.2697 501.799 Q94.3715 500.017 91.0151 500.017 M86.3392 498.026 Q83.3299 497.286 81.6401 495.225 Q79.9735 493.165 79.9735 490.202 Q79.9735 486.059 82.9133 483.651 Q85.8762 481.244 91.0151 481.244 Q96.1771 481.244 99.1169 483.651 Q102.057 486.059 102.057 490.202 Q102.057 493.165 100.367 495.225 Q98.7002 497.286 95.7141 498.026 Q99.0937 498.813 100.969 501.105 Q102.867 503.397 102.867 506.707 Q102.867 511.73 99.7882 514.415 Q96.7326 517.1 91.0151 517.1 Q85.2975 517.1 82.2188 514.415 Q79.1633 511.73 79.1633 506.707 Q79.1633 503.397 81.0614 501.105 Q82.9595 498.813 86.3392 498.026 M84.6262 490.642 Q84.6262 493.327 86.2929 494.832 Q87.9827 496.336 91.0151 496.336 Q94.0243 496.336 95.7141 494.832 Q97.4271 493.327 97.4271 490.642 Q97.4271 487.957 95.7141 486.452 Q94.0243 484.948 91.0151 484.948 Q87.9827 484.948 86.2929 486.452 Q84.6262 487.957 84.6262 490.642 Z\" fill=\"#000000\" fill-rule=\"nonzero\" fill-opacity=\"1\" /><path clip-path=\"url(#clip450)\" d=\"M121.177 484.948 Q117.566 484.948 115.737 488.512 Q113.932 492.054 113.932 499.184 Q113.932 506.29 115.737 509.855 Q117.566 513.397 121.177 513.397 Q124.811 513.397 126.617 509.855 Q128.445 506.29 128.445 499.184 Q128.445 492.054 126.617 488.512 Q124.811 484.948 121.177 484.948 M121.177 481.244 Q126.987 481.244 130.043 485.85 Q133.121 490.434 133.121 499.184 Q133.121 507.91 130.043 512.517 Q126.987 517.1 121.177 517.1 Q115.367 517.1 112.288 512.517 Q109.233 507.91 109.233 499.184 Q109.233 490.434 112.288 485.85 Q115.367 481.244 121.177 481.244 Z\" fill=\"#000000\" fill-rule=\"nonzero\" fill-opacity=\"1\" /><path clip-path=\"url(#clip450)\" d=\"M151.339 484.948 Q147.728 484.948 145.899 488.512 Q144.093 492.054 144.093 499.184 Q144.093 506.29 145.899 509.855 Q147.728 513.397 151.339 513.397 Q154.973 513.397 156.779 509.855 Q158.607 506.29 158.607 499.184 Q158.607 492.054 156.779 488.512 Q154.973 484.948 151.339 484.948 M151.339 481.244 Q157.149 481.244 160.205 485.85 Q163.283 490.434 163.283 499.184 Q163.283 507.91 160.205 512.517 Q157.149 517.1 151.339 517.1 Q145.529 517.1 142.45 512.517 Q139.394 507.91 139.394 499.184 Q139.394 490.434 142.45 485.85 Q145.529 481.244 151.339 481.244 Z\" fill=\"#000000\" fill-rule=\"nonzero\" fill-opacity=\"1\" /><path clip-path=\"url(#clip450)\" d=\"M51.6634 264.051 L59.3023 264.051 L59.3023 237.685 L50.9921 239.352 L50.9921 235.093 L59.256 233.426 L63.9319 233.426 L63.9319 264.051 L71.5707 264.051 L71.5707 267.986 L51.6634 267.986 L51.6634 264.051 Z\" fill=\"#000000\" fill-rule=\"nonzero\" fill-opacity=\"1\" /><path clip-path=\"url(#clip450)\" d=\"M91.0151 236.505 Q87.404 236.505 85.5753 240.07 Q83.7697 243.611 83.7697 250.741 Q83.7697 257.847 85.5753 261.412 Q87.404 264.954 91.0151 264.954 Q94.6493 264.954 96.4548 261.412 Q98.2835 257.847 98.2835 250.741 Q98.2835 243.611 96.4548 240.07 Q94.6493 236.505 91.0151 236.505 M91.0151 232.801 Q96.8252 232.801 99.8808 237.408 Q102.959 241.991 102.959 250.741 Q102.959 259.468 99.8808 264.074 Q96.8252 268.658 91.0151 268.658 Q85.2049 268.658 82.1262 264.074 Q79.0707 259.468 79.0707 250.741 Q79.0707 241.991 82.1262 237.408 Q85.2049 232.801 91.0151 232.801 Z\" fill=\"#000000\" fill-rule=\"nonzero\" fill-opacity=\"1\" /><path clip-path=\"url(#clip450)\" d=\"M121.177 236.505 Q117.566 236.505 115.737 240.07 Q113.932 243.611 113.932 250.741 Q113.932 257.847 115.737 261.412 Q117.566 264.954 121.177 264.954 Q124.811 264.954 126.617 261.412 Q128.445 257.847 128.445 250.741 Q128.445 243.611 126.617 240.07 Q124.811 236.505 121.177 236.505 M121.177 232.801 Q126.987 232.801 130.043 237.408 Q133.121 241.991 133.121 250.741 Q133.121 259.468 130.043 264.074 Q126.987 268.658 121.177 268.658 Q115.367 268.658 112.288 264.074 Q109.233 259.468 109.233 250.741 Q109.233 241.991 112.288 237.408 Q115.367 232.801 121.177 232.801 Z\" fill=\"#000000\" fill-rule=\"nonzero\" fill-opacity=\"1\" /><path clip-path=\"url(#clip450)\" d=\"M151.339 236.505 Q147.728 236.505 145.899 240.07 Q144.093 243.611 144.093 250.741 Q144.093 257.847 145.899 261.412 Q147.728 264.954 151.339 264.954 Q154.973 264.954 156.779 261.412 Q158.607 257.847 158.607 250.741 Q158.607 243.611 156.779 240.07 Q154.973 236.505 151.339 236.505 M151.339 232.801 Q157.149 232.801 160.205 237.408 Q163.283 241.991 163.283 250.741 Q163.283 259.468 160.205 264.074 Q157.149 268.658 151.339 268.658 Q145.529 268.658 142.45 264.074 Q139.394 259.468 139.394 250.741 Q139.394 241.991 142.45 237.408 Q145.529 232.801 151.339 232.801 Z\" fill=\"#000000\" fill-rule=\"nonzero\" fill-opacity=\"1\" /><path clip-path=\"url(#clip452)\" d=\"M1276.02 848.211 L768.125 848.211 L1783.91 848.211 L1276.02 848.211 L1276.02 476.479 L1276.02 848.211  Z\" fill=\"#009af9\" fill-rule=\"evenodd\" fill-opacity=\"1\"/>\n",
       "<polyline clip-path=\"url(#clip452)\" style=\"stroke:#000000; stroke-linecap:round; stroke-linejoin:round; stroke-width:4; stroke-opacity:1; fill:none\" points=\"1276.02,848.211 768.125,848.211 1783.91,848.211 1276.02,848.211 1276.02,476.479 1276.02,848.211 \"/>\n",
       "<path clip-path=\"url(#clip452)\" d=\"M2291.81 476.479 L2291.81 328.345 L260.231 328.345 L260.231 476.479 L2291.81 476.479 L2291.81 328.345 L2291.81 476.479  Z\" fill=\"#009af9\" fill-rule=\"evenodd\" fill-opacity=\"1\"/>\n",
       "<polyline clip-path=\"url(#clip452)\" style=\"stroke:#000000; stroke-linecap:round; stroke-linejoin:round; stroke-width:4; stroke-opacity:1; fill:none\" points=\"2291.81,476.479 2291.81,328.345 260.231,328.345 260.231,476.479 2291.81,476.479 2291.81,328.345 2291.81,476.479 \"/>\n",
       "<path clip-path=\"url(#clip452)\" d=\"M2291.81 223.688 L260.231 223.688 L260.231 328.345 L2291.81 328.345 L2291.81 223.688 L1276.02 223.688 L2291.81 223.688  Z\" fill=\"#009af9\" fill-rule=\"evenodd\" fill-opacity=\"1\"/>\n",
       "<polyline clip-path=\"url(#clip452)\" style=\"stroke:#000000; stroke-linecap:round; stroke-linejoin:round; stroke-width:4; stroke-opacity:1; fill:none\" points=\"2291.81,223.688 260.231,223.688 260.231,328.345 2291.81,328.345 2291.81,223.688 1276.02,223.688 2291.81,223.688 \"/>\n",
       "<path clip-path=\"url(#clip452)\" d=\"M1276.02 87.9763 L768.125 87.9763 L1783.91 87.9763 L1276.02 87.9763 L1276.02 223.688 L1276.02 87.9763  Z\" fill=\"#009af9\" fill-rule=\"evenodd\" fill-opacity=\"1\"/>\n",
       "<polyline clip-path=\"url(#clip452)\" style=\"stroke:#000000; stroke-linecap:round; stroke-linejoin:round; stroke-width:4; stroke-opacity:1; fill:none\" points=\"1276.02,87.9763 768.125,87.9763 1783.91,87.9763 1276.02,87.9763 1276.02,223.688 1276.02,87.9763 \"/>\n",
       "<circle clip-path=\"url(#clip452)\" cx=\"1276.02\" cy=\"1213.42\" r=\"14.4\" fill=\"#009af9\" fill-rule=\"evenodd\" fill-opacity=\"1\" stroke=\"#000000\" stroke-opacity=\"1\" stroke-width=\"3.2\"/>\n",
       "<circle clip-path=\"url(#clip452)\" cx=\"1276.02\" cy=\"1132.68\" r=\"14.4\" fill=\"#009af9\" fill-rule=\"evenodd\" fill-opacity=\"1\" stroke=\"#000000\" stroke-opacity=\"1\" stroke-width=\"3.2\"/>\n",
       "<circle clip-path=\"url(#clip452)\" cx=\"1276.02\" cy=\"1287.95\" r=\"14.4\" fill=\"#009af9\" fill-rule=\"evenodd\" fill-opacity=\"1\" stroke=\"#000000\" stroke-opacity=\"1\" stroke-width=\"3.2\"/>\n",
       "<circle clip-path=\"url(#clip452)\" cx=\"1276.02\" cy=\"1122.74\" r=\"14.4\" fill=\"#009af9\" fill-rule=\"evenodd\" fill-opacity=\"1\" stroke=\"#000000\" stroke-opacity=\"1\" stroke-width=\"3.2\"/>\n",
       "<circle clip-path=\"url(#clip452)\" cx=\"1276.02\" cy=\"1445.72\" r=\"14.4\" fill=\"#009af9\" fill-rule=\"evenodd\" fill-opacity=\"1\" stroke=\"#000000\" stroke-opacity=\"1\" stroke-width=\"3.2\"/>\n",
       "<circle clip-path=\"url(#clip452)\" cx=\"1276.02\" cy=\"1138.89\" r=\"14.4\" fill=\"#009af9\" fill-rule=\"evenodd\" fill-opacity=\"1\" stroke=\"#000000\" stroke-opacity=\"1\" stroke-width=\"3.2\"/>\n",
       "<circle clip-path=\"url(#clip452)\" cx=\"1276.02\" cy=\"1271.81\" r=\"14.4\" fill=\"#009af9\" fill-rule=\"evenodd\" fill-opacity=\"1\" stroke=\"#000000\" stroke-opacity=\"1\" stroke-width=\"3.2\"/>\n",
       "<circle clip-path=\"url(#clip452)\" cx=\"1276.02\" cy=\"942.619\" r=\"14.4\" fill=\"#009af9\" fill-rule=\"evenodd\" fill-opacity=\"1\" stroke=\"#000000\" stroke-opacity=\"1\" stroke-width=\"3.2\"/>\n",
       "<circle clip-path=\"url(#clip452)\" cx=\"1276.02\" cy=\"892.931\" r=\"14.4\" fill=\"#009af9\" fill-rule=\"evenodd\" fill-opacity=\"1\" stroke=\"#000000\" stroke-opacity=\"1\" stroke-width=\"3.2\"/>\n",
       "<circle clip-path=\"url(#clip452)\" cx=\"1276.02\" cy=\"1248.2\" r=\"14.4\" fill=\"#009af9\" fill-rule=\"evenodd\" fill-opacity=\"1\" stroke=\"#000000\" stroke-opacity=\"1\" stroke-width=\"3.2\"/>\n",
       "<circle clip-path=\"url(#clip452)\" cx=\"1276.02\" cy=\"1381.12\" r=\"14.4\" fill=\"#009af9\" fill-rule=\"evenodd\" fill-opacity=\"1\" stroke=\"#000000\" stroke-opacity=\"1\" stroke-width=\"3.2\"/>\n",
       "<circle clip-path=\"url(#clip452)\" cx=\"1276.02\" cy=\"933.924\" r=\"14.4\" fill=\"#009af9\" fill-rule=\"evenodd\" fill-opacity=\"1\" stroke=\"#000000\" stroke-opacity=\"1\" stroke-width=\"3.2\"/>\n",
       "<circle clip-path=\"url(#clip452)\" cx=\"1276.02\" cy=\"856.906\" r=\"14.4\" fill=\"#009af9\" fill-rule=\"evenodd\" fill-opacity=\"1\" stroke=\"#000000\" stroke-opacity=\"1\" stroke-width=\"3.2\"/>\n",
       "<circle clip-path=\"url(#clip452)\" cx=\"1276.02\" cy=\"1065.6\" r=\"14.4\" fill=\"#009af9\" fill-rule=\"evenodd\" fill-opacity=\"1\" stroke=\"#000000\" stroke-opacity=\"1\" stroke-width=\"3.2\"/>\n",
       "<polyline clip-path=\"url(#clip452)\" style=\"stroke:#009af9; stroke-linecap:round; stroke-linejoin:round; stroke-width:0; stroke-opacity:1; fill:none\" points=\"1276.02,848.211 768.125,848.211 1783.91,848.211 1276.02,848.211 1276.02,476.479 \"/>\n",
       "<polyline clip-path=\"url(#clip452)\" style=\"stroke:#009af9; stroke-linecap:round; stroke-linejoin:round; stroke-width:0; stroke-opacity:1; fill:none\" points=\"2291.81,476.479 2291.81,328.345 260.231,328.345 260.231,476.479 2291.81,476.479 2291.81,328.345 \"/>\n",
       "<polyline clip-path=\"url(#clip452)\" style=\"stroke:#009af9; stroke-linecap:round; stroke-linejoin:round; stroke-width:0; stroke-opacity:1; fill:none\" points=\"2291.81,223.688 260.231,223.688 260.231,328.345 2291.81,328.345 2291.81,223.688 1276.02,223.688 \"/>\n",
       "<polyline clip-path=\"url(#clip452)\" style=\"stroke:#009af9; stroke-linecap:round; stroke-linejoin:round; stroke-width:0; stroke-opacity:1; fill:none\" points=\"1276.02,87.9763 768.125,87.9763 1783.91,87.9763 1276.02,87.9763 1276.02,223.688 \"/>\n",
       "<path clip-path=\"url(#clip450)\" d=\"M2013.2 1438.47 L2280.97 1438.47 L2280.97 1334.79 L2013.2 1334.79  Z\" fill=\"#ffffff\" fill-rule=\"evenodd\" fill-opacity=\"1\"/>\n",
       "<polyline clip-path=\"url(#clip450)\" style=\"stroke:#000000; stroke-linecap:round; stroke-linejoin:round; stroke-width:4; stroke-opacity:1; fill:none\" points=\"2013.2,1438.47 2280.97,1438.47 2280.97,1334.79 2013.2,1334.79 2013.2,1438.47 \"/>\n",
       "<path clip-path=\"url(#clip450)\" d=\"M2037.12 1407.37 L2180.69 1407.37 L2180.69 1365.9 L2037.12 1365.9 L2037.12 1407.37  Z\" fill=\"#009af9\" fill-rule=\"evenodd\" fill-opacity=\"1\"/>\n",
       "<polyline clip-path=\"url(#clip450)\" style=\"stroke:#000000; stroke-linecap:round; stroke-linejoin:round; stroke-width:4; stroke-opacity:1; fill:none\" points=\"2037.12,1407.37 2180.69,1407.37 2180.69,1365.9 2037.12,1365.9 2037.12,1407.37 \"/>\n",
       "<path clip-path=\"url(#clip450)\" d=\"M2218.46 1406.32 Q2216.65 1410.95 2214.94 1412.36 Q2213.23 1413.78 2210.36 1413.78 L2206.95 1413.78 L2206.95 1410.21 L2209.45 1410.21 Q2211.21 1410.21 2212.19 1409.38 Q2213.16 1408.54 2214.34 1405.44 L2215.1 1403.5 L2204.62 1377.99 L2209.13 1377.99 L2217.23 1398.27 L2225.33 1377.99 L2229.85 1377.99 L2218.46 1406.32 Z\" fill=\"#000000\" fill-rule=\"nonzero\" fill-opacity=\"1\" /><path clip-path=\"url(#clip450)\" d=\"M2237.14 1399.98 L2244.78 1399.98 L2244.78 1373.61 L2236.47 1375.28 L2236.47 1371.02 L2244.73 1369.35 L2249.41 1369.35 L2249.41 1399.98 L2257.05 1399.98 L2257.05 1403.91 L2237.14 1403.91 L2237.14 1399.98 Z\" fill=\"#000000\" fill-rule=\"nonzero\" fill-opacity=\"1\" /></svg>\n"
      ]
     },
     "metadata": {},
     "output_type": "display_data"
    }
   ],
   "source": [
    "using Plots, StatsPlots\n",
    "ntaxas = [t.numTaxa for t in est_gts]\n",
    "println(\"min: $(minimum(ntaxas)), max: $(maximum(ntaxas))\")\n",
    "uq_names = Set()\n",
    "for t in est_gts\n",
    "    union!(uq_names, [l.name for l in t.leaf])\n",
    "end\n",
    "println(\"total unique names: $(length(uq_names))\")\n",
    "\n",
    "boxplot(ntaxas)"
   ]
  },
  {
   "cell_type": "code",
   "execution_count": 16,
   "metadata": {},
   "outputs": [
    {
     "data": {
      "text/plain": [
       "(75.0, 398.0)"
      ]
     },
     "metadata": {},
     "output_type": "display_data"
    }
   ],
   "source": [
    "name_vec = Vector(collect(keys(uq_names.dict)))\n",
    "name_map = Dict([name_vec[i] => i for i=1:length(uq_names)])\n",
    "counts = zeros(length(uq_names))\n",
    "for gt in est_gts\n",
    "    for leaf in gt.leaf\n",
    "        counts[name_map[leaf.name]] += 1\n",
    "    end\n",
    "end\n",
    "minimum(counts), maximum(counts)"
   ]
  },
  {
   "cell_type": "markdown",
   "metadata": {},
   "source": [
    "## Subset decomposition"
   ]
  },
  {
   "cell_type": "code",
   "execution_count": 3,
   "metadata": {},
   "outputs": [
    {
     "name": "stderr",
     "output_type": "stream",
     "text": [
      "┌ Info: 4 branches had negative lengths, reset to 0\n",
      "└ @ PhyloNetworks /mnt/ws/home/nkolbow/.julia/packages/PhyloNetworks/V8OaV/src/nj.jl:140\n"
     ]
    },
    {
     "data": {
      "text/plain": [
       "HybridNetwork, Un-rooted Network\n",
       "2353 edges\n",
       "2354 nodes: 1178 tips, 0 hybrid nodes, 1176 internal tree nodes.\n",
       "tip labels: AALA, AAXJ, ABCD, ABEH, ...\n",
       "(((((((((((((((((((((((AALA:2.504,(((((AUGV:0.711,(UDHA:0.677,ZGQD:1.082):0.147):1.583,NMGG:1.115):0.84,(((((BEKN:1.083,(QCOU:0.857,RQNK:0.717):0.558):0.105,SSDU:0.896):1.59,IRAF:0.727):1.325,(XHKT:0.927,XMVD:1.085):0.478):0.181,EVOD:1.312):1.355):1.738,(((((Aquco_v1.1:0.491,GBVZ:0.667):1.11,(UPOG:0.488,ZUHO:0.536):1.235):0.937,VGHH:0.993):1.13,(WFBF:0.986,YHFG:0.917):1.138):1.123,CCID:1.698):0.312):0.159,QTJY:1.859):1.448):0.237,((FAKD:0.713,Nelnu_v1.0:0.435):2.085,((GRRW:0.743,(RQUG:0.462,SIIK:0.614):0.64):2.09,VQFW:1.823):0.321):0.614):0.243,SWOH:2.258):0.304,((((((((((((((((((((((ABCD:0.745,RDOO:0.465):1.936,((FFPD:1.482,GRKU:1.25):0.59,NGTD:1.656):0.19):0.183,(RGKI:0.602,VMXJ:0.429):2.042):0.681,BPSG:1.534):0.95,((((BGXB:1.622,(JMXW:0.523,XWHK:0.629):1.706):0.587,(CMEQ:1.385,((DHWX:2.063,(((((EEMJ:1.851,LNSF:1.887):0.53,(((JADL:1.685,VBMM:1.389):0.91,(QMWB:1.519,TMAJ:1.296):1.038):0.104,(MIRS:1.909,WSPM:2.015):0.339):0.057):0.128,TAVP:2.019):0.592,(IGUH:0.666,ZACW:0.603):2.27):0.048,QKQO:1.798):0.303):2.52,WNGH:1.259):0.385):0.66):0.448,ORKS:1.424):0.159,YWNF:1.514):1.774):0.296,ZQRI:1.55):0.478,(KEFD:1.659,(Phypa_v3.0:0.451,YEPO:0.559):1.394):0.382):1.876,AWOI:0.884):0.838,HRWG:1.071):0.752,(HVBQ:0.932,(SZYG:0.889,ZTHV:0.272):1.51):0.158):1.116,WOGB:0.801):1.123,((GOWD:1.0,RCBT:0.607):0.148,UHLI:0.719):1.512):0.442,SKQD:0.817):1.664,((((((BNCU:1.36,((KRUQ:0.45,UUHD:0.623):1.895,TGKW:1.695):0.147):0.694,((HPXA:1.591,LGOW:1.657):0.279,((((IRBN:0.501,OFTV:0.994):0.85,YBQN:0.748):1.09,WZYK:1.128):0.453,RTMU:2.533):1.259):0.37):0.663,NRWZ:1.64):0.5,YFGP:1.407):0.106,(JHFI:0.524,PIUF:0.489):1.857):1.46,(HERT:1.144,((((HMHL:0.428,JPYU:0.705):0.811,TFYI:1.26):0.843,(ILBQ:0.667,WJLO:0.61):0.855):0.607,TXVB:1.09):0.068):1.72):1.807):0.59,((((AKXB:0.765,((DXOU:0.932,TCBC:0.436):0.934,UCRN:0.734):0.363):1.0,(FAJB:0.563,(WCZB:0.655,WEEQ:0.479):0.919):1.043):1.016,(BSNI:0.455,TWUW:0.65):1.184):0.286,ANON:0.917):1.693):0.195,((((((((((((((((((((((((((((((ACRY:0.551,LNIL:0.661):1.062,ZIVZ:0.32):2.125,((GFUR:0.313,TSBQ:0.877):1.502,(JRGZ:1.358,(MULF:0.906,VALZ:0.608):0.15):1.671):0.718):0.876,(((GUBD:1.277,KFEB:0.878):0.436,((PRIQ:0.325,QRTH:0.844):1.599,ZLQE:1.08):0.582):0.791,(((((RHVC:0.96,ZDIZ:0.818):0.057,WDWX:0.668):0.958,UKUC:0.961):1.019,SYJM:0.532):0.951,ZFXU:0.95):1.16):1.568):0.654,((((((((BCYF:1.862,IHOI:2.19):0.185,KUJU:1.711):0.328,(ISPU:1.645,(((JWGT:0.73,WRSL:0.387):1.394,(RNAT:1.382,RYJX:1.15):0.454):0.332,Volca_v2.0:0.67):0.879):0.186):0.81,Chlre_v5.5:0.471):1.236,JKKI:2.015):0.636,(QWRA:0.39,USIX:1.648):1.756):0.485,IRYH:1.661):0.76,(OFUE:0.866,XDLL:0.192):2.912):0.509):0.341,(((AJUW:0.037,LBRP:1.124):1.053,AOUJ:0.76):0.43,UTRE:0.71):2.917):0.561,RUIF:2.544):0.236,(FXHG:2.541,VIAU:2.883):0.055):0.903,(DZPJ:2.851,((ENAU:2.568,MXDS:1.374):1.914,(FOYQ:2.497,(((MWAN:1.89,PZIF:0.156):1.282,(VJDZ:0.228,(XKWQ:0.713,XTON:0.489):1.638):0.749):0.238,OTQG:2.37):1.698):0.502):0.202):0.268):0.226,BZSH:2.583):0.662,((BAZF:1.916,(DVYE:0.341,SDPC:0.659):2.809):0.528,(IJMT:1.474,(((ISGT:1.355,RAWF:0.0):0.724,JMUI:1.243):0.232,VFIV:0.715):2.468):1.284):0.56):2.354,(GYBH:0.496,JTIG:0.678):3.02):0.231,(((((AJAU:0.498,(CBNG:0.948,LETF:0.256):0.997):1.088,(GJIY:1.587,JIWJ:1.005):0.106):0.413,((CQQP:0.582,(OAEZ:0.806,OQON:1.024):0.179):1.486,(KSFK:1.442,(LSHT:1.224,NQYP:1.39):0.238):0.327):1.106):3.334,KADG:2.632):0.421,(ALZF:0.73,NSTT:1.022):2.236):0.389):0.203,((NATT:0.606,YDCQ:0.446):3.607,(VBLH:3.207,VHIJ:2.892):0.458):1.125):0.417,(((((AKCR:1.173,(Chlva_v1.0:0.156,EEJO:0.939):1.204):0.424,BILC:1.927):0.495,JQFK:2.354):1.196,((MFYC:2.011,MNCB:1.386):0.876,PFUD:2.841):0.665):0.33,((EATP:2.167,((((ETGN:1.379,QYXY:0.0):2.133,GXBM:1.466):0.725,NKXU:2.162):0.106,ZNUM:2.389):0.028):0.492,(WCLV:0.367,WXRI:0.958):2.621):0.354):0.879):0.215,((DUMA:0.57,(HHXJ:1.16,HVNO:0.138):1.122):0.257,FMVB:1.118):3.091):0.159,(PUAN:0.331,RRSV:0.827):3.659):1.743,AYPS:2.971):0.328,JMTE:3.978):0.115,TGNL:2.836):0.561,(ISIM:1.833,MMKU:1.345):1.27):0.295,((BTFM:2.294,(((MCPK:1.307,Ostlu_v2.0:0.78):0.52,(Micpu_v3.0:0.067,QXSZ:1.184):1.077):1.82,XOAL:2.232):0.139):0.898,(TNAW:0.523,XIVI:1.7):1.954):0.347):0.143,EGNB:3.274):0.451,((HYHN:1.099,XJGM:1.179):2.336,XMCL:2.062):0.991):0.147,((((((APTP:0.944,((((ASZK:0.998,(((JCXF:0.927,ULXR:1.049):0.203,VRGZ:0.763):0.69,QLMZ:1.067):0.802):0.887,((FIDQ:0.864,(RAPY:0.734,SRSQ:0.454):0.599):1.59,FSQE:1.183):0.319):0.877,(((FIKG:0.662,HFIK:0.578):1.047,FOMH:0.733):0.986,((((JGGD:1.171,VYER:0.887):0.434,YRMA:1.099):0.609,LDRY:2.169):0.232,RWXW:1.412):0.289):2.064):0.534,LIRF:1.329):0.279):2.085,(BOGT:0.605,(DBYD:0.634,VKVG:0.906):0.686):1.423):1.445,((BAKF:1.076,(IAYV:1.538,IRZA:0.427):0.361):0.231,ROZZ:1.238):2.426):0.46,((BAJW:0.876,LXRN:0.549):1.21,(EBWI:1.41,((LLEN:1.364,VJED:1.034):0.328,(NMAK:1.257,RFAD:1.187):0.587):0.78):1.344):1.386):0.278,(((((((((BWVJ:0.94,JEBK:0.756):0.202,IHJY:0.675):1.76,((CKXF:0.824,(SBLT:0.632,(UGPM:0.295,WEJN:0.705):0.899):0.701):0.996,IEHF:1.161):0.166):1.089,((((FTRP:0.43,PWKQ:0.615):0.824,(LJPN:0.591,VNAL:0.567):1.035):0.683,IKWM:0.776):1.313,(((IKIZ:1.266,URSB:0.826):0.283,ZJOJ:0.936):0.209,PYDB:1.17):1.813):0.531):0.259,(((UYFR:0.782,XAXW:0.815):1.034,YSBD:1.09):0.188,VZWX:1.518):0.662):2.324,ZULJ:1.997):0.244,(JJZR:1.413,((OBUY:0.414,PVGP:0.639):2.163,(RSOF:1.543,RTLC:0.991):0.675):0.154):0.343):0.366,LLXJ:1.387):0.879,Cyame_v1.0:1.848):1.669):0.533,(JKHA:1.011,(POOW:1.0,(PQED:0.911,QFND:1.464):0.029):0.159):1.989):2.779):1.136,((AZZW:1.061,NNHQ:1.962):0.393,KYIO:2.696):0.557):1.935,(BFIK:1.459,(FPCO:0.433,(FQLP:1.042,Klefl_v1.0:0.0):0.871):1.679):0.794):0.891,(Chabr_v0.1:0.0,MWXT:1.063):1.884):0.448,(DRGY:2.066,(QPDY:0.447,VQBJ:0.856):1.242):1.074):0.271,((((((((((AEKF:1.609,(((((((BHBK:2.066,RPRU:1.67):0.138,((((GBGT:1.938,(STKJ:1.634,WDGV:1.058):0.394):0.234,MOYY:1.715):0.112,MCHJ:1.809):1.043,WCQU:1.848):0.2):0.127,((((DFDS:1.396,QWFV:1.38):0.043,GGWH:0.954):0.958,(ISHC:0.777,MNNM:1.174):1.444):0.187,GYRP:2.006):1.039):0.905,RQFE:1.759):0.181,HIDG:2.527):0.795,RPQV:1.357):0.378,YSQT:1.432):0.873):1.167,DRFX:1.995):1.073,KEYW:1.6):0.352,XRTZ:1.868):0.32,SNOX:2.382):0.466,KMNX:3.386):0.16,FFGR:2.324):0.349,HAOX:2.767):0.34,((((HKZW:1.391,ZRMT:1.171):0.336,(JOJQ:0.79,(MFZO:0.768,NBYP:0.831):0.419):1.368):0.462,((RPGL:0.689,VAZE:0.539):0.761,YOXI:0.477):2.004):1.485,(WDCW:1.343,WSJO:1.751):0.542):0.192):0.964,TPHT:2.22):0.501):2.595):0.796,(((((((ABIJ:0.529,LGDQ:0.577):0.781,(Selmo_v1.0:0.49,ZZOL:0.533):0.851):0.938,KJYC:0.684):0.914,((JKAA:0.727,ZYCD:0.632):0.927,ZFGK:0.82):0.768):0.614,KUXM:1.03):1.218,(PKOX:0.442,PYHZ:0.663):1.73):0.654,((((CBAE:0.534,GAON:0.59):1.132,(GKAG:0.742,YHZW:0.464):0.746):1.275,ZZEI:1.309):0.927,(((ENQF:0.895,WAFT:0.965):0.262,(PQTO:0.82,XNXF:1.194):0.153):1.484,(ULKT:0.772,UPMJ:0.3):1.093):0.689):1.816):0.771):0.962,(((((((((((((((((((((AFPO:0.705,URCP:0.791):1.577,UFJN:1.473):0.539,(FCHS:2.269,HTFH:2.283):0.145):0.309,VITX:2.001):0.243,(YJJY:1.147,YQEC:1.312):1.481):0.227,MROH:2.443):0.204,OCZL:2.397):0.092,(HEGQ:1.276,(HNDZ:1.204,((LHLE:0.991,RICC:1.216):0.524,(XXHP:0.804,YOWV:1.014):0.703):0.315):1.637):1.477):0.891,((BMIF:0.311,PSKY:1.001):0.809,KJZG:0.603):2.47):0.441,(((((((((CJNT:1.039,(GYFU:1.221,IXLH:1.062):0.072):0.323,YLJA:1.164):1.187,(UJWU:1.29,ZQYU:1.28):0.117):0.396,ORJE:1.147):1.574,OQWW:1.138):0.994,NWWI:1.762):0.706,(FQGQ:2.064,JBLI:2.01):0.22):0.093,RFRB:2.557):0.171,WGTU:1.75):0.879):2.01,MTGC:1.521):0.558,(((((BMJR:1.045,WCLG:1.342):0.746,(NDUV:0.389,SKYV:0.617):1.795):0.276,(((DCDT:0.612,ZXJO:1.051):0.687,YCKE:1.075):0.7,(GSXD:1.041,XDDT:0.877):0.544):1.544):0.824,WQML:1.304):0.325,(((FLTD:1.029,POPJ:0.793):0.416,UJTT:0.9):1.754,PIVW:1.389):0.26):2.074):1.047,((NOKI:0.408,YIXP:0.791):1.882,VVRN:1.419):0.036):1.629,((EWXK:1.041,GANB:1.251):0.204,(PNZO:0.782,UWOD:0.727):0.984):1.059):0.333,(CVEG:1.488,KIIX:1.301):0.544):1.476,(CQPW:0.749,PBUU:1.073):0.874):0.821,(MEKP:0.801,QIAD:1.302):0.315):1.182,(RFMZ:0.642,(UOMY:0.705,VIBO:0.599):0.541):1.293):1.226,(DFHO:0.345,(NHCM:1.039,UGNK:0.163):0.905):1.621):0.17,((ALVQ:0.524,QVMR:0.51):1.265,((BEGM:0.855,EEAQ:0.209):0.917,DJSE:0.694):0.869):1.068):0.523,(CAPN:0.938,JVSZ:0.08):1.819):1.555):1.872,((((((((ACWS:0.467,MIXZ:0.596):1.092,RSCE:0.591):0.542,XTZO:0.683):1.46,(((((BBDD:1.673,JRNA:1.629):0.2,((CDFR:1.069,ZQWM:1.024):0.76,JZVE:1.513):0.674):0.089,OWFC:1.761):0.11,(EGLZ:0.638,KLGF:0.706):1.858):0.631,(((((FMWZ:0.987,(IZGN:0.719,(QHBI:0.595,ROWR:0.606):0.906):1.156):0.609,((SCEB:0.947,XLGK:0.854):0.654,(UUJS:0.95,VGSX:0.838):0.572):1.12):0.95,HILW:1.137):0.923,MHGD:1.329):0.226,QCGM:1.561):1.105):2.355):0.635,((((((((((AIGO:0.739,UEVI:0.781):1.274,((((BUWV:0.824,XQSG:0.871):1.083,CGDN:1.191):0.11,FRPM:1.401):0.048,(QNGJ:0.574,XMGP:0.893):1.349):1.662):0.178,(NKIN:0.706,VFYZ:0.709):1.336):0.905,(((AUDE:0.874,GKCZ:1.004):0.607,((IFLI:0.989,RMMV:0.752):0.03,JDQB:0.804):1.72):0.77,(ETCJ:1.344,(OVIJ:1.307,YYPE:0.931):0.255):0.134):2.168):1.043,((FHST:0.739,OXGJ:0.8):0.593,GMHZ:0.865):1.22):1.059,(((HBGV:1.301,QFAE:0.947):0.467,NRXL:0.563):1.224,XIRK:1.234):0.216):0.774,QSNJ:1.17):0.42,ZQVF:1.086):1.776,((((BTTS:0.52,YLPM:0.532):0.947,(WWSS:0.585,ZYAX:0.442):0.95):1.473,NVGZ:0.911):0.045,((EFMS:0.351,HQOM:0.738):0.997,IAJW:0.614):1.206):0.955):1.284,YFZK:0.973):0.617):1.435,((((AQFM:1.16,(AREG:0.781,GAMH:0.475):1.516):0.079,(JUWL:1.205,VSRH:0.893):0.569):0.872,GGEA:1.44):0.582,(((AWQB:1.293,(((DZQM:0.87,(JBND:0.856,MFTM:0.711):0.257):0.579,Pinta_v2.0:1.465):0.933,IIOL:0.823):1.25):0.304,NPRL:2.327):0.292,(IOVS:0.744,WVWN:0.571):1.587):0.313):2.531):0.577,(GTHK:0.774,(TOXE:0.704,VDAO:1.481):0.171):1.642):0.461,((((GNQG:0.758,WLIC:0.919):0.076,KAWQ:0.752):1.102,XZUY:0.61):0.848,SGTW:1.263):0.97):1.194):3.764,(((Ambtr_v1.0.27:0.426,URDJ:0.574):2.596,(PZRT:0.559,WTKZ:0.936):2.258):0.444,(FZJL:0.805,(NWMY:0.83,VZCI:0.41):0.965):1.754):0.663):1.381,((((((((((((ABSS:0.808,BCGB:0.722):0.165,KAYP:1.764):0.083,WIGA:0.855):2.254,VYLQ:1.184):0.753,(KRJP:1.658,(MAQO:0.666,WAIL:0.636):1.161):0.215):0.291,BSVG:1.876):0.463,(FALI:0.448,WPHN:0.749):1.789):1.558,(((DHPO:1.102,(PSJT:0.678,YZRI:0.433):1.439):0.37,(WBOD:0.555,XQWC:0.503):1.488):0.486,OBPL:1.037):1.672):0.805,(SJEV:1.248,WKSU:1.327):1.4):0.283,(((CSSK:0.653,OPDF:0.856):0.703,(MUNP:0.661,XSZI:0.572):1.029):1.849,(PAWA:1.597,QDVW:1.437):0.397):1.712):0.678,(OSHQ:0.622,WZFE:0.488):2.523):0.383,((((((((((AFLV:0.946,OOSO:0.559):1.2,MWYQ:1.667):0.153,(GDKK:0.574,(NHIX:0.831,QNPH:0.193):0.768):2.006):0.222,THEW:3.055):1.715,(((((((((BLAJ:0.685,JHUL:0.494):1.19,(FCEL:1.046,WTDE:1.103):0.039):1.671,JVBR:1.437):0.749,(((((CMCY:1.193,PLBZ:1.148):0.084,((ICNN:0.778,YBML:0.875):0.713,KXSK:1.23):0.15):2.592,(IXEM:1.556,(KOFB:1.156,SVTS:1.309):0.718):0.897):0.116,((FGRF:1.833,((((((HOKG:0.981,RQZP:0.947):0.991,((RCUX:1.062,XFJG:0.804):1.148,UZXL:1.629):0.23):0.135,TCYS:1.718):0.102,LSJW:1.468):0.325,MVRF:1.4):2.005,ONBE:1.521):0.908):0.141,MUMD:2.028):0.251):0.815,(((((DMIN:0.472,ZKPF:1.289):0.441,((DPFW:1.087,LDME:1.044):0.212,JDTY:0.543):0.927):0.877,TRRQ:0.588):2.051,PRFO:1.846):0.396,(GJPF:0.61,KBXS:0.535):2.664):0.562):1.038):0.981,SART:1.362):1.2,LTZF:2.561):0.513,(KYNE:0.632,RDYY:0.718):1.981):0.72,(EMJJ:1.544,YJUG:2.441):0.093):1.247,(((CNTZ:1.148,JSAG:0.308):0.97,(((LELS:0.504,VTUS:0.535):1.319,XZME:0.785):0.161,MTHW:0.897):0.913):0.874,THDM:1.13):2.535):0.289):0.046,(((((BDJQ:0.546,LEMW:0.49):1.585,(JNUB:0.929,TZNS:1.007):0.638):0.724,(((LSKK:1.107,UOEL:1.258):0.441,XHHU:1.225):0.1,Musac_v1.0:1.298):0.201):2.767,(Elagu_v2.0:0.818,((HWUP:0.575,HXJE:1.13):0.359,NSPR:1.124):0.353):1.797):0.297,((((((((((((BPKH:1.3,ZMGN:1.691):0.217,((BXAY:1.571,((VQYB:1.14,ZENX:1.014):0.776,XUAB:1.412):0.484):0.134,NNOK:1.535):0.243):1.119,(WCOR:0.709,XBKS:0.64):1.167):0.919,SOHV:1.266):0.806,((ROEI:1.023,YPIC:0.874):0.068,Sorbi_v2.1:0.647):1.45):1.13,((EFCZ:0.691,YXNR:0.847):0.281,(RCAH:0.414,YLWW:0.698):1.298):1.349):0.186,HATH:1.117):1.175,((IADP:0.842,RMVB:0.461):1.387,Orysa_v7.0:0.753):0.168):1.38,WXNT:0.822):1.027,BSTR:0.946):1.195,(CIEA:0.754,((PWSG:0.877,WBIB:0.707):0.225,XPAF:0.882):0.792):1.675):1.239,((BRUD:0.561,PPQR:0.466):1.776,BYPY:1.533):0.22):1.363):1.463):0.276,((((DGXS:0.905,VVVV:0.949):0.294,VBHQ:1.364):1.183,(QOXT:0.599,SILJ:0.557):1.861):1.418,OCWZ:2.629):0.337):1.778,((MFIN:0.626,YMES:0.517):1.187,Spipo_v2:0.792):2.452):0.194,((BYQM:1.053,COCP:1.627):1.333,DWZT:3.496):0.793):1.553,MTII:2.928):1.25):0.217):0.316,NPND:4.833):2.595):0.482,IWMW:2.234):2.82,(HAEU:0.847,QUTB:0.897):2.409):0.4,((((((((((((((((((ABEH:1.32,JWEY:1.277):0.108,MZOB:1.216):0.543,MDJK:1.554):0.271,(IDGE:0.763,OUER:0.685):1.469):0.22,OEKO:1.445):0.647,NIGS:1.282):0.772,DIHD:1.224):0.098,XVRU:1.221):2.037,(EMAL:0.598,(HANM:0.44,SMUR:0.716):1.093):0.813):0.327,YQIJ:1.454):0.755,DKFZ:1.658):1.917,((((((((((DSUV:0.585,YADI:0.498):1.349,(JCLQ:0.509,YFQX:0.494):1.679):0.18,JGYZ:1.14):0.434,EDEQ:1.062):0.966,MGVU:1.212):0.309,(QEHE:0.89,UOYN:0.892):0.671):1.948,HGSM:1.841):0.092,GGJD:1.431):0.276,(ECTD:0.845,KPUM:0.919):1.594):0.707,(((KTWL:0.602,PCNH:0.517):0.989,ZSGF:0.576):1.139,WQRD:1.081):1.435):1.864):0.195,((AHRN:0.939,(((ALUC:0.898,(ERWT:0.779,IZNU:0.874):0.563):0.912,(((EMBR:1.436,NAUM:1.246):0.337,(VXKB:0.755,XQRV:0.639):1.453):0.162,((NHAG:1.298,QSLH:1.041):0.748,OQBM:1.358):0.166):1.317):1.238,CPOC:0.925):1.055):1.496,((((AIOU:0.623,JNVS:0.635):1.211,(((DLAI:0.74,Solly_iTAGv2.3:0.366):1.633,(DLJZ:1.227,GHLP:0.987):0.185):0.216,((LQJY:0.651,NMDZ:0.831):0.616,UGJI:1.616):0.689):1.355):0.43,(BOLZ:0.879,(LWCK:0.495,OSMU:0.575):1.29):0.737):0.866,MKZR:1.068):2.053):1.596):0.068,(((((((((((((((ATYL:1.82,((EAAA:0.74,SNNC:0.751):1.218,GETL:1.113):1.174):0.137,((GNPX:0.559,RTNA:0.488):1.689,(LRRR:1.401,UCNM:1.327):0.061):1.104):0.848,DMLT:1.612):0.358,((BAHE:1.115,FYUH:1.082):0.384,(((EQDA:0.684,FDMM:0.837):0.883,TAGM:1.055):0.758,(((FUMQ:0.908,PUCW:0.717):1.041,PHCE:1.407):0.074,(IYDF:0.811,(WHNV:0.322,XMBA:1.189):0.751):1.363):0.589):1.322):2.303):2.112,((((EJCM:1.321,((FAMO:0.603,FROP:0.639):1.434,VYDM:1.144):0.774):0.343,OWAS:1.563):1.441,UMUL:1.732):0.633,Mimgu_v2.0:2.915):0.023):0.606,ZRIN:2.479):0.056,((GCFE:0.703,(MQIV:0.516,PSHB:0.79):0.893):2.884,(TKEK:1.023,(UTQR:0.882,XAYK:0.917):0.187):2.69):0.196):0.255,(EDXZ:1.645,WOHL:2.032):1.797):0.419,(((AYIY:0.914,(NBMW:0.824,WEAC:0.841):0.084):1.243,PCGJ:0.693):3.327,(HRUR:1.809,(JCMU:0.574,MXFG:0.582):2.215):1.675):0.151):0.658,((EJBY:1.722,((GRFT:0.574,XRLM:0.541):1.111,(SIBR:0.532,XXYA:0.513):1.135):1.837):1.34,GDZS:2.549):0.066):0.842,((GNRI:1.183,(PTBJ:0.661,YKZB:0.69):1.276):1.217,(XISJ:0.774,YRHD:0.336):1.95):1.475):0.245,CLRW:2.581):0.5,(DCCI:2.046,(DTNC:1.168,RWKR:1.582):0.62):0.979):1.833,COBX:1.74):0.101,(((KTAR:0.786,YZGX:0.97):0.141,TORX:0.857):0.5,MZLD:0.709):1.916):2.43):2.048,QZZU:2.788):0.466,(((ASMV:0.815,(DFYF:0.782,SXML:0.864):0.052):1.756,QACK:1.248):1.892,(GIPR:2.075,SZUO:2.34):0.72):0.386):0.294,(((((((((AFQQ:1.367,(((((AQZD:1.182,YRBQ:1.555):0.549,(((((HXCD:1.542,QXWF:1.228):0.154,JEPE:1.502):0.175,ZCUA:1.366):0.178,NVSO:1.534):1.524,((JYMN:1.341,UYED:1.059):0.652,LYPZ:1.672):0.176):0.269):0.731,BIDT:1.221):1.856,UBLN:0.997):0.271,DUNJ:1.178):1.362):0.472,((BMSE:1.526,((((DESP:0.668,MHYG:0.522):0.854,TEZA:1.035):0.156,XRCX:0.913):1.847,DOVJ:1.55):0.501):0.112,((DUQG:0.873,OAGK:0.819):0.082,GUMF:1.008):2.303):0.61):0.713,((CFRN:0.988,EYKJ:0.456):1.285,((DDRL:0.982,(FUPX:0.984,(KFZY:1.024,KGJF:0.985):0.214):0.234):1.625,(JNKW:0.557,RFSD:0.688):0.978):1.442):0.198):1.938,HUQC:0.977):1.645,IXVJ:1.568):0.655,((AUIP:1.348,TPEM:1.799):0.116,GIOY:2.107):0.229):0.512,FXGI:2.177):0.301,(IHPC:0.697,IZLO:0.67):2.029):2.218,(((((((AJFN:1.484,((CWYJ:0.532,TQKZ:0.497):1.968,WEQK:1.36):0.289):0.14,((EDBB:0.851,SUVN:0.842):0.605,OINM:1.388):1.039):0.221,(NTEO:0.613,SALZ:0.415):1.899):1.142,(MVSE:0.874,QIKZ:0.505):1.048):2.195,SBZH:1.838):0.368,(((CAQZ:0.646,GSZA:0.563):1.1,(FFFY:1.013,JTRM:0.839):0.584):1.858,(HLJG:0.926,ZJRC:1.208):0.867):1.129):0.192,(CLMX:0.614,CLNU:0.45):2.702):0.241):1.868):1.089,(((((((((ADHK:0.595,UFHF:0.491):2.692,JPDJ:1.924):0.197,AXBO:2.723):0.125,(((AVJK:0.884,(PPPZ:0.665,WXVX:0.436):0.986):0.688,(LRTN:0.968,SERM:0.89):0.598):2.035,(HUSX:1.528,QAUE:1.362):0.702):0.938):0.29,((((BEFC:0.749,WRPP:0.847):0.066,OXYP:0.968):2.648,NGRR:2.049):0.102,YSRZ:2.607):0.164):0.188,((((DAAD:0.706,ODDO:0.309):1.319,PTFA:0.95):0.716,VKJD:1.033):2.392,KVFU:2.412):0.153):0.777,(FNEN:0.508,WVMY:1.45):3.729):1.199,(BNTL:1.044,JEXA:1.291):2.545):1.324,(((BFJL:1.774,FWBF:1.939):0.388,VUSY:1.715):0.296,((QURC:0.815,ZETY:0.421):1.959,VTLJ:1.915):1.278):1.0):0.211):2.508):0.258,((((BSEY:0.801,QKMG:1.014):0.525,(RSPO:0.783,XGFU:0.588):0.984):1.258,VGVI:1.49):1.359,XKPS:2.385):1.89):0.087,(((BBBA:1.454,SZPD:0.238):1.105,Vitvi_Genoscope.12X:0.609):0.124,BGZG:0.912):3.763):0.191,XMQO:4.09):0.217,EHNF:4.38):0.218,((((((((CIAC:1.161,UHBY:1.05):0.438,YKFU:1.451):0.333,((CKKR:1.047,OOVX:1.102):0.706,(((CTSS:0.994,SLOI:1.19):0.42,ERIA:0.785):0.322,DAYQ:0.512):1.955):0.246):0.848,FCBJ:1.875):1.297,SYHW:1.6):1.077,UWFU:1.493):1.688,((FYTP:1.366,(((HQRJ:0.454,OMDH:0.699):0.856,YKQR:0.77):1.486,NUZN:1.343):0.247):0.899,HTIP:2.121):0.874):0.73,(((DRIL:0.721,ZJUL:0.666):0.652,KWGC:0.852):3.303,(IUSR:1.895,TOKV:1.25):1.83):1.233):1.291):0.289,(((((((((((((AAXJ:0.784,ONLQ:0.843):0.149,CBJR:0.828):1.045,SMMC:0.662):1.619,(Betvu_v1.1:0.294,FVXD:0.783):1.493):0.064,WGET:1.55):0.393,(((((BWRK:0.625,ZBPY:0.558):0.942,(EYRD:0.617,OHKC:0.64):0.923):0.886,CUTE:0.966):0.551,(HDSY:0.684,PDQH:0.797):0.78):1.532,(WMLW:0.74,XSSD:0.28):1.491):0.561):1.96,(((FZQN:1.227,(OLES:0.704,(SHEZ:1.406,SKNL:0.433):0.959):0.104):0.424,TJES:1.001):1.067,RXEN:0.985):1.571):1.2,(((((((AZBL:1.084,SFKQ:1.236):1.071,((((DVXD:0.515,EGOS:0.505):1.299,(VJPU:0.618,ZBTA:0.566):1.025):0.202,JGAB:0.808):1.614,JAFJ:0.869):1.409):0.257,(BKQU:0.518,MRKX:0.589):1.985):0.173,GIWN:1.979):0.907,(((BERS:0.859,((EDIT:0.628,HZTS:0.738):0.477,GJNX:0.789):1.034):0.43,OMYK:0.748):1.949,BJKT:1.953):0.481):0.914,(((((((BYNZ:0.978,KDCH:0.791):1.151,(CPLT:0.957,((GCYL:0.75,IWIS:0.593):0.907,LDEL:0.65):0.5):1.377):0.144,LLQV:1.192):0.337,(EZGR:0.526,UQCB:0.679):1.13):1.794,(CPKP:0.507,JLOV:1.54):0.744):0.297,LKKX:0.953):0.754,CTYH:1.335):1.949):0.097,((KJAA:1.486,NXTS:1.647):0.057,(RNBN:1.545,SCAO:1.694):0.259):1.575):0.333):0.169,YNFJ:2.292):1.899,RUUB:1.666):0.53,CVDF:1.342):1.166,WQUF:1.773):0.286,(FYSJ:2.052,WOBD:1.85):1.195):4.128):1.627,YGCX:4.975):0.148,HDWF:3.84):0.144,(PTLU:0.95,VYGG:1.493):2.723):0.091,((((((((((ACFP:1.643,WKCY:1.196):0.869,(EDHN:0.615,XVJB:0.716):1.574):0.27,((AQGE:0.571,BJSW:0.455):1.263,KYAD:0.72):1.411):0.802,CQMG:1.993):1.073,((EILE:0.556,WVEF:0.6):1.055,ZHEE:1.217):1.541):0.163,RBYC:2.196):1.038,(((((((((BLVL:1.36,QIEH:0.731):0.262,VCIN:0.862):0.198,EAVM:0.738):2.019,ZPKK:1.646):0.113,TJQY:1.26):0.109,(NCVK:1.033,Prupe_v1.0:0.022):1.494):0.205,SXCE:1.248):1.371,(SQCF:0.503,XFFT:0.619):1.288):0.25,(DHAW:1.072,(IANR:0.357,QNOC:1.259):0.266):1.517):2.678):1.529,(((((CWZU:0.729,LWDA:0.536):1.221,LNER:1.152):1.019,(DXQW:1.462,INSP:1.496):0.353):0.451,((HENI:0.631,(NHUA:0.612,UZWG:0.606):0.693):1.242,SVVG:0.935):1.344):0.906,TJLC:1.336):2.169):0.143,((((((((CMFF:0.819,TTRG:0.246):1.959,(((((HJMP:0.454,MYMP:0.562):1.37,KNMB:0.968):0.667,((JTQQ:0.52,PEZP:0.55):1.269,RMWJ:1.753):0.144):1.421,VLNB:1.054):0.339,(KEGA:4.154,(NXOH:1.322,((Phavu_v1.0:1.013,TVSH:1.514):0.349,SUAK:1.134):0.041):0.968):1.622):0.448):0.935,SLYR:1.4):0.277,ZSSR:1.069):1.517,(((GEHT:0.627,VHZV:0.55):0.642,QZXQ:0.819):1.356,(KZED:1.281,((PJSX:0.533,ZCDJ:0.576):0.527,XOOE:1.185):1.037):0.373):1.091):0.416,((JETM:0.584,RKFX:0.723):1.418,RKLL:1.413):0.069):2.207,OQHZ:1.65):0.714,OHAE:3.063):1.592):0.348,(AXAF:4.534,(NNGU:3.102,OCTM:2.818):0.621):0.681):0.74):0.312,((AJJE:2.868,(((((((ARYD:1.401,IMZV:1.302):0.858,((((BZDF:1.54,ZINQ:1.408):0.222,(IDAU:1.27,ROLB:1.125):0.728):0.947,(KBRW:1.431,YHLF:1.526):1.054):0.054,(CJGZ:1.53,((DZLN:1.298,GVCB:1.133):0.448,HKMQ:1.687):0.082):1.337):0.108):2.067,(EQYT:0.674,SJAN:0.837):1.545):0.156,(((AXNH:0.808,PMTB:0.762):0.457,JKNQ:1.183):1.15,(TLCA:1.048,UJGI:0.937):0.801):0.73):0.772,FEDW:1.428):2.56,(RJNQ:0.879,YNUE:0.473):1.469):1.149,(((AYMT:0.834,Eucgr_v1.1:0.235):0.888,(FGDU:0.627,NEBM:0.471):0.781):2.063,(SWGX:0.619,WWQZ:0.388):2.295):0.729):0.326):2.861,((KVAY:1.751,UDUT:1.988):1.165,ZHMB:2.468):2.264):0.039):0.954,((((((ATFX:2.267,((KPTE:1.848,(PKMO:2.225,WMUK:1.331):0.975):0.301,(((OLXF:0.817,ZSAB:0.912):0.768,WYIG:1.073):0.292,Theca_v1.1:0.841):2.308):0.104):0.307,(AWJM:0.611,PUDI:0.503):3.106):1.652,((((((((Arath_TAIR10:1.065,(((((((BXBF:0.838,UVQL:1.34):0.399,LJQF:1.258):0.183,HABV:1.418):0.301,LAPO:1.052):0.134,GTSV:1.427):1.089,TZWR:0.976):1.1,(CSUV:1.344,(IPWB:0.813,VMNH:0.396):1.355):0.101):0.075):2.051,((LVUS:1.029,QSKP:1.029):0.149,(UPZX:1.051,VDKG:1.066):0.375):1.223):0.964,RTTY:0.908):1.385,(SWPE:1.432,UAXP:1.098):0.199):1.311,DZTK:2.031):0.235,JOIS:2.915):1.071,CRNC:2.728):0.8,((CZPV:1.688,Carpa_ASGPBv0.4:1.838):0.331,(HYZL:1.155,MYZV:1.236):1.36):0.524):1.686):0.51,((((BCAA:1.6,((FCCA:0.445,JSZD:1.114):1.292,YUOM:1.219):0.679):0.254,(((IKFD:0.601,QICX:0.735):1.233,(RJIM:0.453,UVDC:0.687):1.49):0.21,UHJR:2.052):1.061):0.297,((HBHB:0.87,VFFP:0.635):0.509,WAXR:0.818):1.922):0.446,OBTI:1.969):2.816):0.163,WWKL:3.701):0.049,(JHCN:3.525,((THHD:0.988,YZVJ:1.457):0.076,TIUZ:0.988):1.883):1.154):0.335):0.382,(IHCQ:1.533,MFEA:2.479):3.131):2.672,(((BNDE:1.969,((FWCQ:0.506,OSIP:0.575):1.526,NFXV:1.557):0.493):2.475,(CKDK:0.299,TVCU:0.808):3.85):0.055,XPBC:3.445):0.077):0.052,((((((AEPI:0.749,BHYC:0.752):0.268,BVOF:0.74):1.277,(MYVH:0.713,(OODC:0.856,POZS:0.275):0.692):0.875):0.764,HNCF:0.67):0.988,((AXPJ:1.145,(TXMP:0.625,VXOD:0.676):0.642):0.108,KCPT:0.717):1.202):4.155,(VNMY:2.303,YGAT:3.273):0.872):0.08):0.061,(((COAQ:0.731,(EZZT:0.595,(SIZE:0.455,ZIWB:0.919):0.64):1.176):2.694,(((((GLVK:1.419,(IEPQ:1.252,KKDQ:1.171):0.438):0.153,(LFOG:1.296,TDTF:1.28):0.34):0.159,RZTJ:1.477):0.663,INQX:1.037):1.464,Poptr_v3.0:0.628):2.71):0.135,(LPGY:0.558,NJLF:0.541):3.498):0.562,((HBUQ:0.629,ZBVT:0.457):3.391,((((((Manes_v4.1:0.488,XNLP:0.529):1.631,VVPY:1.373):0.404,PAZJ:1.925):0.19,(PXYR:0.888,RHAU:0.646):2.078):1.932,RVGH:2.636):0.108,(RPPC:2.122,ZTLR:2.072):1.222):0.105):0.036);\n"
      ]
     },
     "metadata": {},
     "output_type": "display_data"
    }
   ],
   "source": [
    "est_D, est_namelist = calculateAGIC(est_gts)\n",
    "nj_tre = nj(DataFrame(est_D, est_namelist), force_nonnegative_edges=true)"
   ]
  },
  {
   "cell_type": "code",
   "execution_count": 4,
   "metadata": {},
   "outputs": [
    {
     "name": "stdout",
     "output_type": "stream",
     "text": [
      "[11, 11, 11, 12, 12]\n",
      "25\n",
      "67\n"
     ]
    }
   ],
   "source": [
    "subsets = sateIdecomp(nj_tre, 25)\n",
    "println(sort([length(s) for s in subsets])[1:5])\n",
    "println(maximum([length(s) for s in subsets]))\n",
    "println(length(subsets))"
   ]
  },
  {
   "cell_type": "markdown",
   "metadata": {},
   "source": [
    "## Generate Condor data\n",
    "\n",
    "Outline:\n",
    "\n",
    "We use stopping rules to decide the number of retics in each subnet, so\n",
    "1. if no snaq file exists yet, submit runs w/ h=0,1\n",
    "2. if snaq files exist, load last 2 runs and check if another should be submitted with the function `should_stop_AIC`\n",
    "\n",
    "This code should build the submit file's tables from scratch each time so that runs are never re-submitted."
   ]
  },
  {
   "cell_type": "code",
   "execution_count": 5,
   "metadata": {},
   "outputs": [
    {
     "name": "stderr",
     "output_type": "stream",
     "text": [
      "┌ Info: 1\n",
      "└ @ Main /mnt/dv/wid/projects4/SolisLemus-network-merging/empirical-study/analysis.ipynb:10\n",
      "┌ Info: 2\n",
      "└ @ Main /mnt/dv/wid/projects4/SolisLemus-network-merging/empirical-study/analysis.ipynb:10\n",
      "┌ Info: 3\n",
      "└ @ Main /mnt/dv/wid/projects4/SolisLemus-network-merging/empirical-study/analysis.ipynb:10\n",
      "┌ Info: 4\n",
      "└ @ Main /mnt/dv/wid/projects4/SolisLemus-network-merging/empirical-study/analysis.ipynb:10\n",
      "┌ Info: 5\n",
      "└ @ Main /mnt/dv/wid/projects4/SolisLemus-network-merging/empirical-study/analysis.ipynb:10\n",
      "┌ Info: 6\n",
      "└ @ Main /mnt/dv/wid/projects4/SolisLemus-network-merging/empirical-study/analysis.ipynb:10\n",
      "┌ Info: 7\n",
      "└ @ Main /mnt/dv/wid/projects4/SolisLemus-network-merging/empirical-study/analysis.ipynb:10\n",
      "┌ Info: 8\n",
      "└ @ Main /mnt/dv/wid/projects4/SolisLemus-network-merging/empirical-study/analysis.ipynb:10\n",
      "┌ Info: 9\n",
      "└ @ Main /mnt/dv/wid/projects4/SolisLemus-network-merging/empirical-study/analysis.ipynb:10\n",
      "┌ Info: 10\n",
      "└ @ Main /mnt/dv/wid/projects4/SolisLemus-network-merging/empirical-study/analysis.ipynb:10\n",
      "┌ Info: 11\n",
      "└ @ Main /mnt/dv/wid/projects4/SolisLemus-network-merging/empirical-study/analysis.ipynb:10\n",
      "┌ Info: 12\n",
      "└ @ Main /mnt/dv/wid/projects4/SolisLemus-network-merging/empirical-study/analysis.ipynb:10\n",
      "┌ Info: 13\n",
      "└ @ Main /mnt/dv/wid/projects4/SolisLemus-network-merging/empirical-study/analysis.ipynb:10\n",
      "┌ Info: 14\n",
      "└ @ Main /mnt/dv/wid/projects4/SolisLemus-network-merging/empirical-study/analysis.ipynb:10\n",
      "┌ Info: 15\n",
      "└ @ Main /mnt/dv/wid/projects4/SolisLemus-network-merging/empirical-study/analysis.ipynb:10\n",
      "┌ Info: 16\n",
      "└ @ Main /mnt/dv/wid/projects4/SolisLemus-network-merging/empirical-study/analysis.ipynb:10\n",
      "┌ Info: 17\n",
      "└ @ Main /mnt/dv/wid/projects4/SolisLemus-network-merging/empirical-study/analysis.ipynb:10\n",
      "┌ Info: 18\n",
      "└ @ Main /mnt/dv/wid/projects4/SolisLemus-network-merging/empirical-study/analysis.ipynb:10\n",
      "┌ Info: 19\n",
      "└ @ Main /mnt/dv/wid/projects4/SolisLemus-network-merging/empirical-study/analysis.ipynb:10\n",
      "┌ Info: 20\n",
      "└ @ Main /mnt/dv/wid/projects4/SolisLemus-network-merging/empirical-study/analysis.ipynb:10\n",
      "┌ Info: 21\n",
      "└ @ Main /mnt/dv/wid/projects4/SolisLemus-network-merging/empirical-study/analysis.ipynb:10\n",
      "┌ Info: 22\n",
      "└ @ Main /mnt/dv/wid/projects4/SolisLemus-network-merging/empirical-study/analysis.ipynb:10\n",
      "┌ Info: 23\n",
      "└ @ Main /mnt/dv/wid/projects4/SolisLemus-network-merging/empirical-study/analysis.ipynb:10\n",
      "┌ Info: 24\n",
      "└ @ Main /mnt/dv/wid/projects4/SolisLemus-network-merging/empirical-study/analysis.ipynb:10\n",
      "┌ Info: 25\n",
      "└ @ Main /mnt/dv/wid/projects4/SolisLemus-network-merging/empirical-study/analysis.ipynb:10\n",
      "┌ Info: 26\n",
      "└ @ Main /mnt/dv/wid/projects4/SolisLemus-network-merging/empirical-study/analysis.ipynb:10\n",
      "┌ Info: 27\n",
      "└ @ Main /mnt/dv/wid/projects4/SolisLemus-network-merging/empirical-study/analysis.ipynb:10\n",
      "┌ Info: 28\n",
      "└ @ Main /mnt/dv/wid/projects4/SolisLemus-network-merging/empirical-study/analysis.ipynb:10\n",
      "┌ Info: 29\n",
      "└ @ Main /mnt/dv/wid/projects4/SolisLemus-network-merging/empirical-study/analysis.ipynb:10\n",
      "┌ Info: 30\n",
      "└ @ Main /mnt/dv/wid/projects4/SolisLemus-network-merging/empirical-study/analysis.ipynb:10\n",
      "┌ Info: 31\n",
      "└ @ Main /mnt/dv/wid/projects4/SolisLemus-network-merging/empirical-study/analysis.ipynb:10\n",
      "┌ Info: 32\n",
      "└ @ Main /mnt/dv/wid/projects4/SolisLemus-network-merging/empirical-study/analysis.ipynb:10\n",
      "┌ Info: 33\n",
      "└ @ Main /mnt/dv/wid/projects4/SolisLemus-network-merging/empirical-study/analysis.ipynb:10\n",
      "┌ Info: 34\n",
      "└ @ Main /mnt/dv/wid/projects4/SolisLemus-network-merging/empirical-study/analysis.ipynb:10\n",
      "┌ Info: 35\n",
      "└ @ Main /mnt/dv/wid/projects4/SolisLemus-network-merging/empirical-study/analysis.ipynb:10\n",
      "┌ Info: 36\n",
      "└ @ Main /mnt/dv/wid/projects4/SolisLemus-network-merging/empirical-study/analysis.ipynb:10\n",
      "┌ Info: 37\n",
      "└ @ Main /mnt/dv/wid/projects4/SolisLemus-network-merging/empirical-study/analysis.ipynb:10\n",
      "┌ Info: 38\n",
      "└ @ Main /mnt/dv/wid/projects4/SolisLemus-network-merging/empirical-study/analysis.ipynb:10\n",
      "┌ Info: 39\n",
      "└ @ Main /mnt/dv/wid/projects4/SolisLemus-network-merging/empirical-study/analysis.ipynb:10\n",
      "┌ Info: 40\n",
      "└ @ Main /mnt/dv/wid/projects4/SolisLemus-network-merging/empirical-study/analysis.ipynb:10\n",
      "┌ Info: 41\n",
      "└ @ Main /mnt/dv/wid/projects4/SolisLemus-network-merging/empirical-study/analysis.ipynb:10\n",
      "┌ Info: 42\n",
      "└ @ Main /mnt/dv/wid/projects4/SolisLemus-network-merging/empirical-study/analysis.ipynb:10\n",
      "┌ Info: 43\n",
      "└ @ Main /mnt/dv/wid/projects4/SolisLemus-network-merging/empirical-study/analysis.ipynb:10\n",
      "┌ Info: 44\n",
      "└ @ Main /mnt/dv/wid/projects4/SolisLemus-network-merging/empirical-study/analysis.ipynb:10\n",
      "┌ Info: 45\n",
      "└ @ Main /mnt/dv/wid/projects4/SolisLemus-network-merging/empirical-study/analysis.ipynb:10\n",
      "┌ Info: 46\n",
      "└ @ Main /mnt/dv/wid/projects4/SolisLemus-network-merging/empirical-study/analysis.ipynb:10\n",
      "┌ Info: 47\n",
      "└ @ Main /mnt/dv/wid/projects4/SolisLemus-network-merging/empirical-study/analysis.ipynb:10\n",
      "┌ Info: 48\n",
      "└ @ Main /mnt/dv/wid/projects4/SolisLemus-network-merging/empirical-study/analysis.ipynb:10\n",
      "┌ Info: 49\n",
      "└ @ Main /mnt/dv/wid/projects4/SolisLemus-network-merging/empirical-study/analysis.ipynb:10\n",
      "┌ Info: 50\n",
      "└ @ Main /mnt/dv/wid/projects4/SolisLemus-network-merging/empirical-study/analysis.ipynb:10\n",
      "┌ Info: 51\n",
      "└ @ Main /mnt/dv/wid/projects4/SolisLemus-network-merging/empirical-study/analysis.ipynb:10\n",
      "┌ Info: 52\n",
      "└ @ Main /mnt/dv/wid/projects4/SolisLemus-network-merging/empirical-study/analysis.ipynb:10\n",
      "┌ Info: 53\n",
      "└ @ Main /mnt/dv/wid/projects4/SolisLemus-network-merging/empirical-study/analysis.ipynb:10\n",
      "┌ Info: 54\n",
      "└ @ Main /mnt/dv/wid/projects4/SolisLemus-network-merging/empirical-study/analysis.ipynb:10\n",
      "┌ Info: 55\n",
      "└ @ Main /mnt/dv/wid/projects4/SolisLemus-network-merging/empirical-study/analysis.ipynb:10\n",
      "┌ Info: 56\n",
      "└ @ Main /mnt/dv/wid/projects4/SolisLemus-network-merging/empirical-study/analysis.ipynb:10\n",
      "┌ Info: 57\n",
      "└ @ Main /mnt/dv/wid/projects4/SolisLemus-network-merging/empirical-study/analysis.ipynb:10\n",
      "┌ Info: 58\n",
      "└ @ Main /mnt/dv/wid/projects4/SolisLemus-network-merging/empirical-study/analysis.ipynb:10\n",
      "┌ Info: 59\n",
      "└ @ Main /mnt/dv/wid/projects4/SolisLemus-network-merging/empirical-study/analysis.ipynb:10\n",
      "┌ Info: 60\n",
      "└ @ Main /mnt/dv/wid/projects4/SolisLemus-network-merging/empirical-study/analysis.ipynb:10\n",
      "┌ Info: 61\n",
      "└ @ Main /mnt/dv/wid/projects4/SolisLemus-network-merging/empirical-study/analysis.ipynb:10\n",
      "┌ Info: 62\n",
      "└ @ Main /mnt/dv/wid/projects4/SolisLemus-network-merging/empirical-study/analysis.ipynb:10\n",
      "┌ Info: 63\n",
      "└ @ Main /mnt/dv/wid/projects4/SolisLemus-network-merging/empirical-study/analysis.ipynb:10\n",
      "┌ Info: 64\n",
      "└ @ Main /mnt/dv/wid/projects4/SolisLemus-network-merging/empirical-study/analysis.ipynb:10\n",
      "┌ Info: 65\n",
      "└ @ Main /mnt/dv/wid/projects4/SolisLemus-network-merging/empirical-study/analysis.ipynb:10\n",
      "┌ Info: 66\n",
      "└ @ Main /mnt/dv/wid/projects4/SolisLemus-network-merging/empirical-study/analysis.ipynb:10\n",
      "┌ Info: 67\n",
      "└ @ Main /mnt/dv/wid/projects4/SolisLemus-network-merging/empirical-study/analysis.ipynb:10\n"
     ]
    }
   ],
   "source": [
    "df_dir = \"data/CFs/\"\n",
    "init_dir = \"data/init_trees/\"\n",
    "out_dir = \"data/snaq_outputs/\"\n",
    "tab_file = \"condor/inputs.tab\"\n",
    "best_tree = readTopology(\"data/Best.FAA.tre\")\n",
    "\n",
    "open(tab_file, \"a+\") do tab_io\n",
    "    # For now just queue all of them with h=0, 1, 2 b/c it's easier...\n",
    "    for (i, subset_taxa) in enumerate(subsets)\n",
    "        @info i\n",
    "\n",
    "        temp_gts = Array{HybridNetwork}(undef, length(est_gts))\n",
    "        for i = 1:length(est_gts)\n",
    "            if length(intersect([l.name for l in est_gts[i].leaf], subset_taxa)) >= 4\n",
    "                temp_gts[i] = pruneTruthFromDecomp(est_gts[i], subset_taxa)\n",
    "            end\n",
    "        end\n",
    "        temp_gts = temp_gts[findall(i -> isassigned(temp_gts, i), 1:length(temp_gts))]\n",
    "\n",
    "        # 1. count quartets\n",
    "        q, t = silently() do\n",
    "            countquartetsintrees([t for t in temp_gts if length(t.leaf) >= 4])\n",
    "        end\n",
    "        df = silently() do\n",
    "            readTableCF(writeTableCF(q, t))\n",
    "        end\n",
    "        CSV.write(joinpath(df_dir, \"df_$(i).csv\"), writeTableCF(df))\n",
    "\n",
    "        # 2. save starting tree\n",
    "        init_tree = pruneTruthFromDecomp(best_tree, subset_taxa)\n",
    "        writeTopology(init_tree, joinpath(init_dir, \"init_$(i).tre\"))\n",
    "\n",
    "        # 3. Write info to Condor input table\n",
    "        write(tab_io, \"$(i),0\\n\")\n",
    "        write(tab_io, \"$(i),1\\n\")\n",
    "        write(tab_io, \"$(i),2\\n\")\n",
    "    end\n",
    "end"
   ]
  },
  {
   "cell_type": "markdown",
   "metadata": {},
   "source": [
    "## Infer constraints\n",
    "\n",
    "This is done in Condor with the submit file `empirical-study/condor/submit.submit`"
   ]
  },
  {
   "cell_type": "markdown",
   "metadata": {},
   "source": [
    "## InPhyNet"
   ]
  },
  {
   "cell_type": "code",
   "execution_count": 2,
   "metadata": {},
   "outputs": [
    {
     "ename": "UndefVarError",
     "evalue": "UndefVarError: `readTableCF` not defined",
     "output_type": "error",
     "traceback": [
      "UndefVarError: `readTableCF` not defined\n",
      "\n",
      "Stacktrace:\n",
      " [1] top-level scope\n",
      "   @ /mnt/dv/wid/projects4/SolisLemus-network-merging/empirical-study/analysis.ipynb:1"
     ]
    }
   ],
   "source": [
    "df = readTableCF(\"/mnt/dv/wid/projects4/SolisLemus-network-merging/empirical-study/data/CFs/df_1.csv\")\n",
    "tre0 = readTopology(\"/mnt/dv/wid/projects4/SolisLemus-network-merging/empirical-study/data/init_trees/init_1.tre\")"
   ]
  }
 ],
 "metadata": {
  "kernelspec": {
   "display_name": "Julia 1.9.3",
   "language": "julia",
   "name": "julia-1.9"
  },
  "language_info": {
   "file_extension": ".jl",
   "mimetype": "application/julia",
   "name": "julia",
   "version": "1.9.3"
  }
 },
 "nbformat": 4,
 "nbformat_minor": 2
}
