{
 "cells": [
  {
   "cell_type": "code",
   "execution_count": 1,
   "id": "e00e7e8e",
   "metadata": {
    "collapsed": false
   },
   "outputs": [
    {
     "name": "stderr",
     "output_type": "stream",
     "text": [
      "\u001b[32m\u001b[1m  Activating\u001b[22m\u001b[39m project at `/mnt/dv/wid/projects4/SolisLemus-network-merging`\n"
     ]
    }
   ],
   "source": [
    "using Pkg\n",
    "Pkg.activate(\"/mnt/dv/wid/projects4/SolisLemus-network-merging/\")\n",
    "Pkg.instantiate()\n",
    "\n",
    "using InPhyNet, PhyloNetworks\n",
    "include(\"/mnt/dv/wid/projects4/SolisLemus-network-merging/simulation-study/simulation-scripts/helpers/helpers.jl\")\n",
    "cd(\"/mnt/dv/wid/projects4/SolisLemus-network-merging/simulation-study/from-sequences\")"
   ]
  },
  {
   "cell_type": "code",
   "execution_count": 26,
   "id": "c0788e84",
   "metadata": {
    "collapsed": false
   },
   "outputs": [
    {
     "data": {
      "text/plain": [
       "HybridNetwork, Rooted Network\n",
       "1048 edges\n",
       "1033 nodes: 501 tips, 16 hybrid nodes, 516 internal tree nodes.\n",
       "tip labels: t3, t4, t22, t23, ...\n",
       "(((((((t3:15.759,t4:15.759):4.393,(((((t22:13.338,t23:13.338):0.228,t18:13.566):1.843,t5:15.41):3.417,(((t13:13.702,(t17:13.627,(t19:13.546,t20:13.546):0.082):0.074):1.562,(t12:13.717)#H1:1.546::0.53):1.634,(((t8:14.049,t9:14.049):2.018,(t10:13.742,t11:13.742):2.325):0.112,(t6:14.252,(t16:13.67,((t24:13.173,t25:13.173):0.322,t21:13.495):0.175):0.582):1.927):0.718):1.929):0.725,((t2:16.74,(((t14:13.685,t15:13.685):0.032,#H1:0.0::0.47):0.517,t7:14.234):2.506):1.034,t1:17.774):1.778):0.6):2.514,(((((((t233:10.505,(t235:10.238,((t241:9.987,t242:9.987):0.001)#H9:0.249::0.554):0.268):0.248,(t243:9.878,t244:9.878):0.875):0.497,t229:11.251):1.583,(t227:11.965,(t228:11.774,(t230:10.937,t231:10.937):0.837):0.191):0.869):0.108,(((t236:10.094,t237:10.094):1.946)#H10:0.28::0.625,((((((((t238:10.019)#H11:0.0::0.548,t239:10.019):0.632,((t249:9.735,t250:9.735):0.758,t234:10.492):0.159):0.163,(t245:9.846,t246:9.846):0.967):0.651,#H11:1.445::0.452):0.161,(t247:9.811,t248:9.811):1.815):0.415,#H10:0.0::0.375):0.27,t226:12.31):0.01):0.622):0.455,(t232:10.735,(t240:9.989,#H9:0.0::0.446):0.747):2.662):0.834,(((t257:13.821,t258:13.821):4.584,(((t267:13.027,(t274:12.473,t275:12.473):0.555):0.395,t261:13.422):2.129,t251:15.552):2.854):0.482,((t253:14.642,(((t264:13.163,t265:13.163):0.316,t260:13.479):0.894,t254:14.373):0.269):3.513,((((t266:13.057,(t272:12.778,t273:12.778):0.279):0.431,t259:13.488):0.578,(t255:13.898,((t262:13.361,t263:13.361):0.537,t256:13.898):0.0):0.168):3.024,(t252:15.339,((t268:12.998,t269:12.998):0.41,(t270:12.872,t271:12.872):0.536):1.931):1.75):1.066):0.732):0.834):1.68):0.659,((t76:19.153,(((((t92:13.153,t93:13.153):0.526,t85:13.679):2.74,((t95:13.038,#H4:0.0::0.396):3.24,(((t90:13.27,t91:13.27):0.903,t82:14.174):0.112,(t83:13.757,t84:13.757):0.528):1.993):0.141):1.178,(t78:15.886,t79:15.886):1.71):0.504,((((((t99:12.621,t100:12.621):0.653,t88:13.274):0.686,(t86:13.551,t87:13.551):0.409):3.269,(t97:12.992,t98:12.992):4.237):0.587,t77:17.817):0.078,(((t94:13.038,(t96:13.038)#H4:0.0::0.604):0.234,t89:13.272):1.509,(t80:14.67,t81:14.67):0.111):3.113):0.206):1.053):1.534,(((((t160:12.818,t161:12.818):0.174,(t167:12.527,t168:12.527):0.465):4.913,((t162:12.752,t163:12.752):2.018,(t151:13.969,(t155:12.88,#H7:0.0::0.454):1.089):0.801):3.136):0.268,((t158:12.839,t159:12.839):4.473,((((t153:13.03,t154:13.03):0.329,(t156:12.88,(t157:12.88)#H7:0.0::0.546):0.48):0.089,(t165:12.559,t166:12.559):0.89):0.4,(((((t174:12.146,t175:12.146):0.335,((t170:12.422,t171:12.422):0.025,t169:12.447):0.034):0.138,t164:12.619):0.558,(t172:12.281,t173:12.281):0.896):0.473,t152:13.65):0.198):3.463):0.862):1.114,(((((((t195:10.666,t196:10.666):2.286,(t191:10.784,t192:10.784):2.167):0.744,(t180:12.147,t181:12.147):1.549):0.359,((((t187:10.951,t188:10.951):0.32,t184:11.271):0.197,t183:11.468):2.165,t176:13.633):0.421):0.217,(t177:13.196,(((t199:10.53,t200:10.53):1.316,(t185:11.243,(t189:10.832,t190:10.832):0.411):0.602):0.552,((t179:12.224,(t186:11.055)#H8:1.17::0.563):0.164,((t197:10.649,t198:10.649):1.178,t182:11.827):0.561):0.009):0.798):1.076):0.753,(((t193:10.779,t194:10.779):0.275,#H8:0.0::0.437):2.021,t178:13.076):1.949):0.986,((((t401:14.484,(((t407:11.766,(t408:11.404,(t416:10.555,t417:10.555):0.849):0.363):1.667,(t405:11.792,t406:11.792):1.642):0.911,((((t420:10.37,t421:10.37):0.631,t411:11.001):2.984,(t402:13.001,(t403:12.725,((((t412:10.966,t413:10.966):0.044,(t418:10.379,(t419:10.379)#H16:0.0::0.654):0.631):0.254,((t422:10.231,t423:10.231):0.148,#H16:0.0::0.346):0.885):0.841,t404:12.105):0.621):0.276):0.984):0.149,(((t424:10.207,t425:10.207):1.29,(t414:10.606,t415:10.606):0.891):0.057,(t409:11.273,t410:11.273):0.282):2.58):0.21):0.139):0.357,((((t447:12.636,t448:12.636):4.25,((((t449:12.56,t450:12.56):2.763,((t434:13.278,t435:13.278):1.82,((t441:12.74,t442:12.74):1.358,t428:14.098):1.0):0.225):0.258,(((t430:13.385,t431:13.385):0.275,t429:13.661):0.596,(((t445:12.684,t446:12.684):0.778,(t437:12.805,t438:12.805):0.657):0.704,((t439:12.744,t440:12.744):0.122,t436:12.866):1.299):0.092):1.325):0.108,((t432:13.34,t433:13.34):2.179,(t443:12.701,t444:12.701):2.818):0.171):1.196):1.169,t427:18.056):0.853,t426:18.909):0.357):0.097,((t326:15.24,(t327:12.463,t328:12.463):2.777):0.659,(((t339:11.394,((t347:10.912,t348:10.912):0.117,t340:11.03):0.365):3.528,(t335:11.687,(t345:10.936,t346:10.936):0.751):3.235):0.385,((((t331:11.897,t332:11.897):0.191,t330:12.088):0.494,(t343:10.966,t344:10.966):1.616):0.472,((t329:12.089,((t341:11.017,t342:11.017):0.683,t334:11.7):0.389):0.404,(((t337:11.424,t338:11.424):0.053,t336:11.477):0.274,((t349:10.912,t350:10.912):0.796,t333:11.708):0.042):0.742):0.561):2.254):0.592):0.455):0.485,((((t217:13.406,t218:13.406):2.831,(((t204:14.569,t205:14.569):0.011,(t221:13.209,(t222:13.158,t223:13.158):0.051):1.371):0.426,((t214:13.63,(t219:13.343,t220:13.343):0.287):0.716,t207:14.345):0.662):1.23):1.582,t201:17.819):2.406,(((t224:13.09,t225:13.09):4.141,((t206:14.502,(t210:13.882,t211:13.882):0.619):1.448,((t215:13.575,t216:13.575):1.846,(t202:14.742,t203:14.742):0.679):0.528):1.282):1.547,((t212:13.805,t213:13.805):1.75,(t208:13.889,t209:13.889):1.666):3.224):1.446):0.939):0.046):0.128):0.42):1.64):0.591,(((((((t359:13.41,t360:13.41):1.808,(t356:14.129,(t364:12.59,t365:12.59):1.539):1.089):0.54,t355:15.758):0.113,((((t366:12.52,t367:12.52):0.071,t363:12.591):0.181,t362:12.772):1.626,(t361:13.29,(t374:12.101,(t375:12.101)#H13:0.0::0.6):1.189):1.107):1.473):1.757,((t353:16.119,(t357:13.777,t358:13.777):2.342):0.041,t352:16.16):1.468):0.642,(((((t371:12.223,t372:12.223):1.54,(t373:12.101,#H13:0.0::0.4):1.662):1.0,((((t369:12.267)#H14:0.0::0.596,t370:12.267):0.013,t368:12.28):0.268,#H14:0.281::0.404):2.215):1.291,t354:16.054):0.289,t351:16.343):1.926):0.451,(((t389:11.127,(t391:11.127)#H15:0.0::0.665):3.369,(t378:12.022,(t397:10.866,t398:10.866):1.156):2.474):1.147,(((t383:11.55,t384:11.55):1.232,((t390:11.127,#H15:0.0::0.335):0.618,(t394:10.911,(t399:10.864,t400:10.864):0.047):0.834):1.036):1.946,((((t379:11.866,(t380:11.809,t381:11.809):0.057):0.477,(t376:12.05,t377:12.05):0.294):0.179,((t387:11.166,t388:11.166):0.668,(t382:11.713,(t385:11.378,t386:11.378):0.335):0.121):0.689):1.469,((t395:10.911,t396:10.911):0.53,(t392:10.934,t393:10.934):0.507):2.552):0.736):0.915):0.451):3.313):1.142,((((t66:12.943,t67:12.943):6.124,(((t74:12.6,t75:12.6):3.464,t51:16.064):2.953,((((t55:14.397,t56:14.397):2.826,(((t70:12.832,t71:12.832):1.693,t54:14.525):0.32,(t52:14.565,t53:14.565):0.281):2.377):1.318,((t58:14.247,t59:14.247):0.849,((t61:13.175,(t63:13.175)#H3:0.0::0.586):0.149,(t68:12.834,t69:12.834):0.489):1.773):3.444):0.456,((t57:14.278,(t62:13.175,#H3:0.0::0.414):1.104):0.542,((t64:12.958,t65:12.958):1.789,((t72:12.766,t73:12.766):0.576,t60:13.341):1.405):0.073):4.176):0.021):0.05):1.567,((((t469:11.766,(t470:11.75,t471:11.75):0.017):4.363,((((t465:11.816,t466:11.816):0.584,(t460:12.075,t461:12.075):0.326):0.837,(t455:12.415,t456:12.415):0.823):1.731,(((((t467:11.775,t468:11.775):1.054,(t459:12.088,(t462:12.04,t463:12.04):0.047):0.742):0.467,t452:13.297):1.385,t451:14.682):0.243,(((t472:11.706,t473:11.706):0.319,t464:12.026):0.808,t453:12.833):2.092):0.043):1.161):1.335,((t474:11.705,t475:11.705):4.079,((t457:12.148,t458:12.148):0.424,t454:12.572):3.212):1.68):0.169,(((t483:16.137,t484:16.137):7.142,((((t477:17.949,((t482:16.883,(t490:15.53,(t493:15.227,t494:15.227):0.303):1.353):0.399,(t491:15.267,t492:15.267):2.016):0.666):0.152,((t495:15.028,t496:15.028):2.403,t480:17.431):0.67):0.159,t476:18.26):0.446,(t478:17.907,t479:17.907):0.799):4.572):0.368,((t481:17.158,((t488:15.847,t489:15.847):0.218,(t485:15.914,t486:15.914):0.151):1.093):2.055,(((t499:14.989,t500:14.989):0.876,t487:15.865):0.129,(t497:15.014,t498:15.014):0.98):3.219):4.433):0.169):1.398):0.648,(((((t29:12.3,(((t45:11.411,t46:11.411):0.35,t38:11.762):0.505,((t44:11.465,(t49:11.19,t50:11.19):0.276):0.584,(t36:11.775,t37:11.775):0.274):0.218):0.033):3.441,(((t28:13.197,(t30:12.241,t31:12.241):0.956):0.977,(t41:11.677,t42:11.677):2.498):0.539,((t33:12.183,t34:12.183):1.741,(((t27:13.232,(t39:11.696,t40:11.696):1.537):0.234,t26:13.466):0.153,(t32:12.194)#H2:1.425::0.709):0.305):0.789):1.028):0.631,(((t43:11.623,(t47:11.37,t48:11.37):0.253):0.315,t35:11.939):0.255,#H2:0.0::0.291):4.179):1.959,((((t120:11.469,t121:11.469):0.131,t115:11.6):4.94,(((t101:14.088,t102:14.088):0.207,(((t111:11.704,t112:11.704):0.391,t109:12.095):1.39,(((t113:11.607,t114:11.607):0.941,(t107:12.126,t108:12.126):0.422):0.415,t105:12.964):0.522):0.809):1.49,((((t118:11.471,t119:11.471):0.022,(t122:11.413,t123:11.413):0.079):1.938,(t104:13.103,(((t110:11.81,(t116:11.499,t117:11.499):0.311):0.538,(t124:11.233,t125:11.233):1.115):0.566,t106:12.914):0.188):0.327):0.291,t103:13.721):2.064):0.755):1.133,((t126:18.523,((((t131:14.533,((t134:13.548,t135:13.548):0.402,(t147:12.52,t148:12.52):1.43):0.583):0.722,(((t139:13.206,(t145:12.606,t146:12.606):0.601):0.065,t138:13.271):1.861,((((t149:12.448,t150:12.448):0.684,t140:13.131):0.454,t133:13.585):1.537,((((t132:13.928,(t143:12.689,t144:12.689):1.239):0.638)#H5:0.0::0.524,(((t141:12.851)#H6:0.0::0.564,t142:12.851):1.198,#H6:1.198::0.436):0.517):0.021,t130:14.586):0.536):0.009):0.123):0.984,t127:16.238):1.227,((t136:13.464,t137:13.464):3.318,(t128:15.053,t129:15.053):1.728):0.684):1.058):0.287,#H5:4.245::0.476):1.133):0.826):0.124,(((((((t282:12.062,(t289:11.805,(t291:11.638,t292:11.638):0.167):0.257):0.155,(t293:11.408,t294:11.408):0.809):2.277,((t279:12.309,t280:12.309):1.663,t278:13.973):0.521):0.312,t276:14.806):0.47,(((t284:11.936,t285:11.936):0.109,t283:12.045):2.013,t277:14.058):1.218):0.375,((t299:11.022,t300:11.022):2.933,(((t281:12.169,((t287:11.821,t288:11.821):0.074,t286:11.895):0.274):0.237,(t295:11.391,t296:11.391):1.015):1.213,(t290:11.799,(t297:11.053,t298:11.053):0.746):1.819):0.336):1.697):0.672,((((t301:10.689,((t319:9.124,(t322:9.08)#H12:0.044::0.513):1.195,(t324:9.048,t325:9.048):1.27):0.37):0.626,((t309:9.605,t310:9.605):0.074,((t323:9.08,#H12:0.0::0.487):0.32,t314:9.4):0.279):1.636):0.718,(((t307:9.63,t308:9.63):0.619,((t305:9.668,t306:9.668):0.034,(t315:9.184,t316:9.184):0.518):0.547):0.955,((t303:10.617,(((t311:9.509,(t317:9.163,t318:9.163):0.346):0.006,(t312:9.481,t313:9.481):0.033):0.425,t304:9.94):0.677):0.001,t302:10.618):0.587):0.828):0.157,(t320:9.1,t321:9.1):3.089):0.672):1.411):0.131):2.692):0.999,OUTGROUP:4.68);\n"
      ]
     },
     "metadata": {},
     "output_type": "display_data"
    }
   ],
   "source": [
    "# \"Instance\" variables\n",
    "ntaxa = 500\n",
    "replicatenum = 1\n",
    "ngt = 100\n",
    "seq_len = 500\n",
    "ils_level = \"med\"\n",
    "m = 20\n",
    "dmethod = \"AGIC\"\n",
    "\n",
    "true_net = load_true_net_ils_adjusted_level1(ntaxa, replicatenum, ils_level)\n",
    "# for e in true_net.edge\n",
    "#     if e.length == -1. e.length = 0.473 end\n",
    "# end"
   ]
  },
  {
   "cell_type": "code",
   "execution_count": 27,
   "id": "0af593b1",
   "metadata": {
    "collapsed": false
   },
   "outputs": [],
   "source": [
    "# File paths\n",
    "data_dir = \"/mnt/dv/wid/projects4/SolisLemus-network-merging/simulation-study/from-sequences/temp_data/\"\n",
    "checkpoint_dir = joinpath(pwd(), \"temp_data\")\n",
    "if !isdir(checkpoint_dir) mkdir(checkpoint_dir) end\n",
    "\n",
    "truegt_file = joinpath(checkpoint_dir, \"truegt_n$(ntaxa)_$(replicatenum)_$(ngt)_$(ils_level).treefile\")\n",
    "seq_file_prefix = joinpath(checkpoint_dir, \"seqfile_n$(ntaxa)_$(replicatenum)_$(ngt)_$(seq_len)_$(ils_level).phy\")\n",
    "estgt_file = joinpath(checkpoint_dir, \"estgt_n$(ntaxa)_$(replicatenum)_$(ngt)_$(seq_len)_$(ils_level).treefile\")\n",
    "net_file = joinpath(checkpoint_dir, \"estnets_n$(ntaxa)_$(replicatenum)_$(ngt)_$(seq_len)_$(ils_level)_$(m)_$(dmethod).netfile\")\n",
    "\n",
    "if !isfile(estgt_file) touch(estgt_file) end"
   ]
  },
  {
   "cell_type": "markdown",
   "id": "2e4f6c93",
   "metadata": {},
   "source": [
    "# Estimated gene trees"
   ]
  },
  {
   "cell_type": "code",
   "execution_count": 28,
   "id": "3ba2aec5",
   "metadata": {
    "collapsed": false
   },
   "outputs": [
    {
     "name": "stdout",
     "output_type": "stream",
     "text": [
      "\u001b[30m[TRUE GT] \u001b[39m\u001b[36mLoaded from file.\u001b[39m\n",
      "\u001b[30m[SEQ] \u001b[39m\u001b[36mSequences already simulated for #1.\u001b[39m\n",
      "\u001b[30m[IQ-TREE] \u001b[39m\u001b[36mResults already exist for #1.\u001b[39m\n",
      "\u001b[30m[SEQ] \u001b[39m\u001b[36mSequences already simulated for #2.\u001b[39m\n",
      "\u001b[30m[IQ-TREE] \u001b[39m\u001b[36mResults already exist for #2.\u001b[39m\n",
      "\u001b[30m[SEQ] \u001b[39m\u001b[36mSequences already simulated for #3.\u001b[39m\n",
      "\u001b[30m[IQ-TREE] \u001b[39m\u001b[36mResults already exist for #3.\u001b[39m\n",
      "\u001b[30m[SEQ] \u001b[39m\u001b[36mSequences already simulated for #4.\u001b[39m\n",
      "\u001b[30m[IQ-TREE] \u001b[39m\u001b[36mResults already exist for #4.\u001b[39m\n",
      "\u001b[30m[SEQ] \u001b[39m\u001b[36mSequences already simulated for #5.\u001b[39m\n",
      "\u001b[30m[IQ-TREE] \u001b[39m\u001b[36mResults already exist for #5.\u001b[39m\n",
      "\u001b[30m[SEQ] \u001b[39m\u001b[36mSequences already simulated for #6.\u001b[39m\n",
      "\u001b[30m[IQ-TREE] \u001b[39m\u001b[36mResults already exist for #6.\u001b[39m\n",
      "\u001b[30m[SEQ] \u001b[39m\u001b[36mSequences already simulated for #7.\u001b[39m\n",
      "\u001b[30m[IQ-TREE] \u001b[39m\u001b[36mResults already exist for #7.\u001b[39m\n",
      "\u001b[30m[SEQ] \u001b[39m\u001b[36mSequences already simulated for #8.\u001b[39m\n",
      "\u001b[30m[IQ-TREE] \u001b[39m\u001b[36mResults already exist for #8.\u001b[39m\n",
      "\u001b[30m[SEQ] \u001b[39m\u001b[36mSequences already simulated for #9.\u001b[39m\n",
      "\u001b[30m[IQ-TREE] \u001b[39m\u001b[36mResults already exist for #9.\u001b[39m\n",
      "\u001b[30m[SEQ] \u001b[39m\u001b[36mSequences already simulated for #10.\u001b[39m\n",
      "\u001b[30m[IQ-TREE] \u001b[39m\u001b[36mResults already exist for #10.\u001b[39m\n",
      "\u001b[30m[SEQ] \u001b[39m\u001b[36mSequences already simulated for #11.\u001b[39m\n",
      "\u001b[30m[IQ-TREE] \u001b[39m\u001b[36mResults already exist for #11.\u001b[39m\n",
      "\u001b[30m[SEQ] \u001b[39m\u001b[36mSequences already simulated for #12.\u001b[39m\n",
      "\u001b[30m[IQ-TREE] \u001b[39m\u001b[36mResults already exist for #12.\u001b[39m\n",
      "\u001b[30m[SEQ] \u001b[39m\u001b[36mSequences already simulated for #13.\u001b[39m\n",
      "\u001b[30m[IQ-TREE] \u001b[39m\u001b[36mResults already exist for #13.\u001b[39m\n",
      "\u001b[30m[SEQ] \u001b[39m\u001b[36mSequences already simulated for #14.\u001b[39m\n",
      "\u001b[30m[IQ-TREE] \u001b[39m\u001b[36mResults already exist for #14.\u001b[39m\n",
      "\u001b[30m[SEQ] \u001b[39m\u001b[36mSequences already simulated for #15.\u001b[39m\n",
      "\u001b[30m[IQ-TREE] \u001b[39m\u001b[36mResults already exist for #15.\u001b[39m\n",
      "\u001b[30m[SEQ] \u001b[39m\u001b[36mSequences already simulated for #16.\u001b[39m\n",
      "\u001b[30m[IQ-TREE] \u001b[39m\u001b[36mResults already exist for #16.\u001b[39m\n",
      "\u001b[30m[SEQ] \u001b[39m\u001b[36mSequences already simulated for #17.\u001b[39m\n",
      "\u001b[30m[IQ-TREE] \u001b[39m\u001b[36mResults already exist for #17.\u001b[39m\n",
      "\u001b[30m[SEQ] \u001b[39m\u001b[36mSequences already simulated for #18.\u001b[39m\n",
      "\u001b[30m[IQ-TREE] \u001b[39m\u001b[36mResults already exist for #18.\u001b[39m\n",
      "\u001b[30m[SEQ] \u001b[39m\u001b[36mSequences already simulated for #19.\u001b[39m\n",
      "\u001b[30m[IQ-TREE] \u001b[39m\u001b[36mResults already exist for #19.\u001b[39m\n",
      "\u001b[30m[SEQ] \u001b[39m\u001b[36mSequences already simulated for #20.\u001b[39m\n",
      "\u001b[30m[IQ-TREE] \u001b[39m\u001b[36mResults already exist for #20.\u001b[39m\n",
      "\u001b[30m[SEQ] \u001b[39m\u001b[36mSequences already simulated for #21.\u001b[39m\n",
      "\u001b[30m[IQ-TREE] \u001b[39m\u001b[36mResults already exist for #21.\u001b[39m\n",
      "\u001b[30m[SEQ] \u001b[39m\u001b[36mSequences already simulated for #22.\u001b[39m\n",
      "\u001b[30m[IQ-TREE] \u001b[39m\u001b[36mResults already exist for #22.\u001b[39m\n",
      "\u001b[30m[SEQ] \u001b[39m\u001b[36mSequences already simulated for #23.\u001b[39m\n",
      "\u001b[30m[IQ-TREE] \u001b[39m\u001b[36mResults already exist for #23.\u001b[39m\n",
      "\u001b[30m[SEQ] \u001b[39m\u001b[36mSequences already simulated for #24.\u001b[39m\n",
      "\u001b[30m[IQ-TREE] \u001b[39m\u001b[36mResults already exist for #24.\u001b[39m\n",
      "\u001b[30m[SEQ] \u001b[39m\u001b[36mSequences already simulated for #25.\u001b[39m\n",
      "\u001b[30m[IQ-TREE] \u001b[39m\u001b[36mResults already exist for #25.\u001b[39m\n",
      "\u001b[30m[SEQ] \u001b[39m\u001b[36mSequences already simulated for #26.\u001b[39m\n",
      "\u001b[30m[IQ-TREE] \u001b[39m\u001b[36mResults already exist for #26.\u001b[39m\n",
      "\u001b[30m[SEQ] \u001b[39m\u001b[36mSequences already simulated for #27.\u001b[39m\n",
      "\u001b[30m[IQ-TREE] \u001b[39m\u001b[36mResults already exist for #27.\u001b[39m\n",
      "\u001b[30m[SEQ] \u001b[39m\u001b[36mSequences already simulated for #28.\u001b[39m\n",
      "\u001b[30m[IQ-TREE] \u001b[39m\u001b[36mResults already exist for #28.\u001b[39m\n",
      "\u001b[30m[SEQ] \u001b[39m\u001b[36mSequences already simulated for #29.\u001b[39m\n",
      "\u001b[30m[IQ-TREE] \u001b[39m\u001b[36mResults already exist for #29.\u001b[39m\n",
      "\u001b[30m[SEQ] \u001b[39m\u001b[36mSequences already simulated for #30.\u001b[39m\n",
      "\u001b[30m[IQ-TREE] \u001b[39m\u001b[36mResults already exist for #30.\u001b[39m\n",
      "\u001b[30m[SEQ] \u001b[39m\u001b[36mSequences already simulated for #31.\u001b[39m\n",
      "\u001b[30m[IQ-TREE] \u001b[39m\u001b[36mResults already exist for #31.\u001b[39m\n",
      "\u001b[30m[SEQ] \u001b[39m\u001b[36mSequences already simulated for #32.\u001b[39m\n",
      "\u001b[30m[IQ-TREE] \u001b[39m\u001b[36mResults already exist for #32.\u001b[39m\n",
      "\u001b[30m[SEQ] \u001b[39m\u001b[36mSequences already simulated for #33.\u001b[39m\n",
      "\u001b[30m[IQ-TREE] \u001b[39m\u001b[36mResults already exist for #33.\u001b[39m\n",
      "\u001b[30m[SEQ] \u001b[39m\u001b[36mSequences already simulated for #34.\u001b[39m\n",
      "\u001b[30m[IQ-TREE] \u001b[39m\u001b[36mResults already exist for #34.\u001b[39m\n",
      "\u001b[30m[SEQ] \u001b[39m\u001b[36mSequences already simulated for #35.\u001b[39m\n",
      "\u001b[30m[IQ-TREE] \u001b[39m\u001b[36mResults already exist for #35.\u001b[39m\n",
      "\u001b[30m[SEQ] \u001b[39m\u001b[36mSequences already simulated for #36.\u001b[39m\n",
      "\u001b[30m[IQ-TREE] \u001b[39m\u001b[36mResults already exist for #36.\u001b[39m\n",
      "\u001b[30m[SEQ] \u001b[39m\u001b[36mSequences already simulated for #37.\u001b[39m\n",
      "\u001b[30m[IQ-TREE] \u001b[39m\u001b[36mResults already exist for #37.\u001b[39m\n",
      "\u001b[30m[SEQ] \u001b[39m\u001b[36mSequences already simulated for #38.\u001b[39m\n",
      "\u001b[30m[IQ-TREE] \u001b[39m\u001b[36mResults already exist for #38.\u001b[39m\n",
      "\u001b[30m[SEQ] \u001b[39m\u001b[36mSequences already simulated for #39.\u001b[39m\n",
      "\u001b[30m[IQ-TREE] \u001b[39m\u001b[36mResults already exist for #39.\u001b[39m\n",
      "\u001b[30m[SEQ] \u001b[39m\u001b[36mSequences already simulated for #40.\u001b[39m\n",
      "\u001b[30m[IQ-TREE] \u001b[39m\u001b[36mResults already exist for #40.\u001b[39m\n",
      "\u001b[30m[SEQ] \u001b[39m\u001b[36mSequences already simulated for #41.\u001b[39m\n",
      "\u001b[30m[IQ-TREE] \u001b[39m\u001b[36mResults already exist for #41.\u001b[39m\n",
      "\u001b[30m[SEQ] \u001b[39m\u001b[36mSequences already simulated for #42.\u001b[39m\n",
      "\u001b[30m[IQ-TREE] \u001b[39m\u001b[36mResults already exist for #42.\u001b[39m\n",
      "\u001b[30m[SEQ] \u001b[39m\u001b[36mSequences already simulated for #43.\u001b[39m\n",
      "\u001b[30m[IQ-TREE] \u001b[39m\u001b[36mResults already exist for #43.\u001b[39m\n",
      "\u001b[30m[SEQ] \u001b[39m\u001b[36mSequences already simulated for #44.\u001b[39m\n",
      "\u001b[30m[IQ-TREE] \u001b[39m\u001b[36mResults already exist for #44.\u001b[39m\n",
      "\u001b[30m[SEQ] \u001b[39m\u001b[36mSequences already simulated for #45.\u001b[39m\n",
      "\u001b[30m[IQ-TREE] \u001b[39m\u001b[36mResults already exist for #45.\u001b[39m\n",
      "\u001b[30m[SEQ] \u001b[39m\u001b[36mSequences already simulated for #46.\u001b[39m\n",
      "\u001b[30m[IQ-TREE] \u001b[39m\u001b[36mResults already exist for #46.\u001b[39m\n",
      "\u001b[30m[SEQ] \u001b[39m\u001b[36mSequences already simulated for #47.\u001b[39m\n",
      "\u001b[30m[IQ-TREE] \u001b[39m\u001b[36mResults already exist for #47.\u001b[39m\n",
      "\u001b[30m[SEQ] \u001b[39m\u001b[36mSequences already simulated for #48.\u001b[39m\n",
      "\u001b[30m[IQ-TREE] \u001b[39m\u001b[36mResults already exist for #48.\u001b[39m\n",
      "\u001b[30m[SEQ] \u001b[39m\u001b[36mSequences already simulated for #49.\u001b[39m\n",
      "\u001b[30m[IQ-TREE] \u001b[39m\u001b[36mResults already exist for #49.\u001b[39m\n",
      "\u001b[30m[SEQ] \u001b[39m\u001b[36mSequences already simulated for #50.\u001b[39m\n",
      "\u001b[30m[IQ-TREE] \u001b[39m\u001b[36mResults already exist for #50.\u001b[39m\n",
      "\u001b[30m[SEQ] \u001b[39m\u001b[36mSequences already simulated for #51.\u001b[39m\n",
      "\u001b[30m[IQ-TREE] \u001b[39m\u001b[36mResults already exist for #51.\u001b[39m\n",
      "\u001b[30m[SEQ] \u001b[39m\u001b[36mSequences already simulated for #52.\u001b[39m\n",
      "\u001b[30m[IQ-TREE] \u001b[39m\u001b[36mResults already exist for #52.\u001b[39m\n",
      "\u001b[30m[SEQ] \u001b[39m\u001b[36mSequences already simulated for #53.\u001b[39m\n",
      "\u001b[30m[IQ-TREE] \u001b[39m\u001b[36mResults already exist for #53.\u001b[39m\n",
      "\u001b[30m[SEQ] \u001b[39m\u001b[36mSequences already simulated for #54.\u001b[39m\n",
      "\u001b[30m[IQ-TREE] \u001b[39m\u001b[36mResults already exist for #54.\u001b[39m\n",
      "\u001b[30m[SEQ] \u001b[39m\u001b[36mSequences already simulated for #55.\u001b[39m\n",
      "\u001b[30m[IQ-TREE] \u001b[39m\u001b[36mResults already exist for #55.\u001b[39m\n",
      "\u001b[30m[SEQ] \u001b[39m\u001b[36mSequences already simulated for #56.\u001b[39m\n",
      "\u001b[30m[IQ-TREE] \u001b[39m\u001b[36mResults already exist for #56.\u001b[39m\n",
      "\u001b[30m[SEQ] \u001b[39m\u001b[36mSequences already simulated for #57.\u001b[39m\n",
      "\u001b[30m[IQ-TREE] \u001b[39m\u001b[36mResults already exist for #57.\u001b[39m\n",
      "\u001b[30m[SEQ] \u001b[39m\u001b[36mSequences already simulated for #58.\u001b[39m\n",
      "\u001b[30m[IQ-TREE] \u001b[39m\u001b[36mResults already exist for #58.\u001b[39m\n",
      "\u001b[30m[SEQ] \u001b[39m\u001b[36mSequences already simulated for #59.\u001b[39m\n",
      "\u001b[30m[IQ-TREE] \u001b[39m\u001b[36mResults already exist for #59.\u001b[39m\n",
      "\u001b[30m[SEQ] \u001b[39m\u001b[36mSequences already simulated for #60.\u001b[39m\n",
      "\u001b[30m[IQ-TREE] \u001b[39m\u001b[36mResults already exist for #60.\u001b[39m\n",
      "\u001b[30m[SEQ] \u001b[39m\u001b[36mSequences already simulated for #61.\u001b[39m\n",
      "\u001b[30m[IQ-TREE] \u001b[39m\u001b[36mResults already exist for #61.\u001b[39m\n",
      "\u001b[30m[SEQ] \u001b[39m\u001b[36mSequences already simulated for #62.\u001b[39m\n",
      "\u001b[30m[IQ-TREE] \u001b[39m\u001b[36mResults already exist for #62.\u001b[39m\n",
      "\u001b[30m[SEQ] \u001b[39m\u001b[36mSequences already simulated for #63.\u001b[39m\n",
      "\u001b[30m[IQ-TREE] \u001b[39m\u001b[36mResults already exist for #63.\u001b[39m\n",
      "\u001b[30m[SEQ] \u001b[39m\u001b[36mSequences already simulated for #64.\u001b[39m\n",
      "\u001b[30m[IQ-TREE] \u001b[39m\u001b[36mResults already exist for #64.\u001b[39m\n",
      "\u001b[30m[SEQ] \u001b[39m\u001b[36mSequences already simulated for #65.\u001b[39m\n",
      "\u001b[30m[IQ-TREE] \u001b[39m\u001b[36mResults already exist for #65.\u001b[39m\n",
      "\u001b[30m[SEQ] \u001b[39m\u001b[36mSequences already simulated for #66.\u001b[39m\n",
      "\u001b[30m[IQ-TREE] \u001b[39m\u001b[36mResults already exist for #66.\u001b[39m\n",
      "\u001b[30m[SEQ] \u001b[39m\u001b[36mSequences already simulated for #67.\u001b[39m\n",
      "\u001b[30m[IQ-TREE] \u001b[39m\u001b[36mResults already exist for #67.\u001b[39m\n",
      "\u001b[30m[SEQ] \u001b[39m\u001b[36mSequences already simulated for #68.\u001b[39m\n",
      "\u001b[30m[IQ-TREE] \u001b[39m\u001b[36mResults already exist for #68.\u001b[39m\n",
      "\u001b[30m[SEQ] \u001b[39m\u001b[36mSequences already simulated for #69.\u001b[39m\n",
      "\u001b[30m[IQ-TREE] \u001b[39m\u001b[36mResults already exist for #69.\u001b[39m\n",
      "\u001b[30m[SEQ] \u001b[39m\u001b[36mSequences already simulated for #70.\u001b[39m\n",
      "\u001b[30m[IQ-TREE] \u001b[39m\u001b[36mResults already exist for #70.\u001b[39m\n",
      "\u001b[30m[SEQ] \u001b[39m\u001b[36mSequences already simulated for #71.\u001b[39m\n",
      "\u001b[30m[IQ-TREE] \u001b[39m\u001b[36mResults already exist for #71.\u001b[39m\n",
      "\u001b[30m[SEQ] \u001b[39m\u001b[36mSequences already simulated for #72.\u001b[39m\n",
      "\u001b[30m[IQ-TREE] \u001b[39m\u001b[36mResults already exist for #72.\u001b[39m\n",
      "\u001b[30m[SEQ] \u001b[39m\u001b[36mSequences already simulated for #73.\u001b[39m\n",
      "\u001b[30m[IQ-TREE] \u001b[39m\u001b[36mResults already exist for #73.\u001b[39m\n",
      "\u001b[30m[SEQ] \u001b[39m\u001b[36mSequences already simulated for #74.\u001b[39m\n",
      "\u001b[30m[IQ-TREE] \u001b[39m\u001b[36mResults already exist for #74.\u001b[39m\n",
      "\u001b[30m[SEQ] \u001b[39m\u001b[36mSequences already simulated for #75.\u001b[39m\n",
      "\u001b[30m[IQ-TREE] \u001b[39m\u001b[36mResults already exist for #75.\u001b[39m\n",
      "\u001b[30m[SEQ] \u001b[39m\u001b[36mSequences already simulated for #76.\u001b[39m\n",
      "\u001b[30m[IQ-TREE] \u001b[39m\u001b[36mResults already exist for #76.\u001b[39m\n",
      "\u001b[30m[SEQ] \u001b[39m\u001b[36mSequences already simulated for #77.\u001b[39m\n",
      "\u001b[30m[IQ-TREE] \u001b[39m\u001b[36mResults already exist for #77.\u001b[39m\n",
      "\u001b[30m[SEQ] \u001b[39m\u001b[36mSequences already simulated for #78.\u001b[39m\n",
      "\u001b[30m[IQ-TREE] \u001b[39m\u001b[36mResults already exist for #78.\u001b[39m\n",
      "\u001b[30m[SEQ] \u001b[39m\u001b[36mSequences already simulated for #79.\u001b[39m\n",
      "\u001b[30m[IQ-TREE] \u001b[39m\u001b[36mResults already exist for #79.\u001b[39m\n",
      "\u001b[30m[SEQ] \u001b[39m\u001b[36mSequences already simulated for #80.\u001b[39m\n",
      "\u001b[30m[IQ-TREE] \u001b[39m\u001b[36mResults already exist for #80.\u001b[39m\n",
      "\u001b[30m[SEQ] \u001b[39m\u001b[36mSequences already simulated for #81.\u001b[39m\n",
      "\u001b[30m[IQ-TREE] \u001b[39m\u001b[36mResults already exist for #81.\u001b[39m\n",
      "\u001b[30m[SEQ] \u001b[39m\u001b[36mSequences already simulated for #82.\u001b[39m\n",
      "\u001b[30m[IQ-TREE] \u001b[39m\u001b[36mResults already exist for #82.\u001b[39m\n",
      "\u001b[30m[SEQ] \u001b[39m\u001b[36mSequences already simulated for #83.\u001b[39m\n",
      "\u001b[30m[IQ-TREE] \u001b[39m\u001b[36mResults already exist for #83.\u001b[39m\n",
      "\u001b[30m[SEQ] \u001b[39m\u001b[36mSequences already simulated for #84.\u001b[39m\n",
      "\u001b[30m[IQ-TREE] \u001b[39m\u001b[36mResults already exist for #84.\u001b[39m\n",
      "\u001b[30m[SEQ] \u001b[39m\u001b[36mSequences already simulated for #85.\u001b[39m\n",
      "\u001b[30m[IQ-TREE] \u001b[39m\u001b[36mResults already exist for #85.\u001b[39m\n",
      "\u001b[30m[SEQ] \u001b[39m\u001b[36mSequences already simulated for #86.\u001b[39m\n",
      "\u001b[30m[IQ-TREE] \u001b[39m\u001b[36mResults already exist for #86.\u001b[39m\n",
      "\u001b[30m[SEQ] \u001b[39m\u001b[36mSequences already simulated for #87.\u001b[39m\n",
      "\u001b[30m[IQ-TREE] \u001b[39m\u001b[36mResults already exist for #87.\u001b[39m\n",
      "\u001b[30m[SEQ] \u001b[39m\u001b[36mSequences already simulated for #88.\u001b[39m\n",
      "\u001b[30m[IQ-TREE] \u001b[39m\u001b[36mResults already exist for #88.\u001b[39m\n",
      "\u001b[30m[SEQ] \u001b[39m\u001b[36mSequences already simulated for #89.\u001b[39m\n",
      "\u001b[30m[IQ-TREE] \u001b[39m\u001b[36mResults already exist for #89.\u001b[39m\n",
      "\u001b[30m[SEQ] \u001b[39m\u001b[36mSequences already simulated for #90.\u001b[39m\n",
      "\u001b[30m[IQ-TREE] \u001b[39m\u001b[36mResults already exist for #90.\u001b[39m\n",
      "\u001b[30m[SEQ] \u001b[39m\u001b[36mSequences already simulated for #91.\u001b[39m\n",
      "\u001b[30m[IQ-TREE] \u001b[39m\u001b[36mResults already exist for #91.\u001b[39m\n",
      "\u001b[30m[SEQ] \u001b[39m\u001b[36mSequences already simulated for #92.\u001b[39m\n",
      "\u001b[30m[IQ-TREE] \u001b[39m\u001b[36mResults already exist for #92.\u001b[39m\n",
      "\u001b[30m[SEQ] \u001b[39m\u001b[36mSequences already simulated for #93.\u001b[39m\n",
      "\u001b[30m[IQ-TREE] \u001b[39m\u001b[36mResults already exist for #93.\u001b[39m\n",
      "\u001b[30m[SEQ] \u001b[39m\u001b[36mSequences already simulated for #94.\u001b[39m\n",
      "\u001b[30m[IQ-TREE] \u001b[39m\u001b[36mResults already exist for #94.\u001b[39m\n",
      "\u001b[30m[SEQ] \u001b[39m\u001b[36mSequences already simulated for #95.\u001b[39m\n",
      "\u001b[30m[IQ-TREE] \u001b[39m\u001b[36mResults already exist for #95.\u001b[39m\n",
      "\u001b[30m[SEQ] \u001b[39m\u001b[36mSequences already simulated for #96.\u001b[39m\n",
      "\u001b[30m[IQ-TREE] \u001b[39m\u001b[36mResults already exist for #96.\u001b[39m\n",
      "\u001b[30m[SEQ] \u001b[39m\u001b[36mSequences already simulated for #97.\u001b[39m\n",
      "\u001b[30m[IQ-TREE] \u001b[39m\u001b[36mResults already exist for #97.\u001b[39m\n",
      "\u001b[30m[SEQ] \u001b[39m\u001b[36mSequences already simulated for #98.\u001b[39m\n",
      "\u001b[30m[IQ-TREE] \u001b[39m\u001b[36mResults already exist for #98.\u001b[39m\n",
      "\u001b[30m[SEQ] \u001b[39m\u001b[36mSequences already simulated for #99.\u001b[39m\n",
      "\u001b[30m[IQ-TREE] \u001b[39m\u001b[36mResults already exist for #99.\u001b[39m\n",
      "\u001b[30m[SEQ] \u001b[39m\u001b[36mSequences already simulated for #100.\u001b[39m\n",
      "\u001b[30m[IQ-TREE] \u001b[39m\u001b[36mResults already exist for #100.\u001b[39m\n"
     ]
    }
   ],
   "source": [
    "seed = parse(Int64, \"$(true_net.numTaxa)42$(true_net.numHybrids)42$(replicatenum)\")\n",
    "\n",
    "true_gts::Vector{HybridNetwork} = simulate_gene_trees(truegt_file, ngt, seed)\n",
    "pmap(\n",
    "    (i, gt) -> est_gt_from_true_gt(gt, \"$(seq_file_prefix)_$(i)\", \"$(estgt_file)_$(i)\", data_dir, i),\n",
    "    1:length(true_gts), true_gts\n",
    ")\n",
    "true_gts = []\n",
    "@everywhere GC.gc()"
   ]
  },
  {
   "cell_type": "code",
   "execution_count": 32,
   "id": "45f6f1b5",
   "metadata": {
    "collapsed": false
   },
   "outputs": [],
   "source": [
    "# Consolidate all estimated gene trees into a single file\n",
    "est_gts = Array{HybridNetwork}(undef, ngt)\n",
    "for i = 1:ngt\n",
    "    est_gts[i] = readTopology(\"$(estgt_file)_$(i)\")\n",
    "end\n",
    "\n",
    "@everywhere GC.gc()"
   ]
  },
  {
   "cell_type": "markdown",
   "id": "552f03b9",
   "metadata": {},
   "source": [
    "# Subset decomposition"
   ]
  },
  {
   "cell_type": "code",
   "execution_count": 33,
   "id": "2a84c116",
   "metadata": {
    "collapsed": false
   },
   "outputs": [
    {
     "name": "stdout",
     "output_type": "stream",
     "text": [
      "\u001b[30m[NJ] \u001b[39m\u001b[36mCalculating AGIC.\u001b[39m\n",
      "\u001b[30m[NJ] \u001b[39m\u001b[36mEstimating NJ tree.\u001b[39m\n"
     ]
    },
    {
     "data": {
      "text/plain": [
       "40-element Vector{Vector{String}}:\n",
       " [\"t329\", \"t334\", \"t341\", \"t342\", \"t333\", \"t336\", \"t337\", \"t338\", \"t349\", \"t350\"]\n",
       " [\"t326\", \"t327\", \"t328\", \"t335\", \"t345\", \"t346\", \"t339\", \"t340\", \"t347\", \"t348\", \"t330\", \"t331\", \"t332\", \"t343\", \"t344\"]\n",
       " [\"t402\", \"t403\", \"t404\", \"t412\", \"t413\", \"t418\", \"t419\", \"t422\", \"t423\", \"t411\", \"t420\", \"t421\"]\n",
       " [\"t401\", \"t405\", \"t406\", \"t407\", \"t408\", \"t416\", \"t417\", \"t409\", \"t410\", \"t414\", \"t415\", \"t424\", \"t425\"]\n",
       " [\"t176\", \"t183\", \"t184\", \"t187\", \"t188\", \"t180\", \"t181\", \"t191\", \"t192\", \"t195\", \"t196\"]\n",
       " [\"t178\", \"t193\", \"t194\", \"t177\", \"t179\", \"t182\", \"t197\", \"t198\", \"t185\", \"t189\", \"t190\", \"t199\", \"t200\", \"t186\"]\n",
       " [\"t226\", \"t234\", \"t239\", \"t249\", \"t250\", \"t245\", \"t246\", \"t238\", \"t247\", \"t248\", \"t236\", \"t237\"]\n",
       " [\"t229\", \"t233\", \"t235\", \"t243\", \"t244\", \"t242\", \"t241\", \"t232\", \"t240\", \"t227\", \"t228\", \"t230\", \"t231\"]\n",
       " [\"t252\", \"t268\", \"t269\", \"t270\", \"t271\", \"t255\", \"t256\", \"t262\", \"t263\", \"t259\", \"t266\", \"t272\", \"t273\"]\n",
       " [\"t251\", \"t261\", \"t267\", \"t274\", \"t275\", \"t257\", \"t258\", \"t253\", \"t260\", \"t264\", \"t265\", \"t254\"]\n",
       " ⋮\n",
       " [\"t151\", \"t155\", \"t162\", \"t163\", \"t158\", \"t159\", \"t157\", \"t160\", \"t161\", \"t167\", \"t168\"]\n",
       " [\"t26\", \"t39\", \"t40\", \"t27\", \"t33\", \"t34\", \"t32\", \"t28\", \"t30\", \"t31\", \"t41\", \"t42\"]\n",
       " [\"t35\", \"t43\", \"t47\", \"t48\", \"t29\", \"t36\", \"t37\", \"t44\", \"t49\", \"t50\", \"t38\", \"t45\", \"t46\"]\n",
       " [\"t302\", \"t304\", \"t311\", \"t312\", \"t313\", \"t317\", \"t318\", \"t303\", \"t305\", \"t315\", \"t316\", \"t306\", \"t307\", \"t308\"]\n",
       " [\"t320\", \"t321\", \"t301\", \"t319\", \"t324\", \"t325\", \"t309\", \"t310\", \"t314\", \"t323\", \"t322\"]\n",
       " [\"t476\", \"t477\", \"t482\", \"t490\", \"t493\", \"t494\", \"t491\", \"t492\", \"t480\", \"t495\", \"t496\", \"t478\", \"t479\"]\n",
       " [\"t481\", \"t485\", \"t486\", \"t488\", \"t489\", \"t487\", \"t499\", \"t500\", \"t497\", \"t498\", \"t483\", \"t484\"]\n",
       " [\"t52\", \"t53\", \"t54\", \"t70\", \"t71\", \"t55\", \"t56\", \"t58\", \"t59\", \"t61\", \"t68\", \"t69\", \"t63\"]\n",
       " [\"t51\", \"t74\", \"t75\", \"t66\", \"t67\", \"t57\", \"t62\", \"t60\", \"t72\", \"t73\", \"t64\", \"t65\"]"
      ]
     },
     "metadata": {},
     "output_type": "display_data"
    }
   ],
   "source": [
    "_, _, nj_tre = estimate_nj_tree(est_gts)\n",
    "subsets = sateIdecomp(nj_tre, m)"
   ]
  },
  {
   "cell_type": "markdown",
   "id": "c7a206b3",
   "metadata": {},
   "source": [
    "# SNaQ inference"
   ]
  },
  {
   "cell_type": "code",
   "execution_count": 17,
   "id": "b90bd13d",
   "metadata": {
    "collapsed": false
   },
   "outputs": [
    {
     "name": "stdout",
     "output_type": "stream",
     "text": [
      "Reading in trees, looking at 210 quartets in each...\n",
      "0+--------------------------------------------------+100%\n",
      "  **************************************************\n",
      "Reading in trees, looking at 1365 quartets in each...\n",
      "0+--------------------------------------------------+100%\n",
      "  **************************************************\n",
      "Reading in trees, looking at 495 quartets in each...\n",
      "0+--------------------------------------------------+100%\n",
      "  **************************************************\n",
      "Reading in trees, looking at 715 quartets in each...\n",
      "0+--------------------------------------------------+100%\n",
      "  **************************************************\n",
      "Reading in trees, looking at 330 quartets in each...\n",
      "0+--------------------------------------------------+100%\n",
      "  **************************************************\n",
      "Reading in trees, looking at 1001 quartets in each...\n",
      "0+--------------------------------------------------+100%\n",
      "  **************************************************\n",
      "Reading in trees, looking at 495 quartets in each...\n",
      "0+--------------------------------------------------+100%\n",
      "  **************************************************\n",
      "Reading in trees, looking at 715 quartets in each...\n",
      "0+--------------------------------------------------+100%\n",
      "  **************************************************\n",
      "Reading in trees, looking at 715 quartets in each...\n",
      "0+--------------------------------------------------+100%\n",
      "  **************************************************\n",
      "Reading in trees, looking at 495 quartets in each...\n",
      "0+--------------------------------------------------+100%\n",
      "  **************************************************\n",
      "Reading in trees, looking at 330 quartets in each...\n",
      "0+--------------------------------------------------+100%\n",
      "  **************************************************\n",
      "Reading in trees, looking at 1001 quartets in each...\n",
      "0+--------------------------------------------------+100%\n",
      "  **************************************************\n",
      "Reading in trees, looking at 495 quartets in each...\n",
      "0+--------------------------------------------------+100%\n",
      "  **************************************************\n",
      "Reading in trees, looking at 715 quartets in each...\n",
      "0+--------------------------------------------------+100%\n",
      "  **************************************************\n",
      "Reading in trees, looking at 330 quartets in each...\n",
      "0+--------------------------------------------------+100%\n",
      "  **************************************************\n",
      "Reading in trees, looking at 1001 quartets in each...\n",
      "0+--------------------------------------------------+100%\n",
      "  **************************************************\n",
      "Reading in trees, looking at 1001 quartets in each...\n",
      "0+--------------------------------------------------+100%\n",
      "  **************************************************\n",
      "Reading in trees, looking at 330 quartets in each...\n",
      "0+--------------------------------------------------+100%\n",
      "  **************************************************\n",
      "Reading in trees, looking at 715 quartets in each...\n",
      "0+--------------------------------------------------+100%\n",
      "  **************************************************\n",
      "Reading in trees, looking at 495 quartets in each...\n",
      "0+--------------------------------------------------+100%\n",
      "  **************************************************\n",
      "Reading in trees, looking at 1001 quartets in each...\n",
      "0+--------------------------------------------------+100%\n",
      "  **************************************************\n",
      "Reading in trees, looking at 495 quartets in each...\n",
      "0+--------------------------------------------------+100%\n",
      "  **************************************************\n",
      "Reading in trees, looking at 330 quartets in each...\n",
      "0+--------------------------------------------------+100%\n",
      "  **************************************************\n",
      "Reading in trees, looking at 1001 quartets in each...\n",
      "0+--------------------------------------------------+100%\n",
      "  **************************************************\n",
      "Reading in trees, looking at 495 quartets in each...\n",
      "0+--------------------------------------------------+100%\n",
      "  **************************************************\n",
      "Reading in trees, looking at 715 quartets in each...\n",
      "0+--------------------------------------------------+100%\n",
      "  **************************************************\n",
      "Reading in trees, looking at 210 quartets in each...\n",
      "0+--------------------------------------------------+100%\n",
      "  **************************************************\n",
      "Reading in trees, looking at 1365 quartets in each...\n",
      "0+--------------------------------------------------+100%\n",
      "  **************************************************\n",
      "Reading in trees, looking at 715 quartets in each...\n",
      "0+--------------------------------------------------+100%\n",
      "  **************************************************\n",
      "Reading in trees, looking at 495 quartets in each...\n",
      "0+--------------------------------------------------+100%\n",
      "  **************************************************\n",
      "Reading in trees, looking at 1001 quartets in each...\n",
      "0+--------------------------------------------------+100%\n",
      "  **************************************************\n",
      "Reading in trees, looking at 330 quartets in each...\n",
      "0+--------------------------------------------------+100%\n",
      "  **************************************************\n",
      "Reading in trees, looking at 495 quartets in each...\n",
      "0+--------------------------------------------------+100%\n",
      "  **************************************************\n",
      "Reading in trees, looking at 715 quartets in each...\n",
      "0+--------------------------------------------------+100%\n",
      "  **************************************************\n",
      "Reading in trees, looking at 1001 quartets in each...\n",
      "0+--------------------------------------------------+100%\n",
      "  **************************************************\n",
      "Reading in trees, looking at 330 quartets in each...\n",
      "0+--------------------------------------------------+100%\n",
      "  **************************************************\n",
      "Reading in trees, looking at 715 quartets in each...\n",
      "0+--------------------------------------------------+100%\n",
      "  **************************************************\n",
      "Reading in trees, looking at 495 quartets in each...\n",
      "0+--------------------------------------------------+100%\n",
      "  **************************************************\n",
      "Reading in trees, looking at 715 quartets in each...\n",
      "0+--------------------------------------------------+100%\n",
      "  **************************************************\n",
      "Reading in trees, looking at 495 quartets in each...\n",
      "0+--------------------------------------------------+100%\n",
      "  **************************************************\n"
     ]
    }
   ],
   "source": [
    "df_dir = \"/mnt/dv/wid/projects4/SolisLemus-network-merging/simulation-study/from-sequences/CFs/\"\n",
    "nj_dir = \"/mnt/dv/wid/projects4/SolisLemus-network-merging/simulation-study/from-sequences/NJs/\"\n",
    "nruns = 10\n",
    "GC.gc()\n",
    "\n",
    "for (i, subset_taxa) in enumerate(subsets)\n",
    "    output_file = \"$(net_file)_$(i)\"\n",
    "    runtime_file = \"$(output_file).runtime\"\n",
    "    output_net_file = \"$(output_file).netfile\"\n",
    "    \n",
    "    if isfile(output_net_file) && isfile(runtime_file)\n",
    "        log(\"SNaQ $(i)\", \"Already inferred.\")\n",
    "        continue\n",
    "    end\n",
    "\n",
    "    temp_gts = Array{HybridNetwork}(undef, length(est_gts))\n",
    "    for i = 1:length(est_gts)\n",
    "        temp_gts[i] = pruneTruthFromDecomp(est_gts[i], subset_taxa)\n",
    "    end\n",
    "\n",
    "    # 1. Quartets\n",
    "    q, t = countquartetsintrees(temp_gts)\n",
    "    df = silently() do\n",
    "        readTableCF(writeTableCF(q, t))\n",
    "    end\n",
    "    CSV.write(joinpath(df_dir, \"df_n$(ntaxa)_$(replicatenum)_$(ngt)_$(seq_len)_$(ils_level)_$(m)_$(dmethod)_sub$(i).csv\"), writeTableCF(df))\n",
    "\n",
    "    # 2. Starting trees\n",
    "    init_tree = pruneTruthFromDecomp(nj_tre, subset_taxa)\n",
    "    tre_out = joinpath(nj_dir, \"nj_n$(ntaxa)_$(replicatenum)_$(ngt)_$(seq_len)_$(ils_level)_$(m)_$(dmethod)_sub$(i).tre\")\n",
    "    open(tre_out, \"w+\") do f\n",
    "        write(f, writeTopology(init_tree))\n",
    "    end\n",
    "\n",
    "    # 3. Write info to condor input table\n",
    "    tab_file = \"/mnt/dv/wid/projects4/SolisLemus-network-merging/simulation-study/condor/inputs.tab\"\n",
    "    open(tab_file, \"a\") do f\n",
    "        write(f, \"$(ntaxa),$(replicatenum),$(ngt),$(seq_len),$(ils_level),$(m),$(i)\\n\")\n",
    "    end\n",
    "\n",
    "    # 4. Constraints inferred in Condor\n",
    "end\n",
    "@everywhere GC.gc()"
   ]
  },
  {
   "cell_type": "markdown",
   "id": "d7595c9f",
   "metadata": {},
   "source": [
    "# InPhyNet"
   ]
  },
  {
   "cell_type": "code",
   "execution_count": 37,
   "id": "230cb072",
   "metadata": {
    "collapsed": false
   },
   "outputs": [],
   "source": [
    "# Load estimated data\n",
    "# est_constraints = Array{HybridNetwork}(undef, length(subsets))\n",
    "est_constraints = Vector{HybridNetwork}([])\n",
    "for i = 1:length(subsets)\n",
    "    net_file = joinpath(\n",
    "        \"/mnt/dv/wid/projects4/SolisLemus-network-merging/simulation-study/from-sequences/snaq_nets/\",\n",
    "        \"snaq_n$(ntaxa)_$(replicatenum)_$(ngt)_$(seq_len)_$(ils_level)_$(m)_$(dmethod)_sub$(i).out\"\n",
    "    )\n",
    "    if !isfile(net_file) continue end\n",
    "\n",
    "    net = split(readlines(net_file)[1], \" -Ploglik\")[1]\n",
    "    push!(est_constraints, readTopology(net))\n",
    "    # est_constraints[i] = readTopology(net)\n",
    "end\n",
    "\n",
    "# est_constraint_runtimes = Vector{Float64}(\n",
    "#     [parse(Float64, readlines(\"$(net_file)_$(i).runtime\")[1]) for i=1:length(subsets)]\n",
    "# )"
   ]
  },
  {
   "cell_type": "code",
   "execution_count": 38,
   "id": "a20e32c9",
   "metadata": {},
   "outputs": [
    {
     "data": {
      "text/plain": [
       "38-element Vector{HybridNetwork}:\n",
       " HybridNetwork, Rooted Network\n",
       "17 edges\n",
       "18 nodes: 10 tips, 0 hybrid nodes, 8 internal tree nodes.\n",
       "tip labels: t341, t342, t334, t329, ...\n",
       "(t341,t342,(t334,(t329,(t333,(((t336,t337):0.037,t338):0.141,(t349,t350):0.6):0.015):0.94):0.258):0.384);\n",
       "\n",
       " HybridNetwork, Rooted Network\n",
       "27 edges\n",
       "28 nodes: 15 tips, 0 hybrid nodes, 13 internal tree nodes.\n",
       "tip labels: t327, t328, t326, t343, ...\n",
       "(t327,t328,(t326,(((t343,t344):0.949,(t330,(t331,t332):0.157):0.207):2.523,((t335,(t345,t346):0.365):3.716,(t339,(t340,(t347,t348):0.246):0.216):3.994):0.229):0.736):2.483);\n",
       "\n",
       " HybridNetwork, Rooted Network\n",
       "24 edges\n",
       "24 nodes: 12 tips, 1 hybrid nodes, 11 internal tree nodes.\n",
       "tip labels: t412, t413, t418, t419, ...\n",
       "(t412,t413,((t418,(t419)#H13:::0.764):0.576,((t404,(t403,(t402,(t411,(t420,t421):0.425):4.729):0.299):0.724):0.589,(t423,(t422,#H13:::0.236):0.329):0.826):0.17):0.078);\n",
       "\n",
       " HybridNetwork, Rooted Network\n",
       "23 edges\n",
       "24 nodes: 13 tips, 0 hybrid nodes, 11 internal tree nodes.\n",
       "tip labels: t405, t406, t407, t408, ...\n",
       "(t405,t406,((t407,(t408,(t416,t417):0.608):0.215):1.655,(((t409,t410):0.094,((t414,t415):0.473,(t425,t424):0.993):0.098):3.288,t401):0.884):1.079);\n",
       "\n",
       " HybridNetwork, Rooted Network\n",
       "19 edges\n",
       "20 nodes: 11 tips, 0 hybrid nodes, 9 internal tree nodes.\n",
       "tip labels: t187, t188, t184, t183, ...\n",
       "(t187,t188,(t184,(t183,(t176,((t180,t181):0.823,((t192,t191):2.155,(t195,t196):2.125):0.535):0.641):2.37):0.143):0.189);\n",
       "\n",
       " HybridNetwork, Rooted Network\n",
       "28 edges\n",
       "28 nodes: 14 tips, 1 hybrid nodes, 13 internal tree nodes.\n",
       "tip labels: t193, t194, t178, t177, ...\n",
       "(t193,t194,((t178,(t177,(((t199,t200):1.056,(t185,(t189,t190):0.313):0.413):0.527,(t179,((t182,(t197,t198):0.895):0.342,(t186)#H15:::0.537):0.076):0.097):0.751):3.512):1.8,#H15:::0.463):0.279);\n",
       "\n",
       " HybridNetwork, Rooted Network\n",
       "27 edges\n",
       "26 nodes: 12 tips, 2 hybrid nodes, 12 internal tree nodes.\n",
       "tip labels: t249, t239, t226, t236, ...\n",
       "(t249,((t239,((((t226,(t236,(t237,#H15:0.437::0.0):0.067):1.718):0.359,((t247,t248):0.93)#H15:0.39::1.0):0.6,((t246,t245):0.366)#H13:0.728::0.812):0.078,t238):0.271):0.049,t234):0.689,(t250,#H13:0.0::0.188):0.248);\n",
       "\n",
       " HybridNetwork, Rooted Network\n",
       "26 edges\n",
       "26 nodes: 13 tips, 1 hybrid nodes, 12 internal tree nodes.\n",
       "tip labels: t233, t243, t244, t229, ...\n",
       "(t233,((t243,t244):0.623,(t229,(((t228,(t230,t231):0.641):0.319,t227):0.621,(t232,(t240,((t241,t242):0.0)#H14:0.163::0.503):0.303):3.045):1.483):0.588):0.194,(t235,#H14:0.0::0.497):0.269);\n",
       "\n",
       " HybridNetwork, Rooted Network\n",
       "23 edges\n",
       "24 nodes: 13 tips, 0 hybrid nodes, 11 internal tree nodes.\n",
       "tip labels: t268, t269, t270, t271, ...\n",
       "(t268,t269,((t270,t271):0.308,(t252,(((t255,t256):0.033,(t262,t263):0.311):0.032,(t259,(t266,(t273,t272):0.146):0.305):0.363):3.812):1.845):0.28);\n",
       "\n",
       " HybridNetwork, Rooted Network\n",
       "21 edges\n",
       "22 nodes: 12 tips, 0 hybrid nodes, 10 internal tree nodes.\n",
       "tip labels: t274, t275, t267, t261, ...\n",
       "(t274,t275,(t267,(t261,(t251,((t257,t258):3.071,((t253,(t260,(t264,t265):0.203):0.553):0.046,t254):10.0):2.234):1.543):0.285):0.242);\n",
       "\n",
       " ⋮\n",
       " HybridNetwork, Rooted Network\n",
       "25 edges\n",
       "26 nodes: 14 tips, 0 hybrid nodes, 12 internal tree nodes.\n",
       "tip labels: t170, t171, t175, t174, ...\n",
       "(t170,t171,((t175,t174):0.111,((t169,t164):0.029,((t172,t173):0.245,(t152,(((t153,t154):0.039,(t165,t166):0.494):0.064,t156):0.28):0.56):0.442):0.078):0.092);\n",
       "\n",
       " HybridNetwork, Rooted Network\n",
       "19 edges\n",
       "20 nodes: 11 tips, 0 hybrid nodes, 9 internal tree nodes.\n",
       "tip labels: t151, t155, t162, t163, ...\n",
       "(t151,t155,((t162,t163):1.64,(t157,(((t161,t160):0.041,(t167,t168):0.302):3.83,(t158,t159):5.287):0.491):0.949):0.414);\n",
       "\n",
       " HybridNetwork, Rooted Network\n",
       "21 edges\n",
       "22 nodes: 12 tips, 0 hybrid nodes, 10 internal tree nodes.\n",
       "tip labels: t39, t40, t26, t27, ...\n",
       "(t39,t40,(t26,(t27,((t33,t34):1.067,(t32,((t42,t41):1.967,(t28,(t30,t31):0.642):0.631):1.033):0.145):0.266):0.1):1.192);\n",
       "\n",
       " HybridNetwork, Rooted Network\n",
       "25 edges\n",
       "26 nodes: 14 tips, 0 hybrid nodes, 12 internal tree nodes.\n",
       "tip labels: t317, t318, t313, t304, ...\n",
       "(t317,t318,(t313,(((t304,((t302,(((t305,t306):0.025,(t315,t316):0.377):0.36,(t307,t308):0.472):1.725):0.071,t303):0.747):0.578,t311):0.03,t312):0.07):0.162);\n",
       "\n",
       " HybridNetwork, Rooted Network\n",
       "22 edges\n",
       "22 nodes: 11 tips, 1 hybrid nodes, 10 internal tree nodes.\n",
       "tip labels: t320, t321, t310, t309, ...\n",
       "(t320,t321,((t310,(t309,(t314,(t323,(t322)#H12:::0.558):0.204):0.105):0.039):1.82,(t301,((t325,t324):0.994,(t319,#H12:::0.442):1.458):0.331):0.457):5.338);\n",
       "\n",
       " HybridNetwork, Rooted Network\n",
       "23 edges\n",
       "24 nodes: 13 tips, 0 hybrid nodes, 11 internal tree nodes.\n",
       "tip labels: t493, t494, t490, t482, ...\n",
       "(t493,t494,(t490,(t482,((t491,t492):0.936,(t477,(((t495,t496):1.817,t480):0.186,(t476,(t478,t479):0.362):0.156):0.254):0.475):0.178):0.793):0.089);\n",
       "\n",
       " HybridNetwork, Rooted Network\n",
       "21 edges\n",
       "22 nodes: 12 tips, 0 hybrid nodes, 10 internal tree nodes.\n",
       "tip labels: t488, t489, t486, t485, ...\n",
       "(t488,t489,((t486,t485):0.055,(t481,(((t497,t498):0.437,((t499,t500):0.227,t487):0.101):2.79,(t483,t484):10.0):1.447):0.831):0.275);\n",
       "\n",
       " HybridNetwork, Rooted Network\n",
       "23 edges\n",
       "24 nodes: 13 tips, 0 hybrid nodes, 11 internal tree nodes.\n",
       "tip labels: t52, t53, t54, t70, ...\n",
       "(t52,t53,((t54,(t70,t71):1.095):0.155,((t55,t56):2.549,((t58,t59):0.798,((t61,(t68,t69):0.456):0.745,t63):0.487):3.068):1.824):0.087);\n",
       "\n",
       " HybridNetwork, Rooted Network\n",
       "21 edges\n",
       "22 nodes: 12 tips, 0 hybrid nodes, 10 internal tree nodes.\n",
       "tip labels: t51, t74, t75, t57, ...\n",
       "((t51,(t74,t75):2.937):2.439,((t57,t62):0.38,((t65,t64):1.095,(t60,(t72,t73):0.522):1.051):0.028):5.314,(t66,t67):4.212);\n"
      ]
     },
     "metadata": {},
     "output_type": "display_data"
    }
   ],
   "source": [
    "est_constraints"
   ]
  },
  {
   "cell_type": "code",
   "execution_count": 39,
   "id": "86225496",
   "metadata": {},
   "outputs": [
    {
     "data": {
      "text/plain": [
       "([0.0 2.82 … 18.74 8.96; 2.82 0.0 … 18.8 9.02; … ; 18.74 18.8 … 0.0 12.22; 8.96 9.02 … 12.22 0.0], [\"t115\", \"t120\", \"t121\", \"t111\", \"t112\", \"t109\", \"t102\", \"t105\", \"t108\", \"t113\"  …  \"t88\", \"t99\", \"t87\", \"t100\", \"t77\", \"t80\", \"t81\", \"t94\", \"t89\", \"OUTGROUP\"])"
      ]
     },
     "metadata": {},
     "output_type": "display_data"
    }
   ],
   "source": [
    "est_gts = Array{HybridNetwork}(undef, ngt)\n",
    "for i = 1:ngt\n",
    "    est_gts[i] = readTopology(\"$(estgt_file)_$(i)\")\n",
    "end\n",
    "est_D, est_namelist = calculateAGID(est_gts)"
   ]
  },
  {
   "cell_type": "code",
   "execution_count": 45,
   "id": "770e9f50",
   "metadata": {},
   "outputs": [],
   "source": [
    "for c in est_constraints\n",
    "    rootatnode!(c, getchildren(c.node[c.root])[1])\n",
    "end"
   ]
  },
  {
   "cell_type": "code",
   "execution_count": 46,
   "id": "5d02f336",
   "metadata": {},
   "outputs": [
    {
     "data": {
      "text/plain": [
       "HybridNetwork, Rooted Network\n",
       "26 edges\n",
       "27 nodes: 14 tips, 0 hybrid nodes, 13 internal tree nodes.\n",
       "tip labels: t99, t100, t88, t86, ...\n",
       "(t99,(t100,(t88,((t86,t87):0.184,((t97,t98):4.418,(t77,((t96,((t89,t94):0.774,(t80,t81):0.09):0.517):1.119,t76):0.089):0.485):2.452):0.344):0.502));\n"
      ]
     },
     "metadata": {},
     "output_type": "display_data"
    }
   ],
   "source": [
    "est_constraints[12]"
   ]
  },
  {
   "cell_type": "code",
   "execution_count": 47,
   "id": "879f4e69",
   "metadata": {},
   "outputs": [
    {
     "data": {
      "text/plain": [
       "4.774506303"
      ]
     },
     "metadata": {},
     "output_type": "display_data"
    }
   ],
   "source": [
    "inphynet_time = @elapsed mnet = netnj(est_D, est_constraints, est_namelist)"
   ]
  },
  {
   "cell_type": "code",
   "execution_count": 54,
   "id": "e60c990a",
   "metadata": {},
   "outputs": [
    {
     "data": {
      "text/plain": [
       "(9, 16)"
      ]
     },
     "metadata": {},
     "output_type": "display_data"
    }
   ],
   "source": [
    "rootatnode!(mnet, \"OUTGROUP\")\n",
    "rootatnode!(true_net, \"OUTGROUP\")\n",
    "hardwiredClusterDistance(mnet, true_net, true)\n",
    "mnet.numHybrids, true_net.numHybrids"
   ]
  },
  {
   "cell_type": "code",
   "execution_count": null,
   "id": "e3fed1c3",
   "metadata": {},
   "outputs": [],
   "source": [
    "save_estimated_gts_results(\n",
    "    \"$(ntaxa)\", true_net, replicatenum, ngt, ils_level,\n",
    "    m, dmethod, seq_len, mnet, est_constraints,\n",
    "    est_gts, est_constraint_runtimes, inphynet_time\n",
    ")"
   ]
  }
 ],
 "metadata": {
  "kernelspec": {
   "display_name": "Julia 1.9.3",
   "language": "julia",
   "name": "julia-1.9"
  },
  "language_info": {
   "file_extension": ".jl",
   "mimetype": "application/julia",
   "name": "julia",
   "version": "1.9.3"
  }
 },
 "nbformat": 4,
 "nbformat_minor": 5
}
