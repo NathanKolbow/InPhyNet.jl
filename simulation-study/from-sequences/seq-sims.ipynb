{
 "cells": [
  {
   "cell_type": "code",
   "execution_count": 1,
   "id": "e00e7e8e",
   "metadata": {
    "collapsed": false
   },
   "outputs": [
    {
     "name": "stderr",
     "output_type": "stream",
     "text": [
      "\u001b[32m\u001b[1m  Activating\u001b[22m\u001b[39m project at `/mnt/dv/wid/projects4/SolisLemus-network-merging`\n"
     ]
    }
   ],
   "source": [
    "using Pkg\n",
    "Pkg.activate(\"/mnt/dv/wid/projects4/SolisLemus-network-merging/\")\n",
    "Pkg.instantiate()\n",
    "\n",
    "using InPhyNet, PhyloNetworks\n",
    "include(\"/mnt/dv/wid/projects4/SolisLemus-network-merging/simulation-study/simulation-scripts/helpers/helpers.jl\")\n",
    "cd(\"/mnt/dv/wid/projects4/SolisLemus-network-merging/simulation-study/from-sequences\")"
   ]
  },
  {
   "cell_type": "code",
   "execution_count": 37,
   "id": "c0788e84",
   "metadata": {
    "collapsed": false
   },
   "outputs": [
    {
     "data": {
      "text/plain": [
       "HybridNetwork, Rooted Network\n",
       "1048 edges\n",
       "1033 nodes: 501 tips, 16 hybrid nodes, 516 internal tree nodes.\n",
       "tip labels: t3, t4, t22, t23, ...\n",
       "(((((((t3:5.453,t4:5.453):5.453,(((((t22:0.676,t23:0.676):0.545,t18:1.174):4.021,t5:5.195):5.453,(((t13:1.469,(t17:1.307,(t19:1.128,t20:1.128):0.545):0.545):3.407,(t12:1.503)#H1:3.373::0.819):3.565,(((t8:2.227,t9:2.227):4.402,(t10:1.558,t11:1.558):5.071):0.545,(t6:2.67,(t16:1.4,((t24:0.545,t25:0.545):0.702,t21:1.018):0.545):1.27):4.205):1.567):4.207):1.582,((t2:5.453,(((t14:1.433,t15:1.433):0.545,#H1:0.545::0.181):1.128,t7:2.631):5.453):2.256,t1:5.453):3.878):1.308):5.453,(((((((t233:1.863,(t235:1.279,((t241:0.733,t242:0.733):0.545)#H9:0.543::0.974):0.584):0.545,(t243:0.545,t244:0.545):1.909):1.085,t229:3.489):3.454,(t227:5.047,(t228:4.63,(t230:2.804,t231:2.804):1.826):0.545):1.896):0.545,(((t236:0.966,t237:0.966):4.245)#H10:0.61::0.997,((((((((t238:0.802)#H11:0.0::0.905,t239:0.802):1.379,((t249:0.545,t250:0.545):1.653,t234:1.835):0.545):0.545,(t245:0.545,t246:0.545):2.11):1.419,#H11:3.152::0.095):0.545,(t247:0.545,t248:0.545):3.958):0.904,#H10:0.545::0.003):0.588,t226:5.453):0.545):1.357):0.993,(t232:2.365,(t240:0.736,#H9:0.545::0.026):1.629):5.453):1.82,(((t257:3.108,t258:3.108):5.453,(((t267:1.377,(t274:0.545,t275:0.545):1.21):0.861,t261:2.239):4.645,t251:5.453):5.453):1.051,((t253:4.9,(((t264:1.674,t265:1.674):0.689,t260:2.363):1.949,t254:4.312):0.588):5.453,((((t266:1.441,(t272:0.832,t273:0.832):0.609):0.94,t259:2.381):1.26,(t255:3.275,((t262:2.105,t263:2.105):1.171,t256:3.275):0.545):0.545):5.453,(t252:5.453,((t268:1.313,t269:1.313):0.895,(t270:1.039,t271:1.039):1.169):4.211):3.818):2.325):1.596):1.82):3.665):1.437,((t76:5.453,(((((t92:1.361,t93:1.361):1.147,t85:2.508):5.453,((t95:1.11,#H4:0.545::0.105):5.453,(((t90:1.616,t91:1.616):1.971,t82:3.587):0.545,(t83:2.679,t84:2.679):1.151):4.347):0.545):2.57,(t78:5.453,t79:5.453):3.731):1.099,((((((t99:0.545,t100:0.545):1.425,t88:1.626):1.496,(t86:2.229,t87:2.229):0.893):5.453,(t97:1.011,t98:1.011):5.453):1.281,t77:5.453):0.545,(((t94:1.11,(t96:1.11)#H4:0.0::0.895):0.545,t89:1.621):3.291,(t80:4.671,t81:4.671):0.545):5.453):0.545):2.297):3.345,(((((t160:1.698,t161:1.698):0.545,(t167:1.063,t168:1.063):1.015):5.453,((t162:1.553,t163:1.553):4.401,(t151:4.208,(t155:1.832,#H7:0.545::0.093):2.375):1.746):5.453):0.586,((t158:1.744,t159:1.744):5.453,((((t153:2.161,t154:2.161):0.718,(t156:1.832,(t157:1.832)#H7:0.0::0.907):1.047):0.545,(t165:1.132,t166:1.132):1.941):0.872,(((((t174:0.545,t175:0.545):0.731,((t170:0.835,t171:0.835):0.545,t169:0.888):0.545):0.545,t164:1.263):1.218,(t172:0.545,t173:0.545):1.953):1.032,t152:3.512):0.545):5.453):1.881):2.43,(((((((t195:0.545,t196:0.545):4.986,(t191:0.697,t192:0.697):4.728):1.622,(t180:3.669,t181:3.669):3.378):0.783,((((t187:1.061,t188:1.061):0.698,t184:1.759):0.545,t183:2.188):4.723,t176:5.453):0.919):0.545,(t177:5.453,(((t199:0.545,t200:0.545):2.87,(t185:1.698,(t189:0.801,t190:0.801):0.897):1.314):1.204,((t179:3.838,(t186:1.286)#H8:2.551::0.94):0.545,((t197:0.545,t198:0.545):2.569,t182:2.971):1.224):0.545):1.741):2.348):1.643,(((t193:0.685,t194:0.685):0.601,#H8:0.545::0.06):4.408,t178:5.453):4.252):2.15,((((t401:5.453,(((t407:3.429,(t408:2.638,(t416:0.786,t417:0.786):1.852):0.791):3.637,(t405:3.485,t406:3.485):3.582):1.986,((((t420:0.545,t421:0.545):1.377,t411:1.759):5.453,(t402:5.453,(t403:5.453,((((t412:1.683,t413:1.683):0.545,(t418:0.545,(t419:0.545)#H16:0.0::0.961):1.376):0.554,((t422:0.545,t423:0.545):0.545,#H16:0.545::0.039):1.931):1.834,t404:4.166):1.354):0.603):2.146):0.545,(((t424:0.545,t425:0.545):2.814,(t414:0.897,t415:0.897):1.944):0.545,(t409:2.352,t410:2.352):0.615):5.453):0.545):0.545):0.779,((((t447:0.545,t448:0.545):5.453,((((t449:0.545,t450:0.545):5.453,((t434:1.9,t435:1.9):3.97,((t441:0.726,t442:0.726):2.963,t428:3.689):2.181):0.545):0.563,(((t430:2.134,t431:2.134):0.6,t429:2.735):1.301,(((t445:0.603,t446:0.603):1.696,(t437:0.867,t438:0.867):1.432):1.535,((t439:0.735,t440:0.735):0.545,t436:1.001):2.833):0.545):2.89):0.545,((t432:2.035,t433:2.035):4.753,(t443:0.642,t444:0.642):5.453):0.545):2.61):2.551,t427:5.453):1.862,t426:5.453):0.779):0.545,((t326:5.453,(t327:3.404,t328:3.404):5.453):1.439,(((t339:1.074,((t347:0.545,t348:0.545):0.545,t340:0.545):0.796):5.453,(t335:1.712,(t345:0.545,t346:0.545):1.638):5.453):0.84,((((t331:2.17,t332:2.17):0.545,t330:2.586):1.078,(t343:0.545,t344:0.545):3.525):1.03,((t329:2.589,((t341:0.545,t342:0.545):1.49,t334:1.741):0.848):0.881,(((t337:1.137,t338:1.137):0.545,t336:1.254):0.597,((t349:0.545,t350:0.545):1.737,t333:1.759):0.545):1.619):1.224):4.916):1.291):0.992):1.057,((((t217:0.745,t218:0.745):5.453,(((t204:3.282,t205:3.282):0.545,(t221:0.545,(t222:0.545,t223:0.545):0.545):2.991):0.93,((t214:1.233,(t219:0.607,t220:0.607):0.626):1.561,t207:2.794):1.443):2.683):3.45,t201:5.453):5.247,(((t224:0.545,t225:0.545):5.453,((t206:3.135,(t210:1.784,t211:1.784):1.351):3.158,((t215:1.114,t216:1.114):4.026,(t202:3.658,t203:3.658):1.482):1.153):2.796):3.375,((t212:1.615,t213:1.615):3.817,(t208:1.799,t209:1.799):3.633):5.453):3.153):2.049):0.545):0.545):0.915):3.577):1.289,(((((((t359:2.886,t360:2.886):3.944,(t356:4.453,(t364:1.096,t365:1.096):3.357):2.376):1.177,t355:5.453):0.545,((((t366:0.944,t367:0.944):0.545,t363:1.098):0.545,t362:1.493):3.547,(t361:2.625,(t374:0.545,(t375:0.545)#H13:0.0::0.934):2.595):2.415):3.214):3.832,((t353:5.453,(t357:3.686,t358:3.686):5.109):0.545,t352:5.453):3.201):1.4,(((((t371:0.545,t372:0.545):3.359,(t373:0.545,#H13:0.545::0.066):3.626):2.181,((((t369:0.545)#H14:0.0::0.907,t370:0.545):0.545,t368:0.545):0.585,#H14:0.613::0.093):4.832):2.816,t354:5.453):0.631,t351:5.453):4.201):0.984,(((t389:0.771,(t391:0.771)#H15:0.0::0.83):5.453,(t378:2.723,(t397:0.545,t398:0.545):2.522):5.396):2.501,(((t383:1.692,t384:1.692):2.687,((t390:0.771,#H15:0.545::0.17):1.347,(t394:0.545,(t399:0.545,t400:0.545):0.545):1.82):2.261):4.246,((((t379:2.383,(t380:2.259,t381:2.259):0.545):1.042,(t376:2.783,t377:2.783):0.642):0.545,((t387:0.855,t388:0.855):1.458,(t382:2.049,(t385:1.318,t386:1.318):0.731):0.545):1.503):3.204,((t395:0.545,t396:0.545):1.156,(t392:0.545,t393:0.545):1.105):5.453):1.605):1.996):0.984):5.453):2.491,((((t66:0.998,t67:0.998):5.453,(((t74:0.545,t75:0.545):5.453,t51:5.453):5.453,((((t55:4.167,t56:4.167):5.453,(((t70:0.754,t71:0.754):3.693,t54:4.447):0.699,(t52:4.534,t53:4.534):0.612):5.186):2.874,((t58:3.841,t59:3.841):1.851,((t61:1.502,(t63:1.502)#H3:0.0::0.959):0.545,(t68:0.759,t69:0.759):1.067):3.867):5.453):0.995,((t57:3.91,(t62:1.502,#H3:0.545::0.041):2.407):1.182,((t64:1.029,t65:1.029):3.903,((t72:0.61,t73:0.61):1.256,t60:1.865):3.066):0.545):5.453):0.545):0.545):3.418,((((t469:0.545,(t470:0.545,t471:0.545):0.545):5.453,((((t465:0.545,t466:0.545):1.274,(t460:0.851,t461:0.851):0.711):1.825,(t455:1.593,t456:1.593):1.794):3.776,(((((t467:0.545,t468:0.545):2.3,(t459:0.88,(t462:0.776,t463:0.776):0.545):1.618):1.019,t452:3.517):3.021,t451:5.453):0.545,(((t472:0.545,t473:0.545):0.697,t464:0.745):1.762,t453:2.506):4.563):0.545):2.533):2.911,((t474:0.545,t475:0.545):5.453,((t457:1.01,t458:1.01):0.925,t454:1.935):5.453):3.664):0.545,(((t483:2.969,t484:2.969):5.453,((((t477:5.453,((t482:4.597,(t490:1.645,(t493:0.984,t494:0.984):0.661):2.952):0.87,(t491:1.071,t492:1.071):4.397):1.453):0.545,((t495:0.55,t496:0.55):5.243,t480:5.453):1.461):0.545,t476:5.453):0.973,(t478:5.453,t479:5.453):1.744):5.453):0.802,((t481:5.196,((t488:2.337,t489:2.337):0.545,(t485:2.483,t486:2.483):0.545):2.384):4.483,(((t499:0.545,t500:0.545):1.912,t487:2.377):0.545,(t497:0.545,t498:0.545):2.137):5.453):5.453):0.545):3.049):1.413,(((((t29:2.533,(((t45:0.595,t46:0.595):0.764,t38:1.359):1.102,((t44:0.712,(t49:0.545,t50:0.545):0.601):1.274,(t36:1.388,t37:1.388):0.598):0.545):0.545):5.453,(((t28:4.49,(t30:2.404,t31:2.404):2.086):2.131,(t41:1.173,t42:1.173):5.448):1.175,((t33:2.278,t34:2.278):3.798,(((t27:4.567,(t39:1.215,t40:1.215):3.352):0.545,t26:5.076):0.545,(t32:2.301)#H2:3.109::0.844):0.666):1.72):2.243):1.377,(((t43:1.057,(t47:0.545,t48:0.545):0.552):0.687,t35:1.745):0.556,#H2:0.545::0.156):5.453):4.274,((((t120:0.545,t121:0.545):0.545,t115:0.824):5.453,(((t101:5.453,t102:5.453):0.545,(((t111:1.051,t112:1.051):0.853,t109:1.904):3.032,(((t113:0.84,t114:0.84):2.052,(t107:1.972,t108:1.972):0.92):0.906,t105:3.798):1.138):1.765):3.251,((((t118:0.545,t119:0.545):0.545,(t122:0.545,t123:0.545):0.545):4.228,(t104:4.102,(((t110:1.283,(t116:0.604,t117:0.604):0.679):1.174,(t124:0.545,t125:0.545):2.432):1.235,t106:3.691):0.545):0.714):0.635,t103:5.451):4.501):1.647):2.472,((t126:5.453,((((t131:4.745,((t134:2.597,t135:2.597):0.877,(t147:0.545,t148:0.545):3.12):1.271):1.574,(((t139:1.851,(t145:0.545,t146:0.545):1.31):0.545,t138:1.992):4.059,((((t149:0.545,t150:0.545):1.491,t140:1.687):0.99,t133:2.677):3.354,((((t132:3.426,(t143:0.722,t144:0.722):2.704):1.391)#H5:0.0::0.857,(((t141:1.076)#H6:0.0::0.936,t142:1.076):2.613,#H6:2.613::0.064):1.128):0.545,t130:4.862):1.169):0.545):0.545):2.146,t127:5.453):2.676,((t136:2.412,t137:2.412):5.453,(t128:5.453,t129:5.453):3.77):1.491):2.308):0.626,#H5:5.453::0.143):2.472):1.802):0.545,(((((((t282:2.8,(t289:2.239,(t291:1.875,t292:1.875):0.545):0.561):0.545,(t293:1.374,t294:1.374):1.765):4.967,((t279:3.341,t280:3.341):3.628,t278:5.453):1.137):0.68,t276:5.453):1.026,(((t284:2.525,t285:2.525):0.545,t283:2.763):4.391,t277:5.453):2.657):0.818,((t299:0.545,t300:0.545):5.453,(((t281:3.034,((t287:2.275,t288:2.275):0.545,t286:2.436):0.597):0.545,(t295:1.337,t296:1.337):2.214):2.645,(t290:2.228,(t297:0.6,t298:0.6):1.628):3.969):0.732):3.701):1.466,((((t301:3.581,((t319:0.545,(t322:0.545)#H12:0.096::0.862):2.607,(t324:0.545,t325:0.545):2.771):0.808):1.365,((t309:1.216,t310:1.216):0.545,((t323:0.545,#H12:0.545::0.138):0.699,t314:0.769):0.608):3.568):1.565,(((t307:1.271,t308:1.271):1.351,((t305:1.355,t306:1.355):0.545,(t315:0.545,t316:0.545):1.131):1.194):2.084,((t303:3.423,(((t311:1.007,(t317:0.545,t318:0.545):0.755):0.545,(t312:0.946,t313:0.946):0.545):0.928,t304:1.947):1.477):0.545,t302:3.426):1.28):1.806):0.545,(t320:0.545,t321:0.545):5.453):1.466):3.078):0.545):5.453):2.178,OUTGROUP:5.105);\n"
      ]
     },
     "metadata": {},
     "output_type": "display_data"
    }
   ],
   "source": [
    "# \"Instance\" variables\n",
    "ntaxa = 500\n",
    "replicatenum = 1\n",
    "ngt = 1000\n",
    "seq_len = 500\n",
    "ils_level = \"low\"\n",
    "m = 25\n",
    "dmethod = \"AGIC\"\n",
    "\n",
    "true_net = load_true_net_ils_adjusted_level1(ntaxa, replicatenum, ils_level)\n",
    "# for e in true_net.edge\n",
    "#     if e.length == -1. e.length = 0.473 end\n",
    "# end"
   ]
  },
  {
   "cell_type": "code",
   "execution_count": 38,
   "id": "0af593b1",
   "metadata": {
    "collapsed": false
   },
   "outputs": [
    {
     "data": {
      "text/plain": [
       "\"/mnt/dv/wid/projects4/SolisLemus-network-merging/simulation-study/from-sequences/temp_data/estgt_n500_1_1000_500_low.treefile\""
      ]
     },
     "metadata": {},
     "output_type": "display_data"
    }
   ],
   "source": [
    "# File paths\n",
    "data_dir = \"/mnt/dv/wid/projects4/SolisLemus-network-merging/simulation-study/from-sequences/temp_data/\"\n",
    "checkpoint_dir = joinpath(pwd(), \"temp_data\")\n",
    "if !isdir(checkpoint_dir) mkdir(checkpoint_dir) end\n",
    "\n",
    "truegt_file = joinpath(checkpoint_dir, \"truegt_n$(ntaxa)_$(replicatenum)_$(ngt)_$(ils_level).treefile\")\n",
    "seq_file_prefix = joinpath(checkpoint_dir, \"seqfile_n$(ntaxa)_$(replicatenum)_$(ngt)_$(seq_len)_$(ils_level).phy\")\n",
    "estgt_file = joinpath(checkpoint_dir, \"estgt_n$(ntaxa)_$(replicatenum)_$(ngt)_$(seq_len)_$(ils_level).treefile\")\n",
    "net_file = joinpath(checkpoint_dir, \"estnets_n$(ntaxa)_$(replicatenum)_$(ngt)_$(seq_len)_$(ils_level)_$(m)_$(dmethod).netfile\")\n",
    "\n",
    "if !isfile(estgt_file) touch(estgt_file) end"
   ]
  },
  {
   "cell_type": "markdown",
   "id": "2e4f6c93",
   "metadata": {},
   "source": [
    "# Estimated gene trees"
   ]
  },
  {
   "cell_type": "markdown",
   "id": "73216a83",
   "metadata": {},
   "source": [
    "Estimated gene trees are generated as follows:\n",
    "\n",
    "```bash\n",
    "#!/bin/bash\n",
    "\n",
    "cd $inphynet/simulation-study/from-sequences/scripts\n",
    "\n",
    "for ntaxa in 500\n",
    "do\n",
    "    for ils in low med high\n",
    "    do\n",
    "        for ngt in 100 1000 5000\n",
    "        do\n",
    "            for seq_len in 500 1000 5000\n",
    "            do\n",
    "                for replicate in $(seq 1 5)\n",
    "                do\n",
    "                    for m in 25\n",
    "                    do\n",
    "                        julia -p3 --project=../../.. ./simulate_estimated_gts.jl ${ntaxa} ${replicate} ${ngt} ${seq_len} ${ils} ${m}\n",
    "                    done\n",
    "                done\n",
    "            done\n",
    "        done\n",
    "    done\n",
    "done\n",
    "```"
   ]
  },
  {
   "cell_type": "code",
   "execution_count": 39,
   "id": "45f6f1b5",
   "metadata": {
    "collapsed": false
   },
   "outputs": [
    {
     "data": {
      "text/plain": [
       "1000"
      ]
     },
     "metadata": {},
     "output_type": "display_data"
    }
   ],
   "source": [
    "# Consolidate all estimated gene trees into a single file\n",
    "est_gts = Array{HybridNetwork}(undef, ngt)\n",
    "for i = 1:ngt\n",
    "    est_gts[i] = readTopology(\"$(estgt_file)_$(i)\")\n",
    "end\n",
    "\n",
    "@everywhere GC.gc()\n",
    "length(findall(i -> isassigned(est_gts, i), 1:ngt))"
   ]
  },
  {
   "cell_type": "markdown",
   "id": "552f03b9",
   "metadata": {},
   "source": [
    "# Subset decomposition"
   ]
  },
  {
   "cell_type": "code",
   "execution_count": 23,
   "id": "2a84c116",
   "metadata": {
    "collapsed": false
   },
   "outputs": [
    {
     "name": "stdout",
     "output_type": "stream",
     "text": [
      "\u001b[30m[NJ] \u001b[39m\u001b[36mCalculating AGIC.\u001b[39m\n",
      "\u001b[30m[NJ] \u001b[39m\u001b[36mEstimating NJ tree.\u001b[39m\n"
     ]
    },
    {
     "data": {
      "text/plain": [
       "1"
      ]
     },
     "metadata": {},
     "output_type": "display_data"
    }
   ],
   "source": [
    "_, _, nj_tre = estimate_nj_tree(est_gts)\n",
    "subsets = sateIdecomp(nj_tre, m)\n",
    "1"
   ]
  },
  {
   "cell_type": "markdown",
   "id": "c7a206b3",
   "metadata": {},
   "source": [
    "# Generate Condor data"
   ]
  },
  {
   "cell_type": "code",
   "execution_count": 32,
   "id": "b90bd13d",
   "metadata": {
    "collapsed": false
   },
   "outputs": [
    {
     "name": "stdout",
     "output_type": "stream",
     "text": [
      "Reading in trees, looking at 12650 quartets in each...\n",
      "0+--------------------------------------------------+100%\n",
      "  **************************************************\n",
      "Reading in trees, looking at 12650 quartets in each...\n",
      "0+--------------------------------------------------+100%\n",
      "  **************************************************\n",
      "Reading in trees, looking at 12650 quartets in each...\n",
      "0+--------------------------------------------------+100%\n",
      "  **************************************************\n",
      "Reading in trees, looking at 12650 quartets in each...\n",
      "0+--------------------------------------------------+100%\n",
      "  **************************************************\n",
      "Reading in trees, looking at 12650 quartets in each...\n",
      "0+--------------------------------------------------+100%\n",
      "  **************************************************\n",
      "Reading in trees, looking at 12650 quartets in each...\n",
      "0+--------------------------------------------------+100%\n",
      "  **************************************************\n",
      "Reading in trees, looking at 12650 quartets in each...\n",
      "0+--------------------------------------------------+100%\n",
      "  **************************************************\n",
      "Reading in trees, looking at 12650 quartets in each...\n",
      "0+--------------------------------------------------+100%\n",
      "  **************************************************\n",
      "Reading in trees, looking at 12650 quartets in each...\n",
      "0+--------------------------------------------------+100%\n",
      "  **************************************************\n",
      "Reading in trees, looking at 12650 quartets in each...\n",
      "0+--------------------------------------------------+100%\n",
      "  **************************************************\n",
      "Reading in trees, looking at 12650 quartets in each...\n",
      "0+--------------------------------------------------+100%\n",
      "  **************************************************\n",
      "Reading in trees, looking at 12650 quartets in each...\n",
      "0+--------------------------------------------------+100%\n",
      "  **************************************************\n",
      "Reading in trees, looking at 12650 quartets in each...\n",
      "0+--------------------------------------------------+100%\n",
      "  **************************************************\n",
      "Reading in trees, looking at 12650 quartets in each...\n",
      "0+--------------------------------------------------+100%\n",
      "  **************************************************\n",
      "Reading in trees, looking at 12650 quartets in each...\n",
      "0+--------------------------------------------------+100%\n",
      "  **************************************************\n",
      "Reading in trees, looking at 12650 quartets in each...\n",
      "0+--------------------------------------------------+100%\n",
      "  **************************************************\n",
      "Reading in trees, looking at 12650 quartets in each...\n",
      "0+--------------------------------------------------+100%\n",
      "  **************************************************\n",
      "Reading in trees, looking at 715 quartets in each...\n",
      "0+--------------------------------------------------+100%\n",
      "  **************************************************\n",
      "Reading in trees, looking at 715 quartets in each...\n",
      "0+--------------------------------------------------+100%\n",
      "  **************************************************\n",
      "Reading in trees, looking at 12650 quartets in each...\n",
      "0+--------------------------------------------------+100%\n",
      "  **************************************************\n",
      "Reading in trees, looking at 12650 quartets in each...\n",
      "0+--------------------------------------------------+100%\n",
      "  **************************************************\n"
     ]
    }
   ],
   "source": [
    "df_dir = \"/mnt/dv/wid/projects4/SolisLemus-network-merging/simulation-study/from-sequences/CFs/\"\n",
    "nj_dir = \"/mnt/dv/wid/projects4/SolisLemus-network-merging/simulation-study/from-sequences/NJs/\"\n",
    "nruns = 10\n",
    "GC.gc()\n",
    "\n",
    "for (i, subset_taxa) in enumerate(subsets)\n",
    "    output_file = \"$(net_file)_$(i)\"\n",
    "    runtime_file = \"$(output_file).runtime\"\n",
    "    output_net_file = \"$(output_file).netfile\"\n",
    "    \n",
    "    if isfile(output_net_file) && isfile(runtime_file)\n",
    "        log(\"SNaQ $(i)\", \"Already inferred.\")\n",
    "        continue\n",
    "    end\n",
    "\n",
    "    temp_gts = Array{HybridNetwork}(undef, length(est_gts))\n",
    "    for i = 1:length(est_gts)\n",
    "        temp_gts[i] = pruneTruthFromDecomp(est_gts[i], subset_taxa)\n",
    "    end\n",
    "\n",
    "    # 1. Quartets\n",
    "    q, t = countquartetsintrees(temp_gts)\n",
    "    df = silently() do\n",
    "        readTableCF(writeTableCF(q, t))\n",
    "    end\n",
    "    CSV.write(joinpath(df_dir, \"df_n$(ntaxa)_$(replicatenum)_$(ngt)_$(seq_len)_$(ils_level)_$(m)_$(dmethod)_sub$(i).csv\"), writeTableCF(df))\n",
    "\n",
    "    # 2. Starting trees\n",
    "    init_tree = pruneTruthFromDecomp(nj_tre, subset_taxa)\n",
    "    tre_out = joinpath(nj_dir, \"nj_n$(ntaxa)_$(replicatenum)_$(ngt)_$(seq_len)_$(ils_level)_$(m)_$(dmethod)_sub$(i).tre\")\n",
    "    open(tre_out, \"w+\") do f\n",
    "        write(f, writeTopology(init_tree))\n",
    "    end\n",
    "\n",
    "    # 3. Write info to condor input table\n",
    "    tab_file = \"/mnt/dv/wid/projects4/SolisLemus-network-merging/simulation-study/condor/inputs.tab\"\n",
    "    open(tab_file, \"a\") do f\n",
    "        write(f, \"$(ntaxa),$(replicatenum),$(ngt),$(seq_len),$(ils_level),$(m),$(i)\\n\")\n",
    "    end\n",
    "\n",
    "    # 4. Constraints inferred in Condor\n",
    "end\n",
    "@everywhere GC.gc()"
   ]
  },
  {
   "cell_type": "markdown",
   "id": "a0499ba1",
   "metadata": {},
   "source": [
    "# Infer constraints\n",
    "\n",
    "This is done in Condor with the submit file `simulation-study/condor/submit.submit`"
   ]
  },
  {
   "cell_type": "markdown",
   "id": "d7595c9f",
   "metadata": {},
   "source": [
    "# InPhyNet"
   ]
  },
  {
   "cell_type": "code",
   "execution_count": 24,
   "id": "230cb072",
   "metadata": {
    "collapsed": false
   },
   "outputs": [
    {
     "name": "stdout",
     "output_type": "stream",
     "text": [
      "15/21 constraints\n"
     ]
    }
   ],
   "source": [
    "# Load estimated data\n",
    "# est_constraints = Array{HybridNetwork}(undef, length(subsets))\n",
    "est_constraints = Vector{HybridNetwork}([])\n",
    "for i = 1:length(subsets)\n",
    "    net_file = joinpath(\n",
    "        \"/mnt/dv/wid/projects4/SolisLemus-network-merging/simulation-study/from-sequences/snaq_nets/\",\n",
    "        \"snaq_n$(ntaxa)_$(replicatenum)_$(ngt)_$(seq_len)_$(ils_level)_$(m)_$(dmethod)_sub$(i).out\"\n",
    "    )\n",
    "    if !isfile(net_file)\n",
    "        continue\n",
    "    end\n",
    "\n",
    "    net = split(readlines(net_file)[1], \" -Ploglik\")[1]\n",
    "    push!(est_constraints, readTopology(net))\n",
    "    # est_constraints[i] = readTopology(net)\n",
    "end\n",
    "println(\"$(length(est_constraints))/$(length(subsets)) constraints\")\n",
    "\n",
    "# est_constraint_runtimes = Vector{Float64}(\n",
    "#     [parse(Float64, readlines(\"$(net_file)_$(i).runtime\")[1]) for i=1:length(subsets)]\n",
    "# )"
   ]
  },
  {
   "cell_type": "code",
   "execution_count": 25,
   "id": "86225496",
   "metadata": {},
   "outputs": [
    {
     "ename": "InterruptException",
     "evalue": "InterruptException:",
     "output_type": "error",
     "traceback": [
      "InterruptException:\n",
      "\n",
      "Stacktrace:\n",
      "  [1] Array\n",
      "    @ ./boot.jl:477 [inlined]\n",
      "  [2] Array\n",
      "    @ ./boot.jl:486 [inlined]\n",
      "  [3] similar\n",
      "    @ ./array.jl:374 [inlined]\n",
      "  [4] similar\n",
      "    @ ./abstractarray.jl:838 [inlined]\n",
      "  [5] _unsafe_getindex(#unused#::IndexLinear, A::Vector{Int64}, I::Vector{Int64})\n",
      "    @ Base ./multidimensional.jl:873\n",
      "  [6] _getindex\n",
      "    @ ./multidimensional.jl:861 [inlined]\n",
      "  [7] getindex\n",
      "    @ ./abstractarray.jl:1296 [inlined]\n",
      "  [8] internodecount(N::HybridNetwork; namelist::Vector{String})\n",
      "    @ InPhyNet /mnt/dv/wid/projects4/SolisLemus-network-merging/src/inphynet/internodedistance.jl:71\n",
      "  [9] calculateAGIC(Ns::Vector{HybridNetwork})\n",
      "    @ InPhyNet /mnt/dv/wid/projects4/SolisLemus-network-merging/src/inphynet/internodedistance.jl:172\n",
      " [10] top-level scope\n",
      "    @ /mnt/dv/wid/projects4/SolisLemus-network-merging/simulation-study/from-sequences/seq-sims.ipynb:5"
     ]
    }
   ],
   "source": [
    "est_gts = Array{HybridNetwork}(undef, ngt)\n",
    "for i = 1:ngt\n",
    "    est_gts[i] = readTopology(\"$(estgt_file)_$(i)\")\n",
    "end\n",
    "est_D, est_namelist = calculateAGIC(est_gts)\n",
    "est_namelist = Vector{String}(est_namelist)\n",
    "D, namelist = majorinternodecount(true_net)\n",
    "1"
   ]
  },
  {
   "cell_type": "code",
   "execution_count": 26,
   "id": "770e9f50",
   "metadata": {},
   "outputs": [],
   "source": [
    "for c in est_constraints\n",
    "    rootatnode!(c, getchildren(c.node[c.root])[1])\n",
    "end"
   ]
  },
  {
   "cell_type": "code",
   "execution_count": 27,
   "id": "f7e0b73f",
   "metadata": {},
   "outputs": [
    {
     "data": {
      "text/plain": [
       "15-element Vector{Int64}:\n",
       " 2\n",
       " 0\n",
       " 2\n",
       " 2\n",
       " 0\n",
       " 0\n",
       " 0\n",
       " 2\n",
       " 0\n",
       " 0\n",
       " 0\n",
       " 8\n",
       " 0\n",
       " 0\n",
       " 2"
      ]
     },
     "metadata": {},
     "output_type": "display_data"
    }
   ],
   "source": [
    "[c.numTaxa for c in est_constraints]\n",
    "[getNetDistances(c, pruneTruthFromDecomp(true_net, [leaf.name for leaf in c.leaf])) for c in est_constraints]"
   ]
  },
  {
   "cell_type": "code",
   "execution_count": 29,
   "id": "e60c990a",
   "metadata": {},
   "outputs": [
    {
     "ename": "SolutionDNEError",
     "evalue": "No valid (i, j) pairs exist for the given distance matrix.",
     "output_type": "error",
     "traceback": [
      "No valid (i, j) pairs exist for the given distance matrix.\n",
      "\n",
      "Stacktrace:\n",
      " [1] findoptQidx(D::SubArray{Float64, 2, Matrix{Float64}, Tuple{Vector{Int64}, Vector{Int64}}, false}, validpairs::BitMatrix; namelist::SubArray{String, 1, Vector{String}, Tuple{Vector{Int64}}, false})\n",
      "   @ InPhyNet /mnt/dv/wid/projects4/SolisLemus-network-merging/src/inphynet/netnjmerge.jl:1042\n",
      " [2] netnj!(D::Matrix{Float64}, constraints::Vector{HybridNetwork}, namelist::Vector{String}; supressunsampledwarning::Bool, copy_retic_names::Bool, major_tree_only::Bool, force_unrooted::Bool, skip_constraint_check::Bool, kwargs::Base.Pairs{Symbol, Union{}, Tuple{}, NamedTuple{(), Tuple{}}})\n",
      "   @ InPhyNet /mnt/dv/wid/projects4/SolisLemus-network-merging/src/inphynet/netnjmerge.jl:121\n",
      " [3] netnj!\n",
      "   @ /mnt/dv/wid/projects4/SolisLemus-network-merging/src/inphynet/netnjmerge.jl:37 [inlined]\n",
      " [4] netnj(D::Matrix{Float64}, constraints::Vector{HybridNetwork}, namelist::Vector{String}; search::Bool, kwargs::Base.Pairs{Symbol, Bool, Tuple{Symbol}, NamedTuple{(:force_unrooted,), Tuple{Bool}}})\n",
      "   @ InPhyNet /mnt/dv/wid/projects4/SolisLemus-network-merging/src/inphynet/netnjmerge.jl:33\n",
      " [5] top-level scope\n",
      "   @ ./timing.jl:393"
     ]
    }
   ],
   "source": [
    "inphynet_time = @elapsed mnet = netnj(est_D, est_constraints, est_namelist, force_unrooted = true)\n",
    "\n",
    "rootatnode!(mnet, \"OUTGROUP\")\n",
    "rootatnode!(true_net, \"OUTGROUP\")\n",
    "hardwiredClusterDistance(mnet, true_net, true), hardwiredClusterDistance(majorTree(mnet), majorTree(true_net), true)\n",
    "\n",
    "#  1/21 constraints: (146, 78)\n",
    "#  7/21 constraints: (192, 132)\n",
    "# 10/21 constraints: (230, 170)\n",
    "# 12/21 constraints: \n",
    "# not bad, but WORSE with more constraints??\n",
    "# hopefully this will alleviate itself once we get all constraints"
   ]
  },
  {
   "cell_type": "code",
   "execution_count": 28,
   "id": "76fbda5f",
   "metadata": {},
   "outputs": [
    {
     "name": "stdout",
     "output_type": "stream",
     "text": [
      "1: 754, 724\n",
      "2: 730, 700\n",
      "3: 718, 688\n",
      "4: 694, 664\n",
      "5: 662, 634\n",
      "6: 626, 598\n",
      "7: 612, 584\n"
     ]
    },
    {
     "ename": "SolutionDNEError",
     "evalue": "No valid (i, j) pairs exist for the given distance matrix.",
     "output_type": "error",
     "traceback": [
      "No valid (i, j) pairs exist for the given distance matrix.\n",
      "\n",
      "Stacktrace:\n",
      " [1] findoptQidx(D::SubArray{Float64, 2, Matrix{Float64}, Tuple{Vector{Int64}, Vector{Int64}}, false}, validpairs::BitMatrix; namelist::SubArray{String, 1, Vector{String}, Tuple{Vector{Int64}}, false})\n",
      "   @ InPhyNet /mnt/dv/wid/projects4/SolisLemus-network-merging/src/inphynet/netnjmerge.jl:1042\n",
      " [2] netnj!(D::Matrix{Float64}, constraints::Vector{HybridNetwork}, namelist::Vector{String}; supressunsampledwarning::Bool, copy_retic_names::Bool, major_tree_only::Bool, force_unrooted::Bool, skip_constraint_check::Bool, kwargs::Base.Pairs{Symbol, Union{}, Tuple{}, NamedTuple{(), Tuple{}}})\n",
      "   @ InPhyNet /mnt/dv/wid/projects4/SolisLemus-network-merging/src/inphynet/netnjmerge.jl:121\n",
      " [3] netnj!\n",
      "   @ /mnt/dv/wid/projects4/SolisLemus-network-merging/src/inphynet/netnjmerge.jl:37 [inlined]\n",
      " [4] netnj(D::Matrix{Float64}, constraints::Vector{HybridNetwork}, namelist::Vector{String}; search::Bool, kwargs::Base.Pairs{Symbol, Bool, Tuple{Symbol}, NamedTuple{(:force_unrooted,), Tuple{Bool}}})\n",
      "   @ InPhyNet /mnt/dv/wid/projects4/SolisLemus-network-merging/src/inphynet/netnjmerge.jl:33\n",
      " [5] macro expansion\n",
      "   @ ./timing.jl:393 [inlined]\n",
      " [6] top-level scope\n",
      "   @ /mnt/dv/wid/projects4/SolisLemus-network-merging/simulation-study/from-sequences/seq-sims.ipynb:2"
     ]
    }
   ],
   "source": [
    "for j in 1:length(est_constraints)\n",
    "    inphynet_time = @elapsed mnet = netnj(D, est_constraints[1:j], namelist, force_unrooted = true)\n",
    "\n",
    "    rootatnode!(mnet, \"OUTGROUP\")\n",
    "    rootatnode!(true_net, \"OUTGROUP\")\n",
    "    println(\"$(j): $(hardwiredClusterDistance(mnet, true_net, true)), $(hardwiredClusterDistance(majorTree(mnet), majorTree(true_net), true))\")\n",
    "end"
   ]
  },
  {
   "cell_type": "code",
   "execution_count": 30,
   "id": "9d62bae2",
   "metadata": {},
   "outputs": [
    {
     "ename": "SolutionDNEError",
     "evalue": "No valid (i, j) pairs exist for the given distance matrix.",
     "output_type": "error",
     "traceback": [
      "No valid (i, j) pairs exist for the given distance matrix.\n",
      "\n",
      "Stacktrace:\n",
      " [1] findoptQidx(D::SubArray{Float64, 2, Matrix{Float64}, Tuple{Vector{Int64}, Vector{Int64}}, false}, validpairs::BitMatrix; namelist::SubArray{String, 1, Vector{String}, Tuple{Vector{Int64}}, false})\n",
      "   @ InPhyNet /mnt/dv/wid/projects4/SolisLemus-network-merging/src/inphynet/netnjmerge.jl:1042\n",
      " [2] netnj!(D::Matrix{Float64}, constraints::Vector{HybridNetwork}, namelist::Vector{String}; supressunsampledwarning::Bool, copy_retic_names::Bool, major_tree_only::Bool, force_unrooted::Bool, skip_constraint_check::Bool, kwargs::Base.Pairs{Symbol, Union{}, Tuple{}, NamedTuple{(), Tuple{}}})\n",
      "   @ InPhyNet /mnt/dv/wid/projects4/SolisLemus-network-merging/src/inphynet/netnjmerge.jl:121\n",
      " [3] netnj!\n",
      "   @ /mnt/dv/wid/projects4/SolisLemus-network-merging/src/inphynet/netnjmerge.jl:37 [inlined]\n",
      " [4] netnj(D::Matrix{Float64}, constraints::Vector{HybridNetwork}, namelist::Vector{String}; search::Bool, kwargs::Base.Pairs{Symbol, Bool, Tuple{Symbol}, NamedTuple{(:force_unrooted,), Tuple{Bool}}})\n",
      "   @ InPhyNet /mnt/dv/wid/projects4/SolisLemus-network-merging/src/inphynet/netnjmerge.jl:33\n",
      " [5] top-level scope\n",
      "   @ ./timing.jl:393"
     ]
    }
   ],
   "source": [
    "inphynet_time = @elapsed mnet = netnj(D, est_constraints, namelist, force_unrooted = true)"
   ]
  },
  {
   "cell_type": "code",
   "execution_count": 28,
   "id": "cbea574b",
   "metadata": {},
   "outputs": [
    {
     "name": "stdout",
     "output_type": "stream",
     "text": [
      "(((((((t3,t4),(((((t22,t23),t18),t5),(((t13,(t17,(t19,t20))),t12),(((t8,t9),(t10,t11)),(t6,(t16,((t24,t25),t21)))))),((t2,(t7,(t14,t15))),t1))),(((((((t233,(t235,(t241,t242))),(t243,t244)),t229),(t227,(t228,(t230,t231)))),((t226,((t247,t248),(((t239,t238),((t249,t250),t234)),(t245,t246)))),(t236,t237))),(t232,t240)),(((t257,t258),(((t267,(t274,t275)),t261),t251)),((t253,(((t264,t265),t260),t254)),((((t266,(t272,t273)),t259),(t255,((t262,t263),t256))),(t252,((t268,t269),(t270,t271)))))))),((t76,(((((t92,t93),t85),((((t90,t91),t82),(t83,t84)),t95)),(t78,t79)),((((((t99,t100),t88),(t86,t87)),(t97,t98)),t77),(((t94,t96),t89),(t80,t81))))),(((((t160,t161),(t167,t168)),((t162,t163),(t151,t155))),((t158,t159),((((t153,t154),(t156,t157)),(t165,t166)),(((((t174,t175),((t170,t171),t169)),t164),(t172,t173)),t152)))),(((((((t195,t196),(t191,t192)),(t180,t181)),((((t187,t188),t184),t183),t176)),(t177,(((t199,t200),(t185,(t189,t190))),((t179,t186),((t197,t198),t182))))),(t178,(t193,t194))),((((t401,(((t407,(t408,(t416,t417))),(t405,t406)),((((t420,t421),t411),(t402,(t403,((((t412,t413),(t418,t419)),(t422,t423)),t404)))),(((t424,t425),(t414,t415)),(t409,t410))))),((((t447,t448),((((t449,t450),((t434,t435),((t441,t442),t428))),(((t430,t431),t429),(((t445,t446),(t437,t438)),((t439,t440),t436)))),((t432,t433),(t443,t444)))),t427),t426)),((t326,(t327,t328)),(((t339,((t347,t348),t340)),(t335,(t345,t346))),((((t331,t332),t330),(t343,t344)),((t329,((t341,t342),t334)),(((t337,t338),t336),((t349,t350),t333))))))),((((t217,t218),(((t204,t205),(t221,(t222,t223))),((t214,(t219,t220)),t207))),t201),(((t224,t225),((t206,(t210,t211)),((t215,t216),(t202,t203)))),((t212,t213),(t208,t209))))))))),(((((((t359,t360),(t356,(t364,t365))),t355),((((t366,t367),t363),t362),(t361,(t374,t375)))),((t353,(t357,t358)),t352)),(((((t371,t372),t373),((t370,t369),t368)),t354),t351)),(((t389,t391),(t378,(t397,t398))),(((t383,t384),((t394,(t399,t400)),t390)),((((t379,(t380,t381)),(t376,t377)),((t387,t388),(t382,(t385,t386)))),((t395,t396),(t392,t393))))))),((((t66,t67),(((t74,t75),t51),((((t55,t56),(((t70,t71),t54),(t52,t53))),((t58,t59),((t61,t63),(t68,t69)))),((t57,t62),((t64,t65),((t72,t73),t60)))))),((((t469,(t470,t471)),((((t465,t466),(t460,t461)),(t455,t456)),(((((t467,t468),(t459,(t462,t463))),t452),t451),(((t472,t473),t464),t453)))),((t474,t475),((t457,t458),t454))),(((t483,t484),((((t477,((t482,(t490,(t493,t494))),(t491,t492))),((t495,t496),t480)),t476),(t478,t479))),((t481,((t488,t489),(t485,t486))),(((t499,t500),t487),(t497,t498)))))),(((((t29,(((t45,t46),t38),((t44,(t49,t50)),(t36,t37)))),(((t28,(t30,t31)),(t41,t42)),((t33,t34),(((t27,(t39,t40)),t26),t32)))),((t43,(t47,t48)),t35)),((((t120,t121),t115),(((t101,t102),(((t111,t112),t109),(((t113,t114),(t107,t108)),t105))),((((t118,t119),(t122,t123)),(t104,(((t110,(t116,t117)),(t124,t125)),t106))),t103))),(t126,((((t131,((t134,t135),(t147,t148))),(((t139,(t145,t146)),t138),((((t149,t150),t140),t133),(((t142,t141),(t132,(t143,t144))),t130)))),t127),((t136,t137),(t128,t129)))))),(((((((t282,(t289,(t291,t292))),(t293,t294)),((t279,t280),t278)),t276),(((t284,t285),t283),t277)),((t299,t300),(((t281,((t287,t288),t286)),(t295,t296)),(t290,(t297,t298))))),((((t301,((t319,t322),(t324,t325))),((t309,t310),(t314,t323))),(((t307,t308),((t305,t306),(t315,t316))),((t303,(((t311,(t317,t318)),(t312,t313)),t304)),t302))),(t320,t321)))))),OUTGROUP);\n"
     ]
    }
   ],
   "source": [
    "for e in true_net.edge e.length = -1. end\n",
    "println(writeTopology(majorTree(true_net)))"
   ]
  },
  {
   "cell_type": "markdown",
   "id": "b6f6407b",
   "metadata": {},
   "source": [
    "# Save results"
   ]
  },
  {
   "cell_type": "code",
   "execution_count": null,
   "id": "e3fed1c3",
   "metadata": {},
   "outputs": [],
   "source": [
    "save_estimated_gts_results(\n",
    "    \"$(ntaxa)\", true_net, replicatenum, ngt, ils_level,\n",
    "    m, dmethod, seq_len, mnet, est_constraints,\n",
    "    est_gts, est_constraint_runtimes, inphynet_time\n",
    ")"
   ]
  }
 ],
 "metadata": {
  "kernelspec": {
   "display_name": "Julia 1.9.3",
   "language": "julia",
   "name": "julia-1.9"
  },
  "language_info": {
   "file_extension": ".jl",
   "mimetype": "application/julia",
   "name": "julia",
   "version": "1.9.3"
  }
 },
 "nbformat": 4,
 "nbformat_minor": 5
}
